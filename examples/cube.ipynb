{
 "cells": [
  {
   "cell_type": "code",
   "execution_count": 1,
   "metadata": {},
   "outputs": [
    {
     "name": "stdout",
     "output_type": "stream",
     "text": [
      "Overwriting auto display for cadquery Workplane and Shape\n",
      " \n"
     ]
    },
    {
     "data": {
      "application/vnd.jupyter.widget-view+json": {
       "model_id": "0f8aa5763a8346118a1a2221ce6867a8",
       "version_major": 2,
       "version_minor": 0
      },
      "text/plain": [
       "CadViewerWidget(anchor=None, cad_width=800, height=600, pinning=False, theme='dark', title=None, tree_width=25…"
      ]
     },
     "metadata": {},
     "output_type": "display_data"
    },
    {
     "data": {
      "text/html": [
       "<div></div>"
      ],
      "text/plain": [
       "<IPython.core.display.HTML object>"
      ]
     },
     "metadata": {},
     "output_type": "display_data"
    },
    {
     "name": "stdout",
     "output_type": "stream",
     "text": [
      "Info    : Meshing 1D...\n",
      "Info    : [  0%] Meshing curve 1 (Line)\n",
      "Info    : [ 10%] Meshing curve 2 (Line)\n",
      "Info    : [ 10%] Meshing curve 3 (Line)\n",
      "Info    : [ 10%] Meshing curve 4 (Line)\n",
      "Info    : [ 20%] Meshing curve 5 (Line)\n",
      "Info    : [ 20%] Meshing curve 6 (Line)\n",
      "Info    : [ 20%] Meshing curve 7 (Line)\n",
      "Info    : [ 30%] Meshing curve 8 (Line)\n",
      "Info    : [ 30%] Meshing curve 9 (Line)\n",
      "Info    : [ 30%] Meshing curve 10 (Line)\n",
      "Info    : [ 40%] Meshing curve 11 (Line)\n",
      "Info    : [ 40%] Meshing curve 12 (Line)\n",
      "Info    : [ 40%] Meshing curve 13 (Line)\n",
      "Info    : [ 50%] Meshing curve 14 (Line)\n",
      "Info    : [ 50%] Meshing curve 15 (Line)\n",
      "Info    : [ 50%] Meshing curve 16 (Line)\n",
      "Info    : [ 50%] Meshing curve 17 (Line)\n",
      "Info    : [ 60%] Meshing curve 18 (Line)\n",
      "Info    : [ 60%] Meshing curve 19 (Line)\n",
      "Info    : [ 60%] Meshing curve 20 (Line)\n",
      "Info    : [ 70%] Meshing curve 21 (Line)\n",
      "Info    : [ 70%] Meshing curve 22 (Line)\n",
      "Info    : [ 70%] Meshing curve 23 (Line)\n",
      "Info    : [ 80%] Meshing curve 24 (Line)\n",
      "Info    : [ 80%] Meshing curve 25 (Line)\n",
      "Info    : [ 80%] Meshing curve 26 (Line)\n",
      "Info    : [ 90%] Meshing curve 27 (Line)\n",
      "Info    : [ 90%] Meshing curve 28 (Line)\n",
      "Info    : [ 90%] Meshing curve 29 (Line)\n",
      "Info    : [100%] Meshing curve 30 (Line)\n",
      "Info    : [100%] Meshing curve 31 (Line)\n",
      "Info    : [100%] Meshing curve 32 (Line)\n",
      "Info    : Done meshing 1D (Wall 0.00138483s, CPU 0.001871s)\n",
      "Info    : Meshing 2D...\n",
      "Info    : [  0%] Meshing surface 1 (Transfinite)\n",
      "Info    : [ 10%] Meshing surface 2 (Transfinite)\n",
      "Info    : [ 10%] Meshing surface 3 (Transfinite)\n",
      "Info    : [ 20%] Meshing surface 4 (Transfinite)\n",
      "Info    : [ 20%] Meshing surface 5 (Transfinite)\n",
      "Info    : [ 30%] Meshing surface 6 (Transfinite)\n",
      "Info    : [ 30%] Meshing surface 7 (Transfinite)\n",
      "Info    : [ 40%] Meshing surface 8 (Transfinite)\n",
      "Info    : [ 40%] Meshing surface 9 (Transfinite)\n",
      "Info    : [ 50%] Meshing surface 10 (Transfinite)\n",
      "Info    : [ 50%] Meshing surface 11 (Transfinite)\n",
      "Info    : [ 60%] Meshing surface 12 (Transfinite)\n",
      "Info    : [ 60%] Meshing surface 13 (Transfinite)\n",
      "Info    : [ 70%] Meshing surface 14 (Transfinite)\n",
      "Info    : [ 70%] Meshing surface 15 (Transfinite)\n",
      "Info    : [ 80%] Meshing surface 16 (Transfinite)\n",
      "Info    : [ 80%] Meshing surface 17 (Transfinite)\n",
      "Info    : [ 90%] Meshing surface 18 (Transfinite)\n",
      "Info    : [ 90%] Meshing surface 19 (Transfinite)\n",
      "Info    : [100%] Meshing surface 20 (Transfinite)\n",
      "Info    : Done meshing 2D (Wall 0.00750496s, CPU 0.007794s)\n",
      "Info    : Meshing 3D...\n",
      "Info    : Meshing volume 1 (Transfinite)\n",
      "Info    : Meshing volume 2 (Transfinite)\n",
      "Info    : Meshing volume 3 (Transfinite)\n",
      "Info    : Meshing volume 4 (Transfinite)\n",
      "Info    : Done meshing 3D (Wall 0.106467s, CPU 0.086304s)\n",
      "Info    : Optimizing mesh...\n",
      "Info    : Done optimizing mesh (Wall 0.00755871s, CPU 0.007362s)\n",
      "Info    : 760500 nodes 806400 elements\n",
      "-------------------------------------------------------\n",
      "Version       : 4.11.1\n",
      "License       : GNU General Public License\n",
      "Build OS      : MacOSARM-sdk\n",
      "Build date    : 20221221\n",
      "Build host    : gmsh.info\n",
      "Build options : 64Bit ALGLIB[contrib] ANN[contrib] Bamg Blas[petsc] Blossom Cgns DIntegration Dlopen DomHex Eigen[contrib] Fltk GMP Gmm[contrib] Hxt Jpeg Kbipack Lapack[petsc] MathEx[contrib] Med Mesh Metis[contrib] Mpeg Netgen ONELAB ONELABMetamodel OpenCASCADE OpenCASCADE-CAF OpenGL OpenMP OptHom PETSc Parser Plugins Png Post QuadMeshingTools QuadTri Solver TetGen/BR TouchBar Voro++[contrib] WinslowUntangler Zlib\n",
      "FLTK version  : 1.4.0\n",
      "PETSc version : 3.17.4 (real arithmtic)\n",
      "OCC version   : 7.6.1\n",
      "MED version   : 4.1.0\n",
      "Packaged by   : geuzaine\n",
      "Web site      : https://gmsh.info\n",
      "Issue tracker : https://gitlab.onelab.info/gmsh/gmsh/issues\n",
      "-------------------------------------------------------\n"
     ]
    },
    {
     "ename": "",
     "evalue": "",
     "output_type": "error",
     "traceback": [
      "\u001b[1;31mThe Kernel crashed while executing code in the the current cell or a previous cell. Please review the code in the cell(s) to identify a possible cause of the failure. Click <a href='https://aka.ms/vscodeJupyterKernelCrash'>here</a> for more info. View Jupyter <a href='command:jupyter.viewOutput'>log</a> for further details."
     ]
    }
   ],
   "source": [
    "import cadquery as cq\n",
    "from ezmesh import GeometryQL, Split\n",
    "\n",
    "with GeometryQL() as geo:\n",
    "    (\n",
    "        geo\n",
    "        .load(\n",
    "            (\n",
    "                cq.Workplane(\"XY\")\n",
    "                .box(10,10,10)\n",
    "                .rect(2, 2)\n",
    "                .cutThruAll()\n",
    "            ),\n",
    "            splits= lambda workplane: [\n",
    "                Split.from_plane(angle=(90,90,0)),\n",
    "                Split.from_plane(angle=(-90,90,0)),\n",
    "            ],\n",
    "            use_cache=True\n",
    "        )\n",
    "        .show()\n",
    "        .setTransfiniteAuto(max_nodes=300)\n",
    "        .recombine()        \n",
    "        .generate(3)\n",
    "        .show(\"gmsh\")\n",
    "    )"
   ]
  },
  {
   "cell_type": "code",
   "execution_count": 3,
   "metadata": {},
   "outputs": [
    {
     "ename": "",
     "evalue": "",
     "output_type": "error",
     "traceback": [
      "\u001b[1;31mThe Kernel crashed while executing code in the the current cell or a previous cell. Please review the code in the cell(s) to identify a possible cause of the failure. Click <a href='https://aka.ms/vscodeJupyterKernelCrash'>here</a> for more info. View Jupyter <a href='command:jupyter.viewOutput'>log</a> for further details."
     ]
    }
   ],
   "source": []
  }
 ],
 "metadata": {
  "kernelspec": {
   "display_name": "cadquery",
   "language": "python",
   "name": "python3"
  },
  "language_info": {
   "codemirror_mode": {
    "name": "ipython",
    "version": 3
   },
   "file_extension": ".py",
   "mimetype": "text/x-python",
   "name": "python",
   "nbconvert_exporter": "python",
   "pygments_lexer": "ipython3",
   "version": "3.11.4"
  },
  "orig_nbformat": 4
 },
 "nbformat": 4,
 "nbformat_minor": 2
}
