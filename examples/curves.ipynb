{
 "cells": [
  {
   "attachments": {},
   "cell_type": "markdown",
   "metadata": {},
   "source": [
    "# BSpline Example"
   ]
  },
  {
   "cell_type": "code",
   "execution_count": 1,
   "metadata": {},
   "outputs": [
    {
     "name": "stdout",
     "output_type": "stream",
     "text": [
      "Info    : Meshing 1D...\n",
      "Info    : [  0%] Meshing curve 1 (Line)\n",
      "Info    : [ 30%] Meshing curve 2 (Line)\n",
      "Info    : [ 50%] Meshing curve 3 (Nurb)\n",
      "Info    : [ 80%] Meshing curve 4 (Line)\n",
      "Info    : Done meshing 1D (Wall 0.00406992s, CPU 0.003082s)\n",
      "Info    : Meshing 2D...\n",
      "Info    : Meshing surface 1 (Plane, Frontal-Delaunay)\n",
      "Info    : Done meshing 2D (Wall 0.00258282s, CPU 0.002584s)\n",
      "Info    : Meshing 3D...\n",
      "Info    : Done meshing 3D (Wall 1.8636e-05s, CPU 1.5e-05s)\n",
      "Info    : 89 nodes 178 elements\n"
     ]
    },
    {
     "name": "stderr",
     "output_type": "stream",
     "text": [
      "/usr/local/lib/python3.7/site-packages/pythreejs/traits.py:257: UserWarning: 64-bit data types not supported for WebGL data, casting to 32-bit.\n",
      "  warnings.warn('64-bit data types not supported for WebGL '\n"
     ]
    },
    {
     "data": {
      "application/vnd.jupyter.widget-view+json": {
       "model_id": "f169bde994804cf886651bb85785a317",
       "version_major": 2,
       "version_minor": 0
      },
      "text/plain": [
       "HTML(value='Coords: ()')"
      ]
     },
     "metadata": {},
     "output_type": "display_data"
    },
    {
     "data": {
      "application/vnd.jupyter.widget-view+json": {
       "model_id": "2757476778ba4db89f82575afcee7ee0",
       "version_major": 2,
       "version_minor": 0
      },
      "text/plain": [
       "Renderer(camera=PerspectiveCamera(aspect=1.3333333333333333, far=1000.0, near=0.001, position=(0.0, 0.0, 1.0),…"
      ]
     },
     "metadata": {},
     "output_type": "display_data"
    },
    {
     "data": {
      "text/html": [
       "<div style=\"float: left; padding-right: 50px\"><h2>Markers</h2><table><tr><td style=\"background-color: rgb(248,34,34)\" width=\"20\"></td><td>outlet</td></tr><tr><td style=\"background-color: rgb(29,244,29)\" width=\"20\"></td><td>wall</td></tr><tr><td style=\"background-color: rgb(46,46,249)\" width=\"20\"></td><td>freestream</td></tr></table></div><div style=\"float: left; padding-right: 50px\"><h2>Zones</h2><table><tr><td style=\"background-color: rgb(127,127,127)\" width=\"20\"></td><td>Zone 0</td></tr></table></div>"
      ],
      "text/plain": [
       "<IPython.core.display.HTML object>"
      ]
     },
     "metadata": {},
     "output_type": "display_data"
    }
   ],
   "source": [
    "from ezmesh import CurveLoop, Geometry, PlaneSurface, TransfiniteSurfaceField, TransfiniteCurveField, visualize_mesh\n",
    "import numpy as np\n",
    "\n",
    "with Geometry() as geo:\n",
    "    square_coords = np.array([[0,0], [1,0], [2,0.5], [2,2], [1, 2], [0,2]])\n",
    "    loop = CurveLoop.from_coords(\n",
    "        [\n",
    "             np.array([[0,0], [1,0], [2,0.5]]),\n",
    "             (\"BSpline\", np.array([[2,2], [1, 2], [0,2]]))\n",
    "        ], \n",
    "        mesh_size = 0.25, \n",
    "        labels=[\"wall/1\", \"wall/2\", \"outlet\", \"freestream\", \"inlet\"],\n",
    "    )\n",
    "    surface = PlaneSurface(\n",
    "        outlines=[loop],\n",
    "    )\n",
    "    mesh = geo.generate(surface)\n",
    "    visualize_mesh(mesh)\n"
   ]
  }
 ],
 "metadata": {
  "kernelspec": {
   "display_name": "Python 3",
   "language": "python",
   "name": "python3"
  },
  "language_info": {
   "codemirror_mode": {
    "name": "ipython",
    "version": 3
   },
   "file_extension": ".py",
   "mimetype": "text/x-python",
   "name": "python",
   "nbconvert_exporter": "python",
   "pygments_lexer": "ipython3",
   "version": "3.7.16"
  },
  "orig_nbformat": 4
 },
 "nbformat": 4,
 "nbformat_minor": 2
}
