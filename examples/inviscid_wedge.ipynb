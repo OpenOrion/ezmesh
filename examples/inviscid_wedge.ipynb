{
 "cells": [
  {
   "attachments": {},
   "cell_type": "markdown",
   "metadata": {},
   "source": [
    "# Meshing"
   ]
  },
  {
   "attachments": {},
   "cell_type": "markdown",
   "metadata": {},
   "source": [
    "## Inviscid Wedge\n",
    "![Inviscid Wedge](../assets/inviscid_wedge.png)\n",
    "\n",
    "https://su2code.github.io/tutorials/Inviscid_Wedge/"
   ]
  },
  {
   "attachments": {},
   "cell_type": "markdown",
   "metadata": {},
   "source": [
    "# Method 1: Manually define lines and points"
   ]
  },
  {
   "cell_type": "code",
   "execution_count": 4,
   "metadata": {},
   "outputs": [
    {
     "name": "stdout",
     "output_type": "stream",
     "text": [
      "Info    : Meshing 1D...\n",
      "Info    : [  0%] Meshing curve 1 (Line)\n",
      "Info    : [ 20%] Meshing curve 2 (Line)\n",
      "Info    : [ 40%] Meshing curve 3 (Line)\n",
      "Info    : [ 60%] Meshing curve 4 (Line)\n",
      "Info    : [ 80%] Meshing curve 5 (Line)\n",
      "Info    : Done meshing 1D (Wall 0.00759835s, CPU 0.005874s)\n",
      "Info    : Meshing 2D...\n",
      "Info    : Meshing surface 1 (Plane, Frontal-Delaunay)\n",
      "Info    : Done meshing 2D (Wall 1.5168s, CPU 1.42546s)\n",
      "Info    : Meshing 3D...\n",
      "Info    : Done meshing 3D (Wall 3.59881e-05s, CPU 3e-05s)\n",
      "Info    : 26726 nodes 53455 elements\n"
     ]
    },
    {
     "data": {
      "application/vnd.jupyter.widget-view+json": {
       "model_id": "40ad9689fb1946ceb86e1a0bd24741ad",
       "version_major": 2,
       "version_minor": 0
      },
      "text/plain": [
       "HTML(value='Coords: ()')"
      ]
     },
     "metadata": {},
     "output_type": "display_data"
    },
    {
     "data": {
      "application/vnd.jupyter.widget-view+json": {
       "model_id": "b14fbe0aace947cfabcda1f71ce95cf3",
       "version_major": 2,
       "version_minor": 0
      },
      "text/plain": [
       "Renderer(camera=PerspectiveCamera(aspect=1.3333333333333333, far=1000.0, near=0.001, position=(0.0, 0.0, 1.0),…"
      ]
     },
     "metadata": {},
     "output_type": "display_data"
    },
    {
     "data": {
      "text/html": [
       "<div style=\"float: left; padding-right: 50px\"><h2>Markers</h2><table><tr><td style=\"background-color: rgb(251,16,16)\" width=\"20\"></td><td>inlet</td></tr><tr><td style=\"background-color: rgb(145,246,44)\" width=\"20\"></td><td>lower</td></tr><tr><td style=\"background-color: rgb(18,244,244)\" width=\"20\"></td><td>outlet</td></tr><tr><td style=\"background-color: rgb(137,24,250)\" width=\"20\"></td><td>upper</td></tr></table></div><div style=\"float: left; padding-right: 50px\"><h2>Zones</h2><table><tr><td style=\"background-color: rgb(127,127,127)\" width=\"20\"></td><td>Zone 0</td></tr></table></div>"
      ],
      "text/plain": [
       "<IPython.core.display.HTML object>"
      ]
     },
     "metadata": {},
     "output_type": "display_data"
    },
    {
     "name": "stdout",
     "output_type": "stream",
     "text": [
      "Info    : Writing 'mesh_wedge_inv.su2'...\n",
      "Info    : Writing 52750 elements and 26726 nodes\n",
      "Info    : Done writing 'mesh_wedge_inv.su2'\n"
     ]
    }
   ],
   "source": [
    "from typing import List\n",
    "from ezmesh import CurveLoop, TransfinitePlaneSurface, Geometry, Point, Line, TransfiniteLine, TransfinitePlaneSurface, visualize_mesh\n",
    "\n",
    "\n",
    "with Geometry() as geo:\n",
    "    mesh_size=0.05\n",
    "    points = [\n",
    "        Point([0, 1], mesh_size),\n",
    "        Point([1.5, 1], mesh_size),\n",
    "        Point([1.5, 0.2], mesh_size),\n",
    "        Point([0.5, 0], mesh_size),\n",
    "        Point([0, 0], mesh_size),\n",
    "    ]\n",
    "\n",
    "    lines: List[Line] = [\n",
    "        TransfiniteLine(start=points[0], end=points[1], label=\"upper\", cell_count=150),\n",
    "        TransfiniteLine(start=points[1], end=points[2], label=\"outlet\", cell_count=200),\n",
    "        TransfiniteLine(start=points[2], end=points[3], label=\"lower\", cell_count=100),\n",
    "        TransfiniteLine(start=points[3], end=points[4], label=\"lower\", cell_count=50),\n",
    "        TransfiniteLine(start=points[4], end=points[0], label=\"inlet\", cell_count=200),\n",
    "    ]\n",
    "\n",
    "    wedge_curve_loop = CurveLoop(lines)\n",
    "    surface = TransfinitePlaneSurface(\n",
    "        outlines=[wedge_curve_loop], \n",
    "        is_quad_mesh=True, \n",
    "        corners=[]\n",
    "    )\n",
    "    mesh = geo.generate(surface)\n",
    "    visualize_mesh(mesh)\n",
    "    geo.write(\"mesh_wedge_inv.su2\")\n",
    "\n",
    "\n",
    "# %%\n"
   ]
  },
  {
   "attachments": {},
   "cell_type": "markdown",
   "metadata": {},
   "source": [
    "## Method 2: Automatically generate points and lines"
   ]
  },
  {
   "cell_type": "code",
   "execution_count": 2,
   "metadata": {},
   "outputs": [
    {
     "name": "stdout",
     "output_type": "stream",
     "text": [
      "Info    : Meshing 1D...\n",
      "Info    : [  0%] Meshing curve 1 (Line)\n",
      "Info    : [ 20%] Meshing curve 2 (Line)\n",
      "Info    : [ 40%] Meshing curve 3 (Line)\n",
      "Info    : [ 60%] Meshing curve 4 (Line)\n",
      "Info    : [ 80%] Meshing curve 5 (Line)\n",
      "Info    : Done meshing 1D (Wall 0.0020392s, CPU 0.001445s)\n",
      "Info    : Meshing 2D...\n",
      "Info    : Meshing surface 1 (Transfinite)\n",
      "Info    : Done meshing 2D (Wall 0.00976s, CPU 0.009549s)\n",
      "Info    : Meshing 3D...\n",
      "Info    : Done meshing 3D (Wall 1.14189e-05s, CPU 1.2e-05s)\n",
      "Info    : 30351 nodes 30705 elements\n"
     ]
    },
    {
     "data": {
      "application/vnd.jupyter.widget-view+json": {
       "model_id": "5eca0e27348f49a4abbb7a7d7aaf3ec6",
       "version_major": 2,
       "version_minor": 0
      },
      "text/plain": [
       "HTML(value='Coords: ()')"
      ]
     },
     "metadata": {},
     "output_type": "display_data"
    },
    {
     "data": {
      "application/vnd.jupyter.widget-view+json": {
       "model_id": "1c37cdf80e7041a6829906d1d394389f",
       "version_major": 2,
       "version_minor": 0
      },
      "text/plain": [
       "Renderer(camera=PerspectiveCamera(aspect=1.3333333333333333, far=1000.0, near=0.001, position=(0.0, 0.0, 1.0),…"
      ]
     },
     "metadata": {},
     "output_type": "display_data"
    },
    {
     "data": {
      "text/html": [
       "<div style=\"float: left; padding-right: 50px\"><h2>Markers</h2><table><tr><td style=\"background-color: rgb(252,7,7)\" width=\"20\"></td><td>upper</td></tr><tr><td style=\"background-color: rgb(145,250,40)\" width=\"20\"></td><td>inlet</td></tr><tr><td style=\"background-color: rgb(5,251,251)\" width=\"20\"></td><td>lower</td></tr><tr><td style=\"background-color: rgb(139,31,247)\" width=\"20\"></td><td>outlet</td></tr></table></div><div style=\"float: left; padding-right: 50px\"><h2>Zones</h2><table><tr><td style=\"background-color: rgb(127,127,127)\" width=\"20\"></td><td>Zone 0</td></tr></table></div>"
      ],
      "text/plain": [
       "<IPython.core.display.HTML object>"
      ]
     },
     "metadata": {},
     "output_type": "display_data"
    },
    {
     "name": "stdout",
     "output_type": "stream",
     "text": [
      "Info    : Writing 'mesh_wedge_inv.su2'...\n",
      "Info    : Writing 30000 elements and 30351 nodes\n",
      "Info    : Done writing 'mesh_wedge_inv.su2'\n"
     ]
    }
   ],
   "source": [
    "from ezmesh import CurveLoop, PlaneSurface, Geometry, visualize_mesh\n",
    "import numpy as np\n",
    "\n",
    "with Geometry() as geo:\n",
    "    wedge_coords = np.array([[0, 1], [1.5, 1], [1.5, 0.2], [0.5, 0], [0, 0]])\n",
    "    wedge_curve_loop = CurveLoop(\n",
    "        wedge_coords, \n",
    "        mesh_size=0.05,\n",
    "        labels={\n",
    "            \"upper\":  [0],\n",
    "            \"lower\":  [2,3],\n",
    "            \"inlet\":  [4],\n",
    "            \"outlet\": [1],\n",
    "        },\n",
    "        transfinite_cell_counts={\n",
    "            150: [0],\n",
    "            200: [1,4],\n",
    "            100: [2],\n",
    "            50:  [3]\n",
    "        }\n",
    "    )\n",
    "    surface = PlaneSurface(wedge_curve_loop, is_quad_mesh=True, transfinite_corners=[0,1,2,4])\n",
    "    mesh = geo.generate(surface)\n",
    "    visualize_mesh(mesh)\n",
    "    geo.write(\"mesh_wedge_inv.su2\")\n",
    "\n"
   ]
  },
  {
   "attachments": {},
   "cell_type": "markdown",
   "metadata": {},
   "source": [
    "## Import Existing Supported Meshes"
   ]
  },
  {
   "cell_type": "code",
   "execution_count": 7,
   "metadata": {},
   "outputs": [
    {
     "data": {
      "application/vnd.jupyter.widget-view+json": {
       "model_id": "db75479429734dc1bc7026c4451a6b9d",
       "version_major": 2,
       "version_minor": 0
      },
      "text/plain": [
       "HTML(value='Coords: ()')"
      ]
     },
     "metadata": {},
     "output_type": "display_data"
    },
    {
     "data": {
      "application/vnd.jupyter.widget-view+json": {
       "model_id": "4a19001c49a24c87b8edb5c671fc02c7",
       "version_major": 2,
       "version_minor": 0
      },
      "text/plain": [
       "Renderer(camera=PerspectiveCamera(aspect=1.3333333333333333, far=1000.0, near=0.001, position=(0.0, 0.0, 1.0),…"
      ]
     },
     "metadata": {},
     "output_type": "display_data"
    },
    {
     "data": {
      "text/html": [
       "<div style=\"float: left; padding-right: 50px\"><h2>Markers</h2><table><tr><td style=\"background-color: rgb(249,55,55)\" width=\"20\"></td><td> upper</td></tr><tr><td style=\"background-color: rgb(140,248,32)\" width=\"20\"></td><td> inlet</td></tr><tr><td style=\"background-color: rgb(17,243,243)\" width=\"20\"></td><td> lower</td></tr><tr><td style=\"background-color: rgb(152,60,245)\" width=\"20\"></td><td> outlet</td></tr></table></div><div style=\"float: left; padding-right: 50px\"><h2>Zones</h2><table><tr><td style=\"background-color: rgb(127,127,127)\" width=\"20\"></td><td>Zone 0</td></tr></table></div>"
      ],
      "text/plain": [
       "<IPython.core.display.HTML object>"
      ]
     },
     "metadata": {},
     "output_type": "display_data"
    }
   ],
   "source": [
    "from ezmesh import import_from_file\n",
    "from ezmesh import visualize_mesh\n",
    "mesh = import_from_file(\"mesh_wedge_inv.su2\")\n",
    "visualize_mesh(mesh)"
   ]
  },
  {
   "attachments": {},
   "cell_type": "markdown",
   "metadata": {},
   "source": [
    "# Export SU2 Multi-Zone"
   ]
  },
  {
   "cell_type": "code",
   "execution_count": 8,
   "metadata": {},
   "outputs": [],
   "source": [
    "from ezmesh.exporters import export_to_su2\n",
    "\n",
    "export_to_su2([mesh,mesh], \"mesh_wedge_inv_copy.su2\")"
   ]
  }
 ],
 "metadata": {
  "kernelspec": {
   "display_name": "Python 3",
   "language": "python",
   "name": "python3"
  },
  "language_info": {
   "codemirror_mode": {
    "name": "ipython",
    "version": 3
   },
   "file_extension": ".py",
   "mimetype": "text/x-python",
   "name": "python",
   "nbconvert_exporter": "python",
   "pygments_lexer": "ipython3",
   "version": "3.10.10"
  },
  "orig_nbformat": 4,
  "vscode": {
   "interpreter": {
    "hash": "949777d72b0d2535278d3dc13498b2535136f6dfe0678499012e853ee9abcab1"
   }
  }
 },
 "nbformat": 4,
 "nbformat_minor": 2
}
