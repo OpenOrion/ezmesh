{
    "cells": [
        {
            "attachments": {},
            "cell_type": "markdown",
            "metadata": {},
            "source": [
                "# Meshing"
            ]
        },
        {
            "attachments": {},
            "cell_type": "markdown",
            "metadata": {},
            "source": [
                "## Inviscid Wedge\n",
                "![Inviscid Wedge](../assets/inviscid_wedge.png)\n",
                "\n",
                "https://su2code.github.io/tutorials/Inviscid_Wedge/"
            ]
        },
        {
            "attachments": {},
            "cell_type": "markdown",
            "metadata": {},
            "source": [
                "# Method 1: Manually define lines and points"
            ]
        },
        {
            "cell_type": "code",
            "execution_count": 3,
            "metadata": {},
            "outputs": [
                {
                    "name": "stdout",
                    "output_type": "stream",
                    "text": [
                        "Info    : Meshing 1D...\n",
                        "Info    : [  0%] Meshing curve 1 (Line)\n",
                        "Info    : [ 20%] Meshing curve 2 (Line)\n",
                        "Info    : [ 40%] Meshing curve 3 (Line)\n",
                        "Info    : [ 60%] Meshing curve 4 (Line)\n",
                        "Info    : [ 80%] Meshing curve 5 (Line)\n",
                        "Info    : Done meshing 1D (Wall 0.000687963s, CPU 0.001159s)\n",
                        "Info    : Meshing 2D...\n",
                        "Info    : Meshing surface 1 (Transfinite)\n",
                        "Info    : Done meshing 2D (Wall 0.00405129s, CPU 0.004092s)\n",
                        "Info    : Meshing 3D...\n",
                        "Info    : Done meshing 3D (Wall 1.1631e-05s, CPU 1.1e-05s)\n",
                        "Info    : 30352 nodes 30706 elements\n"
                    ]
                },
                {
                    "data": {
                        "application/vnd.jupyter.widget-view+json": {
                            "model_id": "8d71186d2a5f462f8d4b477d0a9e791a",
                            "version_major": 2,
                            "version_minor": 0
                        },
                        "text/plain": [
                            "HTML(value='Coords: ()')"
                        ]
                    },
                    "metadata": {},
                    "output_type": "display_data"
                },
                {
                    "data": {
                        "application/vnd.jupyter.widget-view+json": {
                            "model_id": "bdc8e8f20b0e441fa31a8da8313e4253",
                            "version_major": 2,
                            "version_minor": 0
                        },
                        "text/plain": [
                            "Renderer(camera=PerspectiveCamera(aspect=1.3333333333333333, far=100000.0, near=0.001, position=(0.0, 0.0, 1.0…"
                        ]
                    },
                    "metadata": {},
                    "output_type": "display_data"
                },
                {
                    "data": {
                        "text/html": [
                            "<div style=\"float: left; padding-right: 50px\"><h2>Markers</h2><table><tr><td style=\"background-color: rgb(250,23,23)\" width=\"20\"></td><td>upper</td></tr><tr><td style=\"background-color: rgb(142,245,39)\" width=\"20\"></td><td>inlet</td></tr><tr><td style=\"background-color: rgb(44,244,244)\" width=\"20\"></td><td>lower</td></tr><tr><td style=\"background-color: rgb(127,2,252)\" width=\"20\"></td><td>outlet</td></tr></table></div><div style=\"float: left; padding-right: 50px\"><h2>Zones</h2><table><tr><td style=\"background-color: rgb(127,127,127)\" width=\"20\"></td><td>Zone 0</td></tr></table></div>"
                        ],
                        "text/plain": [
                            "<IPython.core.display.HTML object>"
                        ]
                    },
                    "metadata": {},
                    "output_type": "display_data"
                }
            ],
            "source": [
                "from typing import List\n",
                "from ezmesh import CurveLoop, PlaneSurface, TransfiniteSurfaceField, Geometry, Point, Line, TransfiniteCurveField, visualize_mesh\n",
                "from ezmesh.geometry import SegmentType\n",
                "import gmsh\n",
                "\n",
                "with Geometry() as geo:\n",
                "    mesh_size = 0.05\n",
                "\n",
                "    points = [\n",
                "        Point([0, 1], mesh_size),\n",
                "        Point([1.5, 1], mesh_size),\n",
                "        Point([1.5, 0.2], mesh_size),\n",
                "        Point([0.5, 0], mesh_size),\n",
                "        Point([0, 0], mesh_size),\n",
                "    ]\n",
                "\n",
                "    segments: List[SegmentType] = [\n",
                "        Line(start=points[0], end=points[1], label=\"upper\"),\n",
                "        Line(start=points[1], end=points[2], label=\"outlet\"),\n",
                "        Line(start=points[2], end=points[3], label=\"lower/1\"),\n",
                "        Line(start=points[3], end=points[4], label=\"lower/2\"),\n",
                "        Line(start=points[4], end=points[0], label=\"inlet\"),\n",
                "    ]\n",
                "\n",
                "    transfinite_field = TransfiniteCurveField(node_counts=[150,200,100,50,200])\n",
                "\n",
                "    wedge_curve_loop = CurveLoop(segments, fields=[transfinite_field])\n",
                "    surface = PlaneSurface(\n",
                "        outlines=[wedge_curve_loop],\n",
                "        is_quad_mesh=True,\n",
                "        fields=[\n",
                "            TransfiniteSurfaceField([wedge_curve_loop.points[i] for i in [0, 1, 2, 4]])\n",
                "        ]\n",
                "    )\n",
                "    gmsh.model.geo.add_point(2,2,2,0.1)\n",
                "\n",
                "    mesh = geo.generate(surface)\n",
                "    visualize_mesh(mesh)\n",
                "    geo.write(\"mesh_wedge_inv.su2\")"
            ]
        },
        {
            "attachments": {},
            "cell_type": "markdown",
            "metadata": {},
            "source": [
                "## Method 2: Automatically generate points and lines"
            ]
        },
        {
            "cell_type": "code",
            "execution_count": 4,
            "metadata": {},
            "outputs": [
                {
                    "name": "stdout",
                    "output_type": "stream",
                    "text": [
                        "Info    : Meshing 1D...\n",
                        "Info    : [  0%] Meshing curve 1 (Line)\n",
                        "Info    : [ 20%] Meshing curve 2 (Line)\n",
                        "Info    : [ 40%] Meshing curve 3 (Line)\n",
                        "Info    : [ 60%] Meshing curve 4 (Line)\n",
                        "Info    : [ 80%] Meshing curve 5 (Line)\n",
                        "Info    : Done meshing 1D (Wall 0.000637603s, CPU 0.001187s)\n",
                        "Info    : Meshing 2D...\n",
                        "Info    : Meshing surface 1 (Transfinite)\n",
                        "Info    : Done meshing 2D (Wall 0.00869738s, CPU 0.007926s)\n",
                        "Info    : Meshing 3D...\n",
                        "Info    : Done meshing 3D (Wall 1.5447e-05s, CPU 1.4e-05s)\n",
                        "Info    : 30351 nodes 30705 elements\n"
                    ]
                },
                {
                    "data": {
                        "application/vnd.jupyter.widget-view+json": {
                            "model_id": "86bbbe38f5814f88b9ab3d4f2cef9fb0",
                            "version_major": 2,
                            "version_minor": 0
                        },
                        "text/plain": [
                            "HTML(value='Coords: ()')"
                        ]
                    },
                    "metadata": {},
                    "output_type": "display_data"
                },
                {
                    "data": {
                        "application/vnd.jupyter.widget-view+json": {
                            "model_id": "8570d63b29954a5ea6af36016116082e",
                            "version_major": 2,
                            "version_minor": 0
                        },
                        "text/plain": [
                            "Renderer(camera=PerspectiveCamera(aspect=1.3333333333333333, far=100000.0, near=0.001, position=(0.0, 0.0, 1.0…"
                        ]
                    },
                    "metadata": {},
                    "output_type": "display_data"
                },
                {
                    "data": {
                        "text/html": [
                            "<div style=\"float: left; padding-right: 50px\"><h2>Markers</h2><table><tr><td style=\"background-color: rgb(250,43,43)\" width=\"20\"></td><td>upper</td></tr><tr><td style=\"background-color: rgb(139,249,30)\" width=\"20\"></td><td>inlet</td></tr><tr><td style=\"background-color: rgb(34,254,254)\" width=\"20\"></td><td>lower</td></tr><tr><td style=\"background-color: rgb(128,13,244)\" width=\"20\"></td><td>outlet</td></tr></table></div><div style=\"float: left; padding-right: 50px\"><h2>Zones</h2><table><tr><td style=\"background-color: rgb(127,127,127)\" width=\"20\"></td><td>Zone 0</td></tr></table></div>"
                        ],
                        "text/plain": [
                            "<IPython.core.display.HTML object>"
                        ]
                    },
                    "metadata": {},
                    "output_type": "display_data"
                }
            ],
            "source": [
                "from ezmesh import CurveLoop, PlaneSurface, TransfiniteSurfaceField, TransfiniteCurveField, Geometry, visualize_mesh\n",
                "import numpy as np\n",
                "\n",
                "with Geometry() as geo:\n",
                "    wedge_coords = np.array([[0, 1], [1.5, 1], [1.5, 0.2], [0.5, 0], [0, 0]])\n",
                "    \n",
                "    wedge_curve_loop = CurveLoop.from_coords(\n",
                "        wedge_coords, \n",
                "        mesh_size = 0.05,\n",
                "        curve_labels=[\"upper\", \"outlet\", \"lower/1\", \"lower/2\", \"inlet\"],\n",
                "        fields=[\n",
                "           TransfiniteCurveField(node_counts=[150,200,100,50,200])\n",
                "        ]\n",
                "    )\n",
                "    surface = PlaneSurface(\n",
                "        outlines=[wedge_curve_loop],\n",
                "        is_quad_mesh=True,\n",
                "        fields=[\n",
                "            TransfiniteSurfaceField(corners=[*wedge_curve_loop.get_points(\"upper\"), *wedge_curve_loop.get_points(\"lower\")])\n",
                "\n",
                "        ]\n",
                "    )\n",
                "    mesh = geo.generate(surface)\n",
                "    visualize_mesh(mesh)\n",
                "    geo.write(\"mesh_wedge_inv.su2\")"
            ]
        }
    ],
    "metadata": {
        "kernelspec": {
            "display_name": "Python 3",
            "language": "python",
            "name": "python3"
        },
        "language_info": {
            "codemirror_mode": {
                "name": "ipython",
                "version": 3
            },
            "file_extension": ".py",
            "mimetype": "text/x-python",
            "name": "python",
            "nbconvert_exporter": "python",
            "pygments_lexer": "ipython3",
            "version": "3.7.16"
        },
        "orig_nbformat": 4,
        "vscode": {
            "interpreter": {
                "hash": "949777d72b0d2535278d3dc13498b2535136f6dfe0678499012e853ee9abcab1"
            }
        }
    },
    "nbformat": 4,
    "nbformat_minor": 2
}
