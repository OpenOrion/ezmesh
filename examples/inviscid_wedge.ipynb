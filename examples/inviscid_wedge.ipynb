{
 "cells": [
  {
   "attachments": {},
   "cell_type": "markdown",
   "metadata": {},
   "source": [
    "# Meshing"
   ]
  },
  {
   "attachments": {},
   "cell_type": "markdown",
   "metadata": {},
   "source": [
    "## Inviscid Wedge\n",
    "![Inviscid Wedge Mesh](../assets/inviscid_wedge_mesh.png)\n",
    "![Inviscid Wedge](../assets/inviscid_wedge.png)\n",
    "\n",
    "https://su2code.github.io/tutorials/Inviscid_Wedge/"
   ]
  },
  {
   "cell_type": "code",
   "execution_count": 1,
   "metadata": {},
   "outputs": [
    {
     "name": "stdout",
     "output_type": "stream",
     "text": [
      "Info    : Meshing 1D...\n",
      "Info    : [  0%] Meshing curve 1 (Line)\n",
      "Info    : [ 20%] Meshing curve 2 (Line)\n",
      "Info    : [ 40%] Meshing curve 3 (Line)\n",
      "Info    : [ 60%] Meshing curve 4 (Line)\n",
      "Info    : [ 80%] Meshing curve 5 (Line)\n",
      "Info    : Done meshing 1D (Wall 0.00100934s, CPU 0.000942s)\n",
      "Info    : Meshing 2D...\n",
      "Info    : Meshing surface 1 (Transfinite)\n",
      "Info    : Done meshing 2D (Wall 0.00827382s, CPU 0.003146s)\n",
      "Info    : Meshing 3D...\n",
      "Info    : Done meshing 3D (Wall 1.978e-05s, CPU 1.5e-05s)\n",
      "Info    : 30351 nodes 60705 elements\n"
     ]
    },
    {
     "name": "stderr",
     "output_type": "stream",
     "text": [
      "/home/vscode/.local/lib/python3.10/site-packages/pythreejs/traits.py:257: UserWarning: 64-bit data types not supported for WebGL data, casting to 32-bit.\n",
      "  warnings.warn('64-bit data types not supported for WebGL '\n"
     ]
    },
    {
     "data": {
      "application/vnd.jupyter.widget-view+json": {
       "model_id": "dd20a9fa858c464b80fd8061f1278a5e",
       "version_major": 2,
       "version_minor": 0
      },
      "text/plain": [
       "HTML(value='Coords: ()')"
      ]
     },
     "metadata": {},
     "output_type": "display_data"
    },
    {
     "data": {
      "application/vnd.jupyter.widget-view+json": {
       "model_id": "6c60772615f24a8585a933ee29132250",
       "version_major": 2,
       "version_minor": 0
      },
      "text/plain": [
       "Renderer(camera=PerspectiveCamera(aspect=1.3333333333333333, far=1000.0, near=0.001, position=(0.0, 0.0, 1.0),…"
      ]
     },
     "metadata": {},
     "output_type": "display_data"
    },
    {
     "data": {
      "text/html": [
       "<div style=\"float: left; padding-right: 50px\"><h2>Markers</h2><table><tr><td style=\"background-color: rgb(247,18,18)\" width=\"20\"></td><td>upper</td></tr><tr><td style=\"background-color: rgb(134,246,23)\" width=\"20\"></td><td>outlet</td></tr><tr><td style=\"background-color: rgb(51,246,246)\" width=\"20\"></td><td>lower</td></tr><tr><td style=\"background-color: rgb(133,14,253)\" width=\"20\"></td><td>inlet</td></tr></table></div><div style=\"float: left; padding-right: 50px\"><h2>Zones</h2><table><tr><td style=\"background-color: rgb(127,127,127)\" width=\"20\"></td><td>Zone 0</td></tr></table></div>"
      ],
      "text/plain": [
       "<IPython.core.display.HTML object>"
      ]
     },
     "metadata": {},
     "output_type": "display_data"
    },
    {
     "name": "stdout",
     "output_type": "stream",
     "text": [
      "Info    : Writing 'mesh_wedge_inv.geo_unrolled'...\n",
      "Info    : Done writing 'mesh_wedge_inv.geo_unrolled'\n"
     ]
    }
   ],
   "source": [
    "from ezmesh import Mesh, CurveLoop, PlaneSurface, Geometry, visualize_mesh\n",
    "import numpy as np\n",
    "\n",
    "with Geometry() as geo:\n",
    "    wedge_coords = np.array([[0, 1], [1.5, 1], [1.5, 0.2], [0.5, 0], [0, 0]])\n",
    "    wedge_curve_loop = CurveLoop(\n",
    "        wedge_coords, \n",
    "        mesh_size=0.05,\n",
    "        labels={\n",
    "            \"upper\":  [0],\n",
    "            \"lower\":  [2,3],\n",
    "            \"inlet\":  [4],\n",
    "            \"outlet\": [1],\n",
    "        },\n",
    "        transfinite_cell_counts={\n",
    "            150: [0],\n",
    "            200: [1,4],\n",
    "            100: [2],\n",
    "            50:  [3]\n",
    "        }\n",
    "    )\n",
    "    surface = PlaneSurface(wedge_curve_loop, is_quad_mesh=True, transfinite_corners=[0,1,2,4])\n",
    "    geo.generate(surface)\n",
    "    mesh = geo.get_mesh()\n",
    "    visualize_mesh(mesh)\n",
    "    geo.write(\"mesh_wedge_inv.geo_unrolled\")\n",
    "\n"
   ]
  },
  {
   "cell_type": "code",
   "execution_count": null,
   "metadata": {},
   "outputs": [],
   "source": []
  }
 ],
 "metadata": {
  "kernelspec": {
   "display_name": "Python 3",
   "language": "python",
   "name": "python3"
  },
  "language_info": {
   "codemirror_mode": {
    "name": "ipython",
    "version": 3
   },
   "file_extension": ".py",
   "mimetype": "text/x-python",
   "name": "python",
   "nbconvert_exporter": "python",
   "pygments_lexer": "ipython3",
   "version": "3.10.9"
  },
  "orig_nbformat": 4,
  "vscode": {
   "interpreter": {
    "hash": "949777d72b0d2535278d3dc13498b2535136f6dfe0678499012e853ee9abcab1"
   }
  }
 },
 "nbformat": 4,
 "nbformat_minor": 2
}
