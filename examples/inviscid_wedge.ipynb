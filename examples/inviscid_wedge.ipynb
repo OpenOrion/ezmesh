{
    "cells": [
        {
            "attachments": {},
            "cell_type": "markdown",
            "metadata": {},
            "source": [
                "# Meshing"
            ]
        },
        {
            "attachments": {},
            "cell_type": "markdown",
            "metadata": {},
            "source": [
                "## Inviscid Wedge\n",
                "![Inviscid Wedge](../assets/inviscid_wedge.png)\n",
                "\n",
                "https://su2code.github.io/tutorials/Inviscid_Wedge/"
            ]
        },
        {
            "cell_type": "code",
            "execution_count": 5,
            "metadata": {},
            "outputs": [
                {
                    "name": "stdout",
                    "output_type": "stream",
                    "text": [
                        "Info    : Meshing 1D...\n",
                        "Info    : [  0%] Meshing curve 1 (Line)\n",
                        "Info    : [ 20%] Meshing curve 2 (Line)\n",
                        "Info    : [ 30%] Meshing curve 3 (Line)\n",
                        "Info    : [ 50%] Meshing curve 4 (Line)\n",
                        "Info    : [ 60%] Meshing curve 5 (Line)\n",
                        "Info    : [ 80%] Meshing curve 6 (Line)\n",
                        "Info    : [ 90%] Meshing curve 7 (Line)\n",
                        "Info    : Done meshing 1D (Wall 0.000296458s, CPU 0.000434s)\n",
                        "Info    : Meshing 2D...\n",
                        "Info    : [  0%] Meshing surface 1 (Transfinite)\n",
                        "Info    : [ 50%] Meshing surface 2 (Transfinite)\n",
                        "Info    : Done meshing 2D (Wall 0.00145825s, CPU 0.001321s)\n",
                        "Info    : Meshing 3D...\n",
                        "Info    : Done meshing 3D (Wall 4.87501e-06s, CPU 4e-06s)\n",
                        "Info    : 20301 nodes 20706 elements\n"
                    ]
                },
                {
                    "data": {
                        "application/vnd.jupyter.widget-view+json": {
                            "model_id": "fcf371d38d2d4a3684d0774a92df4953",
                            "version_major": 2,
                            "version_minor": 0
                        },
                        "text/plain": [
                            "HTML(value='Coords: ()')"
                        ]
                    },
                    "metadata": {},
                    "output_type": "display_data"
                },
                {
                    "data": {
                        "application/vnd.jupyter.widget-view+json": {
                            "model_id": "c3e20da3d17648de892ef209e015b84e",
                            "version_major": 2,
                            "version_minor": 0
                        },
                        "text/plain": [
                            "Renderer(camera=PerspectiveCamera(aspect=1.3333333333333333, far=100000.0, near=0.001, position=(0.0, 0.0, 1.0…"
                        ]
                    },
                    "metadata": {},
                    "output_type": "display_data"
                },
                {
                    "data": {
                        "text/html": [
                            "<div style=\"float: left; padding-right: 50px\"><h2>Markers</h2><table><tr><td style=\"background-color: rgb(247,24,24)\" width=\"20\"></td><td>lower</td></tr><tr><td style=\"background-color: rgb(143,252,33)\" width=\"20\"></td><td>inlet</td></tr><tr><td style=\"background-color: rgb(40,248,248)\" width=\"20\"></td><td>upper</td></tr><tr><td style=\"background-color: rgb(151,53,248)\" width=\"20\"></td><td>outlet</td></tr></table></div><div style=\"float: left; padding-right: 50px\"><h2>Zones</h2><table><tr><td style=\"background-color: rgb(127,127,127)\" width=\"20\"></td><td>Zone 0</td></tr></table></div>"
                        ],
                        "text/plain": [
                            "<IPython.core.display.HTML object>"
                        ]
                    },
                    "metadata": {},
                    "output_type": "display_data"
                }
            ],
            "source": [
                "import cadquery as cq\n",
                "from ezmesh import GeometryQL, Split\n",
                "\n",
                "\n",
                "with GeometryQL() as geo:\n",
                "    geo = (\n",
                "        geo\n",
                "        .load(  \n",
                "            cq.Workplane(\"XY\")\n",
                "            .polyline([(0, 1), (1.5, 1), (1.5, 0.2), (0.5, 0), (0, 0)])\n",
                "            .close(),\n",
                "            splits= lambda workplane: [\n",
                "                Split.from_lines(workplane, ((0.5,0), (0.5,1)))\n",
                "            ]\n",
                "        )\n",
                "\n",
                "        .setTransfiniteAuto(100)\n",
                "\n",
                "        .fromTagged([f\"edge/{i}\" for i in [1,2,4,5,6,7]], \"edge\")\n",
                "        .addPhysicalGroup([\"inlet\", \"lower\", \"upper\", \"lower\", \"outlet\", \"upper\"])\n",
                "        .end()\n",
                "\n",
                "        .recombine()\n",
                "\n",
                "\n",
                "        .generate()\n",
                "        .show(\"mesh\")\n",
                "    )\n"
            ]
        },
        {
            "cell_type": "code",
            "execution_count": null,
            "metadata": {},
            "outputs": [],
            "source": []
        }
    ],
    "metadata": {
        "kernelspec": {
            "display_name": "Python 3",
            "language": "python",
            "name": "python3"
        },
        "language_info": {
            "codemirror_mode": {
                "name": "ipython",
                "version": 3
            },
            "file_extension": ".py",
            "mimetype": "text/x-python",
            "name": "python",
            "nbconvert_exporter": "python",
            "pygments_lexer": "ipython3",
            "version": "3.11.4"
        },
        "orig_nbformat": 4,
        "vscode": {
            "interpreter": {
                "hash": "949777d72b0d2535278d3dc13498b2535136f6dfe0678499012e853ee9abcab1"
            }
        }
    },
    "nbformat": 4,
    "nbformat_minor": 2
}
