{
    "cells": [
        {
            "attachments": {},
            "cell_type": "markdown",
            "metadata": {},
            "source": [
                "# Meshing"
            ]
        },
        {
            "attachments": {},
            "cell_type": "markdown",
            "metadata": {},
            "source": [
                "## Inviscid Wedge\n",
                "![Inviscid Wedge](../assets/inviscid_wedge.png)\n",
                "\n",
                "https://su2code.github.io/tutorials/Inviscid_Wedge/"
            ]
        },
        {
            "attachments": {},
            "cell_type": "markdown",
            "metadata": {},
            "source": [
                "# Method 1: Manually define lines and points"
            ]
        },
        {
            "cell_type": "code",
            "execution_count": 2,
            "metadata": {},
            "outputs": [
                {
                    "name": "stdout",
                    "output_type": "stream",
                    "text": [
                        "Info    : Meshing 1D...\n",
                        "Info    : [  0%] Meshing curve 1 (Line)\n",
                        "Info    : [ 20%] Meshing curve 2 (Line)\n",
                        "Info    : [ 40%] Meshing curve 3 (Line)\n",
                        "Info    : [ 60%] Meshing curve 4 (Line)\n",
                        "Info    : [ 80%] Meshing curve 5 (Line)\n",
                        "Info    : Done meshing 1D (Wall 0.000874542s, CPU 0.001113s)\n",
                        "Info    : Meshing 2D...\n",
                        "Info    : Meshing surface 1 (Transfinite)\n",
                        "Info    : Done meshing 2D (Wall 0.00818652s, CPU 0.00787s)\n",
                        "Info    : Meshing 3D...\n",
                        "Info    : Done meshing 3D (Wall 1.20139e-05s, CPU 1e-05s)\n",
                        "Info    : 30351 nodes 30705 elements\n"
                    ]
                },
                {
                    "name": "stderr",
                    "output_type": "stream",
                    "text": [
                        "/usr/local/lib/python3.10/site-packages/pythreejs/traits.py:257: UserWarning: 64-bit data types not supported for WebGL data, casting to 32-bit.\n",
                        "  warnings.warn('64-bit data types not supported for WebGL '\n"
                    ]
                },
                {
                    "data": {
                        "application/vnd.jupyter.widget-view+json": {
                            "model_id": "b20268c9b5fb475dbc4d5ae4546865c7",
                            "version_major": 2,
                            "version_minor": 0
                        },
                        "text/plain": [
                            "HTML(value='Coords: ()')"
                        ]
                    },
                    "metadata": {},
                    "output_type": "display_data"
                },
                {
                    "data": {
                        "application/vnd.jupyter.widget-view+json": {
                            "model_id": "2fafb0b0fdf547d1b6c5d8804733b38e",
                            "version_major": 2,
                            "version_minor": 0
                        },
                        "text/plain": [
                            "Renderer(camera=PerspectiveCamera(aspect=1.3333333333333333, far=1000.0, near=0.001, position=(0.0, 0.0, 1.0),…"
                        ]
                    },
                    "metadata": {},
                    "output_type": "display_data"
                },
                {
                    "data": {
                        "text/html": [
                            "<div style=\"float: left; padding-right: 50px\"><h2>Markers</h2><table><tr><td style=\"background-color: rgb(249,20,20)\" width=\"20\"></td><td>upper</td></tr><tr><td style=\"background-color: rgb(139,253,25)\" width=\"20\"></td><td>inlet</td></tr><tr><td style=\"background-color: rgb(19,244,244)\" width=\"20\"></td><td>lower</td></tr><tr><td style=\"background-color: rgb(151,50,251)\" width=\"20\"></td><td>outlet</td></tr></table></div><div style=\"float: left; padding-right: 50px\"><h2>Zones</h2><table><tr><td style=\"background-color: rgb(127,127,127)\" width=\"20\"></td><td>Zone 0</td></tr></table></div>"
                        ],
                        "text/plain": [
                            "<IPython.core.display.HTML object>"
                        ]
                    },
                    "metadata": {},
                    "output_type": "display_data"
                },
                {
                    "name": "stdout",
                    "output_type": "stream",
                    "text": [
                        "Info    : Writing 'mesh_wedge_inv.su2'...\n",
                        "Info    : Writing 30000 elements and 30351 nodes\n",
                        "Info    : Done writing 'mesh_wedge_inv.su2'\n"
                    ]
                }
            ],
            "source": [
                "from typing import List\n",
                "from ezmesh import CurveLoop, TransfinitePlaneSurface, Geometry, Point, Line, TransfiniteLine, TransfinitePlaneSurface, visualize_mesh\n",
                "\n",
                "\n",
                "with Geometry() as geo:\n",
                "    mesh_size = 0.05\n",
                "    points = [\n",
                "        Point([0, 1], mesh_size),\n",
                "        Point([1.5, 1], mesh_size),\n",
                "        Point([1.5, 0.2], mesh_size),\n",
                "        Point([0.5, 0], mesh_size),\n",
                "        Point([0, 0], mesh_size),\n",
                "    ]\n",
                "\n",
                "    lines: List[Line] = [\n",
                "        TransfiniteLine(start=points[0], end=points[1], label=\"upper\", cell_count=150),\n",
                "        TransfiniteLine(start=points[1], end=points[2], label=\"outlet\", cell_count=200),\n",
                "        TransfiniteLine(start=points[2], end=points[3], label=\"lower/1\", cell_count=100),\n",
                "        TransfiniteLine(start=points[3], end=points[4], label=\"lower/2\", cell_count=50),\n",
                "        TransfiniteLine(start=points[4], end=points[0], label=\"inlet\", cell_count=200),\n",
                "    ]\n",
                "\n",
                "    wedge_curve_loop = CurveLoop(lines=lines)\n",
                "    surface = TransfinitePlaneSurface(\n",
                "        outlines=[wedge_curve_loop],\n",
                "        is_quad_mesh=True,\n",
                "        corners=[points[0], points[1], points[2], points[4]]\n",
                "    )\n",
                "    mesh = geo.generate(surface)\n",
                "    visualize_mesh(mesh)\n",
                "    geo.write(\"mesh_wedge_inv.su2\")"
            ]
        },
        {
            "attachments": {},
            "cell_type": "markdown",
            "metadata": {},
            "source": [
                "## Method 2: Automatically generate points and lines"
            ]
        },
        {
            "cell_type": "code",
            "execution_count": 1,
            "metadata": {},
            "outputs": [
                {
                    "name": "stdout",
                    "output_type": "stream",
                    "text": [
                        "Info    : Meshing 1D...\n",
                        "Info    : [  0%] Meshing curve 1 (Line)\n",
                        "Info    : [ 20%] Meshing curve 2 (Line)\n",
                        "Info    : [ 40%] Meshing curve 3 (Line)\n",
                        "Info    : [ 60%] Meshing curve 4 (Line)\n",
                        "Info    : [ 80%] Meshing curve 5 (Line)\n",
                        "Info    : Done meshing 1D (Wall 0.000495615s, CPU 2.9e-05s)\n",
                        "Info    : Meshing 2D...\n",
                        "Info    : Meshing surface 1 (Transfinite)\n",
                        "Info    : Done meshing 2D (Wall 0.00958099s, CPU 0.005566s)\n",
                        "Info    : Meshing 3D...\n",
                        "Info    : Done meshing 3D (Wall 0.0010429s, CPU 0s)\n",
                        "Info    : 30351 nodes 30705 elements\n"
                    ]
                },
                {
                    "name": "stderr",
                    "output_type": "stream",
                    "text": [
                        "/usr/local/lib/python3.10/site-packages/pythreejs/traits.py:257: UserWarning: 64-bit data types not supported for WebGL data, casting to 32-bit.\n",
                        "  warnings.warn('64-bit data types not supported for WebGL '\n"
                    ]
                },
                {
                    "data": {
                        "application/vnd.jupyter.widget-view+json": {
                            "model_id": "c46af25a5f42410887b2413fb3e7b5d0",
                            "version_major": 2,
                            "version_minor": 0
                        },
                        "text/plain": [
                            "HTML(value='Coords: ()')"
                        ]
                    },
                    "metadata": {},
                    "output_type": "display_data"
                },
                {
                    "data": {
                        "application/vnd.jupyter.widget-view+json": {
                            "model_id": "b23a0e59ddfc48459906f5eb8019b744",
                            "version_major": 2,
                            "version_minor": 0
                        },
                        "text/plain": [
                            "Renderer(camera=PerspectiveCamera(aspect=1.3333333333333333, far=1000.0, near=0.001, position=(0.0, 0.0, 1.0),…"
                        ]
                    },
                    "metadata": {},
                    "output_type": "display_data"
                },
                {
                    "data": {
                        "text/html": [
                            "<div style=\"float: left; padding-right: 50px\"><h2>Markers</h2><table><tr><td style=\"background-color: rgb(248,19,19)\" width=\"20\"></td><td>upper</td></tr><tr><td style=\"background-color: rgb(130,247,13)\" width=\"20\"></td><td>inlet</td></tr><tr><td style=\"background-color: rgb(11,250,250)\" width=\"20\"></td><td>lower</td></tr><tr><td style=\"background-color: rgb(142,36,249)\" width=\"20\"></td><td>outlet</td></tr></table></div><div style=\"float: left; padding-right: 50px\"><h2>Zones</h2><table><tr><td style=\"background-color: rgb(127,127,127)\" width=\"20\"></td><td>Zone 0</td></tr></table></div>"
                        ],
                        "text/plain": [
                            "<IPython.core.display.HTML object>"
                        ]
                    },
                    "metadata": {},
                    "output_type": "display_data"
                },
                {
                    "name": "stdout",
                    "output_type": "stream",
                    "text": [
                        "Info    : Writing 'mesh_wedge_inv.su2'...\n",
                        "Info    : Writing 30000 elements and 30351 nodes\n",
                        "Info    : Done writing 'mesh_wedge_inv.su2'\n"
                    ]
                }
            ],
            "source": [
                "from ezmesh import CurveLoop, TransfinitePlaneSurface, Geometry, TransfinitePlaneSurface, visualize_mesh\n",
                "import numpy as np\n",
                "\n",
                "with Geometry() as geo:\n",
                "    wedge_coords = np.array([[0, 1], [1.5, 1], [1.5, 0.2], [0.5, 0], [0, 0]])\n",
                "    wedge_curve_loop = CurveLoop.from_coords(\n",
                "        wedge_coords, \n",
                "        mesh_size = 0.05, \n",
                "        labels=[\"upper\", \"outlet\", \"lower/1\", \"lower/2\", \"inlet\"],\n",
                "        cell_counts=[150, 200, 100, 50, 200],\n",
                "    )\n",
                "    surface = TransfinitePlaneSurface(\n",
                "        outlines=[wedge_curve_loop],\n",
                "        is_quad_mesh=True,\n",
                "        corners=[\n",
                "            wedge_curve_loop.points[0], \n",
                "            wedge_curve_loop.points[1], \n",
                "            wedge_curve_loop.points[2], \n",
                "            wedge_curve_loop.points[4]\n",
                "        ]\n",
                "    )\n",
                "    mesh = geo.generate(surface)\n",
                "    visualize_mesh(mesh)\n",
                "    geo.write(\"mesh_wedge_inv.su2\")"
            ]
        }
    ],
    "metadata": {
        "kernelspec": {
            "display_name": "Python 3",
            "language": "python",
            "name": "python3"
        },
        "language_info": {
            "codemirror_mode": {
                "name": "ipython",
                "version": 3
            },
            "file_extension": ".py",
            "mimetype": "text/x-python",
            "name": "python",
            "nbconvert_exporter": "python",
            "pygments_lexer": "ipython3",
            "version": "3.10.10"
        },
        "orig_nbformat": 4,
        "vscode": {
            "interpreter": {
                "hash": "949777d72b0d2535278d3dc13498b2535136f6dfe0678499012e853ee9abcab1"
            }
        }
    },
    "nbformat": 4,
    "nbformat_minor": 2
}
