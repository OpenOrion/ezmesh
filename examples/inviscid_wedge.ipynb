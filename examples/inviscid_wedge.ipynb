{
    "cells": [
        {
            "attachments": {},
            "cell_type": "markdown",
            "metadata": {},
            "source": [
                "# Meshing"
            ]
        },
        {
            "attachments": {},
            "cell_type": "markdown",
            "metadata": {},
            "source": [
                "## Inviscid Wedge\n",
                "![Inviscid Wedge](../assets/inviscid_wedge.png)\n",
                "\n",
                "https://su2code.github.io/tutorials/Inviscid_Wedge/"
            ]
        },
        {
            "attachments": {},
            "cell_type": "markdown",
            "metadata": {},
            "source": [
                "# Method 1: Manually define lines and points"
            ]
        },
        {
            "cell_type": "code",
            "execution_count": 1,
            "metadata": {},
            "outputs": [
                {
                    "name": "stdout",
                    "output_type": "stream",
                    "text": [
                        "Info    : Meshing 1D...\n",
                        "Info    : [  0%] Meshing curve 1 (Line)\n",
                        "Info    : [ 20%] Meshing curve 2 (Line)\n",
                        "Info    : [ 40%] Meshing curve 3 (Line)\n",
                        "Info    : [ 60%] Meshing curve 4 (Line)\n",
                        "Info    : [ 80%] Meshing curve 5 (Line)\n",
                        "Info    : Done meshing 1D (Wall 0.000466421s, CPU 0.000652s)\n",
                        "Info    : Meshing 2D...\n",
                        "Info    : Meshing surface 1 (Transfinite)\n",
                        "Info    : Done meshing 2D (Wall 0.00648095s, CPU 0.0027s)\n",
                        "Info    : Meshing 3D...\n",
                        "Info    : Done meshing 3D (Wall 2.2743e-05s, CPU 1.7e-05s)\n",
                        "Info    : 30351 nodes 30705 elements\n"
                    ]
                },
                {
                    "name": "stderr",
                    "output_type": "stream",
                    "text": [
                        "/usr/local/lib/python3.10/site-packages/pythreejs/traits.py:257: UserWarning: 64-bit data types not supported for WebGL data, casting to 32-bit.\n",
                        "  warnings.warn('64-bit data types not supported for WebGL '\n"
                    ]
                },
                {
                    "data": {
                        "application/vnd.jupyter.widget-view+json": {
                            "model_id": "dbbc059df9f948e782093805cdff3c63",
                            "version_major": 2,
                            "version_minor": 0
                        },
                        "text/plain": [
                            "HTML(value='Coords: ()')"
                        ]
                    },
                    "metadata": {},
                    "output_type": "display_data"
                },
                {
                    "data": {
                        "application/vnd.jupyter.widget-view+json": {
                            "model_id": "75f1bc3ec4994ae79d5a6a2f8c0c4a7c",
                            "version_major": 2,
                            "version_minor": 0
                        },
                        "text/plain": [
                            "Renderer(camera=PerspectiveCamera(aspect=1.3333333333333333, far=1000.0, near=0.001, position=(0.0, 0.0, 1.0),…"
                        ]
                    },
                    "metadata": {},
                    "output_type": "display_data"
                },
                {
                    "data": {
                        "text/html": [
                            "<div style=\"float: left; padding-right: 50px\"><h2>Markers</h2><table><tr><td style=\"background-color: rgb(249,37,37)\" width=\"20\"></td><td>upper</td></tr><tr><td style=\"background-color: rgb(143,249,38)\" width=\"20\"></td><td>inlet</td></tr><tr><td style=\"background-color: rgb(16,247,247)\" width=\"20\"></td><td>lower</td></tr><tr><td style=\"background-color: rgb(142,39,245)\" width=\"20\"></td><td>outlet</td></tr></table></div><div style=\"float: left; padding-right: 50px\"><h2>Zones</h2><table><tr><td style=\"background-color: rgb(127,127,127)\" width=\"20\"></td><td>Zone 0</td></tr></table></div>"
                        ],
                        "text/plain": [
                            "<IPython.core.display.HTML object>"
                        ]
                    },
                    "metadata": {},
                    "output_type": "display_data"
                },
                {
                    "name": "stdout",
                    "output_type": "stream",
                    "text": [
                        "Info    : Writing 'mesh_wedge_inv.su2'...\n",
                        "Info    : Writing 30000 elements and 30351 nodes\n",
                        "Info    : Done writing 'mesh_wedge_inv.su2'\n"
                    ]
                }
            ],
            "source": [
                "from typing import List\n",
                "from ezmesh import CurveLoop, TransfinitePlaneSurface, Geometry, Point, Line, TransfiniteLine, TransfinitePlaneSurface, visualize_mesh\n",
                "\n",
                "\n",
                "with Geometry() as geo:\n",
                "    mesh_size = 0.05\n",
                "    points = [\n",
                "        Point([0, 1], mesh_size),\n",
                "        Point([1.5, 1], mesh_size),\n",
                "        Point([1.5, 0.2], mesh_size),\n",
                "        Point([0.5, 0], mesh_size),\n",
                "        Point([0, 0], mesh_size),\n",
                "    ]\n",
                "\n",
                "    lines: List[Line] = [\n",
                "        TransfiniteLine(start=points[0], end=points[1], label=\"upper\", cell_count=150),\n",
                "        TransfiniteLine(start=points[1], end=points[2], label=\"outlet\", cell_count=200),\n",
                "        TransfiniteLine(start=points[2], end=points[3], label=\"lower\", cell_count=100),\n",
                "        TransfiniteLine(start=points[3], end=points[4], label=\"lower\", cell_count=50),\n",
                "        TransfiniteLine(start=points[4], end=points[0], label=\"inlet\", cell_count=200),\n",
                "    ]\n",
                "\n",
                "    wedge_curve_loop = CurveLoop(lines=lines)\n",
                "    surface = TransfinitePlaneSurface(\n",
                "        outlines=[wedge_curve_loop],\n",
                "        is_quad_mesh=True,\n",
                "        corners=[points[0], points[1], points[2], points[4]]\n",
                "    )\n",
                "    mesh = geo.generate(surface)\n",
                "    visualize_mesh(mesh)\n",
                "    geo.write(\"mesh_wedge_inv.su2\")"
            ]
        },
        {
            "attachments": {},
            "cell_type": "markdown",
            "metadata": {},
            "source": [
                "## Method 2: Automatically generate points and lines"
            ]
        },
        {
            "cell_type": "code",
            "execution_count": 2,
            "metadata": {},
            "outputs": [
                {
                    "name": "stdout",
                    "output_type": "stream",
                    "text": [
                        "Info    : Meshing 1D...\n",
                        "Info    : [  0%] Meshing curve 1 (Line)\n",
                        "Info    : [ 20%] Meshing curve 2 (Line)\n",
                        "Info    : [ 40%] Meshing curve 3 (Line)\n",
                        "Info    : [ 60%] Meshing curve 4 (Line)\n",
                        "Info    : [ 80%] Meshing curve 5 (Line)\n",
                        "Info    : Done meshing 1D (Wall 0.00149123s, CPU 0.000612s)\n",
                        "Info    : Meshing 2D...\n",
                        "Info    : Meshing surface 1 (Transfinite)\n",
                        "Info    : Done meshing 2D (Wall 0.0141931s, CPU 0.009283s)\n",
                        "Info    : Meshing 3D...\n",
                        "Info    : Done meshing 3D (Wall 2.798e-05s, CPU 2.5e-05s)\n",
                        "Info    : 30351 nodes 30705 elements\n"
                    ]
                },
                {
                    "data": {
                        "application/vnd.jupyter.widget-view+json": {
                            "model_id": "015491ddc9204817b4dcdbaacfb0053c",
                            "version_major": 2,
                            "version_minor": 0
                        },
                        "text/plain": [
                            "HTML(value='Coords: ()')"
                        ]
                    },
                    "metadata": {},
                    "output_type": "display_data"
                },
                {
                    "data": {
                        "application/vnd.jupyter.widget-view+json": {
                            "model_id": "0abc480c08c24a9e86192d63fc31a081",
                            "version_major": 2,
                            "version_minor": 0
                        },
                        "text/plain": [
                            "Renderer(camera=PerspectiveCamera(aspect=1.3333333333333333, far=1000.0, near=0.001, position=(0.0, 0.0, 1.0),…"
                        ]
                    },
                    "metadata": {},
                    "output_type": "display_data"
                },
                {
                    "data": {
                        "text/html": [
                            "<div style=\"float: left; padding-right: 50px\"><h2>Markers</h2><table><tr><td style=\"background-color: rgb(254,40,40)\" width=\"20\"></td><td>upper</td></tr><tr><td style=\"background-color: rgb(143,248,37)\" width=\"20\"></td><td>inlet</td></tr><tr><td style=\"background-color: rgb(56,245,245)\" width=\"20\"></td><td>lower</td></tr><tr><td style=\"background-color: rgb(136,20,252)\" width=\"20\"></td><td>outlet</td></tr></table></div><div style=\"float: left; padding-right: 50px\"><h2>Zones</h2><table><tr><td style=\"background-color: rgb(127,127,127)\" width=\"20\"></td><td>Zone 0</td></tr></table></div>"
                        ],
                        "text/plain": [
                            "<IPython.core.display.HTML object>"
                        ]
                    },
                    "metadata": {},
                    "output_type": "display_data"
                },
                {
                    "name": "stdout",
                    "output_type": "stream",
                    "text": [
                        "Info    : Writing 'mesh_wedge_inv.su2'...\n",
                        "Info    : Writing 30000 elements and 30351 nodes\n",
                        "Info    : Done writing 'mesh_wedge_inv.su2'\n"
                    ]
                }
            ],
            "source": [
                "from ezmesh import get_points_and_lines, CurveLoop, TransfinitePlaneSurface, Geometry, TransfinitePlaneSurface, visualize_mesh\n",
                "import numpy as np\n",
                "\n",
                "with Geometry() as geo:\n",
                "    wedge_coords = np.array([[0, 1], [1.5, 1], [1.5, 0.2], [0.5, 0], [0, 0]])\n",
                "    points, lines = get_points_and_lines(\n",
                "        wedge_coords, \n",
                "        mesh_size = 0.05, \n",
                "        labels=[\"upper\", \"outlet\", \"lower\", \"lower\", \"inlet\"],\n",
                "        cell_counts=[150, 200, 100, 50, 200],\n",
                "    )\n",
                "    wedge_curve_loop = CurveLoop(lines=lines)\n",
                "    surface = TransfinitePlaneSurface(\n",
                "        outlines=[wedge_curve_loop],\n",
                "        is_quad_mesh=True,\n",
                "        corners=[points[0], points[1], points[2], points[4]]\n",
                "    )\n",
                "    mesh = geo.generate(surface)\n",
                "    visualize_mesh(mesh)\n",
                "    geo.write(\"mesh_wedge_inv.su2\")"
            ]
        }
    ],
    "metadata": {
        "kernelspec": {
            "display_name": "Python 3",
            "language": "python",
            "name": "python3"
        },
        "language_info": {
            "codemirror_mode": {
                "name": "ipython",
                "version": 3
            },
            "file_extension": ".py",
            "mimetype": "text/x-python",
            "name": "python",
            "nbconvert_exporter": "python",
            "pygments_lexer": "ipython3",
            "version": "3.10.10"
        },
        "orig_nbformat": 4,
        "vscode": {
            "interpreter": {
                "hash": "949777d72b0d2535278d3dc13498b2535136f6dfe0678499012e853ee9abcab1"
            }
        }
    },
    "nbformat": 4,
    "nbformat_minor": 2
}