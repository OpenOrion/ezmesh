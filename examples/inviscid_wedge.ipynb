{
    "cells": [
        {
            "attachments": {},
            "cell_type": "markdown",
            "metadata": {},
            "source": [
                "# Meshing"
            ]
        },
        {
            "attachments": {},
            "cell_type": "markdown",
            "metadata": {},
            "source": [
                "## Inviscid Wedge\n",
                "![Inviscid Wedge](../assets/inviscid_wedge.png)\n",
                "\n",
                "https://su2code.github.io/tutorials/Inviscid_Wedge/"
            ]
        },
        {
            "attachments": {},
            "cell_type": "markdown",
            "metadata": {},
            "source": [
                "# Method 1: Manually define lines and points"
            ]
        },
        {
            "cell_type": "code",
            "execution_count": 1,
            "metadata": {},
            "outputs": [
                {
                    "name": "stdout",
                    "output_type": "stream",
                    "text": [
                        "Overwriting auto display for cadquery Workplane and Shape\n",
                        "Info    : Meshing 1D...\n",
                        "Info    : [  0%] Meshing curve 1 (Line)\n",
                        "Info    : [ 20%] Meshing curve 2 (Line)\n",
                        "Info    : [ 40%] Meshing curve 3 (Line)\n",
                        "Info    : [ 60%] Meshing curve 4 (Line)\n",
                        "Info    : [ 80%] Meshing curve 5 (Line)\n",
                        "Info    : Done meshing 1D (Wall 0.000212709s, CPU 0.000221s)\n",
                        "Info    : Meshing 2D...\n",
                        "Info    : Meshing surface 1 (Transfinite)\n",
                        "Info    : Done meshing 2D (Wall 0.00222133s, CPU 0.001729s)\n",
                        "Info    : Meshing 3D...\n",
                        "Info    : Done meshing 3D (Wall 5.74999e-06s, CPU 4e-06s)\n",
                        "Info    : 30352 nodes 30706 elements\n"
                    ]
                },
                {
                    "data": {
                        "application/vnd.jupyter.widget-view+json": {
                            "model_id": "c72b5ad9c83e48538f1e9917780ec991",
                            "version_major": 2,
                            "version_minor": 0
                        },
                        "text/plain": [
                            "HTML(value='Coords: ()')"
                        ]
                    },
                    "metadata": {},
                    "output_type": "display_data"
                },
                {
                    "data": {
                        "application/vnd.jupyter.widget-view+json": {
                            "model_id": "cffff3b4b26e4aab9cbde46eacde0c3d",
                            "version_major": 2,
                            "version_minor": 0
                        },
                        "text/plain": [
                            "Renderer(camera=PerspectiveCamera(aspect=1.3333333333333333, far=100000.0, near=0.001, position=(0.0, 0.0, 1.0…"
                        ]
                    },
                    "metadata": {},
                    "output_type": "display_data"
                },
                {
                    "data": {
                        "text/html": [
                            "<div style=\"float: left; padding-right: 50px\"><h2>Markers</h2><table><tr><td style=\"background-color: rgb(244,51,51)\" width=\"20\"></td><td>upper</td></tr><tr><td style=\"background-color: rgb(132,254,10)\" width=\"20\"></td><td>inlet</td></tr><tr><td style=\"background-color: rgb(28,251,251)\" width=\"20\"></td><td>lower</td></tr><tr><td style=\"background-color: rgb(151,50,252)\" width=\"20\"></td><td>outlet</td></tr></table></div><div style=\"float: left; padding-right: 50px\"><h2>Zones</h2><table><tr><td style=\"background-color: rgb(127,127,127)\" width=\"20\"></td><td>Zone 0</td></tr></table></div>"
                        ],
                        "text/plain": [
                            "<IPython.core.display.HTML object>"
                        ]
                    },
                    "metadata": {},
                    "output_type": "display_data"
                }
            ],
            "source": [
                "from ezmesh import CurveLoop, PlaneSurface, TransfiniteSurfaceField, Geometry, Point, Line, TransfiniteCurveField, visualize_mesh\n",
                "import gmsh\n",
                "\n",
                "\n",
                "with Geometry() as geo:\n",
                "    mesh_size = 0.05\n",
                "\n",
                "    points = [\n",
                "        Point([0, 1], mesh_size),\n",
                "        Point([1.5, 1], mesh_size),\n",
                "        Point([1.5, 0.2], mesh_size),\n",
                "        Point([0.5, 0], mesh_size),\n",
                "        Point([0, 0], mesh_size),\n",
                "    ]\n",
                "\n",
                "    segments = [\n",
                "        Line(start=points[0], end=points[1], label=\"upper\"),\n",
                "        Line(start=points[1], end=points[2], label=\"outlet\"),\n",
                "        Line(start=points[2], end=points[3], label=\"lower\"),\n",
                "        Line(start=points[3], end=points[4], label=\"lower\"),\n",
                "        Line(start=points[4], end=points[0], label=\"inlet\"),\n",
                "    ]\n",
                "\n",
                "    wedge_curve_loop = CurveLoop(segments)\n",
                "    surface = PlaneSurface([wedge_curve_loop], is_quad_mesh=True)\n",
                "    gmsh.model.geo.add_point(2,2,2,0.1)\n",
                "\n",
                "    transfinite_curve_field = TransfiniteCurveField(segments, node_counts=[150,200,100,50,200])\n",
                "    transfinite_surface_field = TransfiniteSurfaceField.from_labels(surface, labels=(\"upper\", \"lower\"))\n",
                "\n",
                "    mesh = geo.generate(surface, fields=[transfinite_curve_field, transfinite_surface_field])\n",
                "    visualize_mesh(mesh)\n",
                "    geo.write(\"mesh_wedge_inv.su2\")"
            ]
        },
        {
            "attachments": {},
            "cell_type": "markdown",
            "metadata": {},
            "source": [
                "## Method 2: Automatically generate points and lines"
            ]
        },
        {
            "cell_type": "code",
            "execution_count": 1,
            "metadata": {},
            "outputs": [
                {
                    "name": "stdout",
                    "output_type": "stream",
                    "text": [
                        "Overwriting auto display for cadquery Workplane and Shape\n"
                    ]
                },
                {
                    "ename": "AttributeError",
                    "evalue": "type object 'TransfiniteSurfaceField' has no attribute 'from_labels'",
                    "output_type": "error",
                    "traceback": [
                        "\u001b[0;31m---------------------------------------------------------------------------\u001b[0m",
                        "\u001b[0;31mAttributeError\u001b[0m                            Traceback (most recent call last)",
                        "Cell \u001b[0;32mIn[1], line 14\u001b[0m\n\u001b[1;32m     11\u001b[0m surface \u001b[39m=\u001b[39m PlaneSurface([wedge_curve_loop], is_quad_mesh\u001b[39m=\u001b[39m\u001b[39mTrue\u001b[39;00m)\n\u001b[1;32m     13\u001b[0m transfinite_curve_field \u001b[39m=\u001b[39m TransfiniteCurveField(wedge_curve_loop\u001b[39m.\u001b[39medges, node_counts\u001b[39m=\u001b[39m[\u001b[39m150\u001b[39m,\u001b[39m200\u001b[39m,\u001b[39m100\u001b[39m,\u001b[39m50\u001b[39m,\u001b[39m200\u001b[39m])\n\u001b[0;32m---> 14\u001b[0m transfinite_surface_field \u001b[39m=\u001b[39m TransfiniteSurfaceField\u001b[39m.\u001b[39;49mfrom_labels(surface, labels\u001b[39m=\u001b[39m(\u001b[39m\"\u001b[39m\u001b[39mupper\u001b[39m\u001b[39m\"\u001b[39m, \u001b[39m\"\u001b[39m\u001b[39mlower\u001b[39m\u001b[39m\"\u001b[39m))\n\u001b[1;32m     16\u001b[0m mesh \u001b[39m=\u001b[39m geo\u001b[39m.\u001b[39mgenerate(surface, fields\u001b[39m=\u001b[39m[transfinite_curve_field, transfinite_surface_field])\n\u001b[1;32m     17\u001b[0m visualize_mesh(mesh)\n",
                        "\u001b[0;31mAttributeError\u001b[0m: type object 'TransfiniteSurfaceField' has no attribute 'from_labels'"
                    ]
                }
            ],
            "source": [
                "from ezmesh import CurveLoop, PlaneSurface, TransfiniteSurfaceField, TransfiniteCurveField, Geometry, visualize_mesh\n",
                "import numpy as np\n",
                "\n",
                "with Geometry() as geo:\n",
                "    wedge_coords = np.array([[0, 1], [1.5, 1], [1.5, 0.2], [0.5, 0], [0, 0]])\n",
                "    wedge_curve_loop = CurveLoop.from_coords(\n",
                "        wedge_coords, \n",
                "        mesh_size = 0.05,\n",
                "        group_labels=[\"upper\", \"outlet\", \"lower/1\", \"lower/2\", \"inlet\"],\n",
                "    )\n",
                "    surface = PlaneSurface([wedge_curve_loop], is_quad_mesh=True)\n",
                "\n",
                "    transfinite_curve_field = TransfiniteCurveField(wedge_curve_loop.edges, node_counts=[150,200,100,50,200])\n",
                "    transfinite_surface_field = TransfiniteSurfaceField.from_labels(surface, labels=(\"upper\", \"lower\"))\n",
                "\n",
                "    mesh = geo.generate(surface, fields=[transfinite_curve_field, transfinite_surface_field])\n",
                "    visualize_mesh(mesh)\n",
                "    geo.write(\"mesh_wedge_inv.su2\")"
            ]
        },
        {
            "cell_type": "code",
            "execution_count": 5,
            "metadata": {},
            "outputs": [
                {
                    "ename": "AttributeError",
                    "evalue": "'OCP.gp.gp_Vec' object has no attribute '_address'",
                    "output_type": "error",
                    "traceback": [
                        "\u001b[0;31m---------------------------------------------------------------------------\u001b[0m",
                        "\u001b[0;31mAttributeError\u001b[0m                            Traceback (most recent call last)",
                        "Cell \u001b[0;32mIn[5], line 8\u001b[0m\n\u001b[1;32m      2\u001b[0m \u001b[39mfrom\u001b[39;00m \u001b[39mezmesh\u001b[39;00m \u001b[39mimport\u001b[39;00m GeometryQL\n\u001b[1;32m      5\u001b[0m \u001b[39mwith\u001b[39;00m GeometryQL() \u001b[39mas\u001b[39;00m geo:\n\u001b[1;32m      6\u001b[0m     geo \u001b[39m=\u001b[39m (\n\u001b[1;32m      7\u001b[0m         geo\n\u001b[0;32m----> 8\u001b[0m         \u001b[39m.\u001b[39;49mload(  \n\u001b[1;32m      9\u001b[0m             cq\u001b[39m.\u001b[39;49mWorkplane(\u001b[39m\"\u001b[39;49m\u001b[39mXY\u001b[39;49m\u001b[39m\"\u001b[39;49m)\n\u001b[1;32m     10\u001b[0m             \u001b[39m.\u001b[39;49mpolyline([(\u001b[39m0\u001b[39;49m, \u001b[39m1\u001b[39;49m), (\u001b[39m1.5\u001b[39;49m, \u001b[39m1\u001b[39;49m), (\u001b[39m1.5\u001b[39;49m, \u001b[39m0.2\u001b[39;49m), (\u001b[39m0.5\u001b[39;49m, \u001b[39m0\u001b[39;49m), (\u001b[39m0\u001b[39;49m, \u001b[39m0\u001b[39;49m)])\n\u001b[1;32m     11\u001b[0m             \u001b[39m.\u001b[39;49mclose()\n\u001b[1;32m     12\u001b[0m             \u001b[39m.\u001b[39;49mextrude(\u001b[39m1\u001b[39;49m)\n\u001b[1;32m     13\u001b[0m             \u001b[39m.\u001b[39;49mfaces(\u001b[39m\"\u001b[39;49m\u001b[39m<X\u001b[39;49m\u001b[39m\"\u001b[39;49m)\n\u001b[1;32m     14\u001b[0m             \u001b[39m.\u001b[39;49mtransformed(offset\u001b[39m=\u001b[39;49m(\u001b[39m0.5\u001b[39;49m,\u001b[39m0\u001b[39;49m,\u001b[39m0\u001b[39;49m))\n\u001b[1;32m     15\u001b[0m             \u001b[39m# .split(keepTop=True)\u001b[39;49;00m\n\u001b[1;32m     16\u001b[0m         )\n\u001b[1;32m     17\u001b[0m         \u001b[39m.\u001b[39mshow()\n\u001b[1;32m     18\u001b[0m         \u001b[39m# .edges(\"<X\")\u001b[39;00m\n\u001b[1;32m     19\u001b[0m         \u001b[39m# .addPhysicalGroup(\"inlet\")\u001b[39;00m\n\u001b[1;32m     20\u001b[0m         \u001b[39m# .end()\u001b[39;00m\n\u001b[1;32m     21\u001b[0m \n\u001b[1;32m     22\u001b[0m         \u001b[39m# .edges(\">X\")\u001b[39;00m\n\u001b[1;32m     23\u001b[0m         \u001b[39m# .addPhysicalGroup(\"outlet\")\u001b[39;00m\n\u001b[1;32m     24\u001b[0m         \u001b[39m# .end()\u001b[39;00m\n\u001b[1;32m     25\u001b[0m         \n\u001b[1;32m     26\u001b[0m         \u001b[39m# .edges(\">Y\")\u001b[39;00m\n\u001b[1;32m     27\u001b[0m         \u001b[39m# .addPhysicalGroup(\"freestream\")\u001b[39;00m\n\u001b[1;32m     28\u001b[0m         \u001b[39m# .end()\u001b[39;00m\n\u001b[1;32m     29\u001b[0m \n\u001b[1;32m     30\u001b[0m         \u001b[39m# .edges(\"<Y\")\u001b[39;00m\n\u001b[1;32m     31\u001b[0m         \u001b[39m# .addPhysicalGroup(\"wall\")\u001b[39;00m\n\u001b[1;32m     32\u001b[0m         \u001b[39m# .end()\u001b[39;00m\n\u001b[1;32m     33\u001b[0m \n\u001b[1;32m     34\u001b[0m         \u001b[39m# .fromTagged([\"edge/1\",\"edge/2\"], type=\"edge\")\u001b[39;00m\n\u001b[1;32m     35\u001b[0m         \u001b[39m# .addPhysicalGroup(\"wall\")\u001b[39;00m\n\u001b[1;32m     36\u001b[0m         \u001b[39m# .end()\u001b[39;00m\n\u001b[1;32m     37\u001b[0m \n\u001b[1;32m     38\u001b[0m         \u001b[39m# .generate()\u001b[39;00m\n\u001b[1;32m     39\u001b[0m         \u001b[39m# .show(\"mesh\")\u001b[39;00m\n\u001b[1;32m     40\u001b[0m     )\n",
                        "File \u001b[0;32m~/Documents/ezmesh/ezmesh/ql.py:40\u001b[0m, in \u001b[0;36mGeometryQL.load\u001b[0;34m(self, target)\u001b[0m\n\u001b[1;32m     37\u001b[0m \u001b[39mself\u001b[39m\u001b[39m.\u001b[39m_initial_workplane \u001b[39m=\u001b[39m \u001b[39mself\u001b[39m\u001b[39m.\u001b[39m_workplane \u001b[39m=\u001b[39m import_workplane(target)\n\u001b[1;32m     39\u001b[0m topods \u001b[39m=\u001b[39m \u001b[39mself\u001b[39m\u001b[39m.\u001b[39m_workplane\u001b[39m.\u001b[39mtoOCC()\n\u001b[0;32m---> 40\u001b[0m gmsh\u001b[39m.\u001b[39mmodel\u001b[39m.\u001b[39mocc\u001b[39m.\u001b[39mimportShapesNativePointer(topods\u001b[39m.\u001b[39;49m_address())\n\u001b[1;32m     41\u001b[0m gmsh\u001b[39m.\u001b[39mmodel\u001b[39m.\u001b[39mocc\u001b[39m.\u001b[39msynchronize()\n\u001b[1;32m     42\u001b[0m \u001b[39mself\u001b[39m\u001b[39m.\u001b[39m_occ_map \u001b[39m=\u001b[39m OCCMap(\u001b[39mself\u001b[39m\u001b[39m.\u001b[39m_workplane)\n",
                        "\u001b[0;31mAttributeError\u001b[0m: 'OCP.gp.gp_Vec' object has no attribute '_address'"
                    ]
                }
            ],
            "source": [
                "import cadquery as cq\n",
                "from ezmesh import GeometryQL\n",
                "\n",
                "\n",
                "with GeometryQL() as geo:\n",
                "    geo = (\n",
                "        geo\n",
                "        .load(  \n",
                "            cq.Workplane(\"XY\")\n",
                "            .polyline([(0, 1), (1.5, 1), (1.5, 0.2), (0.5, 0), (0, 0)])\n",
                "            .close()\n",
                "            .extrude(1)\n",
                "            .faces(\"<X\")\n",
                "            .transformed(offset=(0.5,0,0))\n",
                "            .split(keepTop=True)\n",
                "        )\n",
                "        .show()\n",
                "        # .edges(\"<X\")\n",
                "        # .addPhysicalGroup(\"inlet\")\n",
                "        # .end()\n",
                "\n",
                "        # .edges(\">X\")\n",
                "        # .addPhysicalGroup(\"outlet\")\n",
                "        # .end()\n",
                "        \n",
                "        # .edges(\">Y\")\n",
                "        # .addPhysicalGroup(\"freestream\")\n",
                "        # .end()\n",
                "\n",
                "        # .edges(\"<Y\")\n",
                "        # .addPhysicalGroup(\"wall\")\n",
                "        # .end()\n",
                "\n",
                "        # .fromTagged([\"edge/1\",\"edge/2\"], type=\"edge\")\n",
                "        # .addPhysicalGroup(\"wall\")\n",
                "        # .end()\n",
                "\n",
                "        # .generate()\n",
                "        # .show(\"mesh\")\n",
                "    )\n"
            ]
        },
        {
            "cell_type": "code",
            "execution_count": null,
            "metadata": {},
            "outputs": [],
            "source": []
        }
    ],
    "metadata": {
        "kernelspec": {
            "display_name": "Python 3",
            "language": "python",
            "name": "python3"
        },
        "language_info": {
            "codemirror_mode": {
                "name": "ipython",
                "version": 3
            },
            "file_extension": ".py",
            "mimetype": "text/x-python",
            "name": "python",
            "nbconvert_exporter": "python",
            "pygments_lexer": "ipython3",
            "version": "3.11.4"
        },
        "orig_nbformat": 4,
        "vscode": {
            "interpreter": {
                "hash": "949777d72b0d2535278d3dc13498b2535136f6dfe0678499012e853ee9abcab1"
            }
        }
    },
    "nbformat": 4,
    "nbformat_minor": 2
}
