{
 "cells": [
  {
   "attachments": {},
   "cell_type": "markdown",
   "metadata": {},
   "source": [
    "# Meshing"
   ]
  },
  {
   "attachments": {},
   "cell_type": "markdown",
   "metadata": {},
   "source": [
    "## Inviscid Wedge\n",
    "![Inviscid Wedge Mesh](../assets/inviscid_wedge_mesh.png)\n",
    "![Inviscid Wedge](../assets/inviscid_wedge.png)\n",
    "\n",
    "https://su2code.github.io/tutorials/Inviscid_Wedge/"
   ]
  },
  {
   "cell_type": "code",
   "execution_count": 1,
   "metadata": {},
   "outputs": [
    {
     "name": "stdout",
     "output_type": "stream",
     "text": [
      "Info    : Meshing 1D...\n",
      "Info    : [  0%] Meshing curve 1 (Line)\n",
      "Info    : [ 20%] Meshing curve 2 (Line)\n",
      "Info    : [ 40%] Meshing curve 3 (Line)\n",
      "Info    : [ 60%] Meshing curve 4 (Line)\n",
      "Info    : [ 80%] Meshing curve 5 (Line)\n",
      "Info    : Done meshing 1D (Wall 0.000630829s, CPU 0.001108s)\n",
      "Info    : Meshing 2D...\n",
      "Info    : Meshing surface 1 (Transfinite)\n",
      "Info    : Done meshing 2D (Wall 0.00817088s, CPU 0.003326s)\n",
      "Info    : Meshing 3D...\n",
      "Info    : Done meshing 3D (Wall 2.4035e-05s, CPU 1.8e-05s)\n",
      "Info    : 30351 nodes 60705 elements\n"
     ]
    },
    {
     "name": "stderr",
     "output_type": "stream",
     "text": [
      "/home/vscode/.local/lib/python3.10/site-packages/pythreejs/traits.py:257: UserWarning: 64-bit data types not supported for WebGL data, casting to 32-bit.\n",
      "  warnings.warn('64-bit data types not supported for WebGL '\n"
     ]
    },
    {
     "data": {
      "application/vnd.jupyter.widget-view+json": {
       "model_id": "fbb02b1baeac44c19a156f8eb65d1abd",
       "version_major": 2,
       "version_minor": 0
      },
      "text/plain": [
       "HTML(value='Coords: ()')"
      ]
     },
     "metadata": {},
     "output_type": "display_data"
    },
    {
     "data": {
      "application/vnd.jupyter.widget-view+json": {
       "model_id": "09bdce41925d47d38a218a5a8071acba",
       "version_major": 2,
       "version_minor": 0
      },
      "text/plain": [
       "Renderer(camera=PerspectiveCamera(aspect=1.3333333333333333, far=1000.0, near=0.001, position=(0.0, 0.0, 1.0),…"
      ]
     },
     "metadata": {},
     "output_type": "display_data"
    },
    {
     "data": {
      "text/html": [
       "<div style=\"float: left; padding-right: 50px\"><h2>Markers</h2><table><tr><td style=\"background-color: rgb(248,27,27)\" width=\"20\"></td><td>upper</td></tr><tr><td style=\"background-color: rgb(146,247,46)\" width=\"20\"></td><td>inlet</td></tr><tr><td style=\"background-color: rgb(43,253,253)\" width=\"20\"></td><td>lower</td></tr><tr><td style=\"background-color: rgb(149,50,248)\" width=\"20\"></td><td>outlet</td></tr></table></div><div style=\"float: left; padding-right: 50px\"><h2>Zones</h2><table><tr><td style=\"background-color: rgb(127,127,127)\" width=\"20\"></td><td>Zone 0</td></tr></table></div>"
      ],
      "text/plain": [
       "<IPython.core.display.HTML object>"
      ]
     },
     "metadata": {},
     "output_type": "display_data"
    },
    {
     "name": "stdout",
     "output_type": "stream",
     "text": [
      "Info    : Writing 'mesh_wedge_inv.su2'...\n",
      "Info    : Writing 60000 elements and 30351 nodes\n",
      "Info    : Done writing 'mesh_wedge_inv.su2'\n"
     ]
    }
   ],
   "source": [
    "from ezmesh import CurveLoop, PlaneSurface, Geometry, visualize_mesh\n",
    "import numpy as np\n",
    "\n",
    "with Geometry() as geo:\n",
    "    wedge_coords = np.array([[0, 1], [1.5, 1], [1.5, 0.2], [0.5, 0], [0, 0]])\n",
    "    wedge_curve_loop = CurveLoop(\n",
    "        wedge_coords, \n",
    "        mesh_size=0.05,\n",
    "        labels={\n",
    "            \"upper\":  [0],\n",
    "            \"lower\":  [2,3],\n",
    "            \"inlet\":  [4],\n",
    "            \"outlet\": [1],\n",
    "        },\n",
    "        transfinite_cell_counts={\n",
    "            150: [0],\n",
    "            200: [1,4],\n",
    "            100: [2],\n",
    "            50:  [3]\n",
    "        }\n",
    "    )\n",
    "    surface = PlaneSurface(wedge_curve_loop, is_quad_mesh=True, transfinite_corners=[0,1,2,4])\n",
    "    mesh = geo.generate(surface)\n",
    "    visualize_mesh(mesh)\n",
    "    geo.write(\"mesh_wedge_inv.su2\")\n",
    "\n"
   ]
  },
  {
   "attachments": {},
   "cell_type": "markdown",
   "metadata": {},
   "source": [
    "## Import Existing Supported Meshes"
   ]
  },
  {
   "cell_type": "code",
   "execution_count": 9,
   "metadata": {},
   "outputs": [
    {
     "data": {
      "application/vnd.jupyter.widget-view+json": {
       "model_id": "fd173fa69d9b4755926b6148f4125a24",
       "version_major": 2,
       "version_minor": 0
      },
      "text/plain": [
       "HTML(value='Coords: ()')"
      ]
     },
     "metadata": {},
     "output_type": "display_data"
    },
    {
     "data": {
      "application/vnd.jupyter.widget-view+json": {
       "model_id": "4d0d16e4b3a24817b90d4f296f2196ef",
       "version_major": 2,
       "version_minor": 0
      },
      "text/plain": [
       "Renderer(camera=PerspectiveCamera(aspect=1.3333333333333333, far=1000.0, near=0.001, position=(0.0, 0.0, 1.0),…"
      ]
     },
     "metadata": {},
     "output_type": "display_data"
    },
    {
     "data": {
      "text/html": [
       "<div style=\"float: left; padding-right: 50px\"><h2>Markers</h2><table><tr><td style=\"background-color: rgb(250,12,12)\" width=\"20\"></td><td> upper</td></tr><tr><td style=\"background-color: rgb(131,249,13)\" width=\"20\"></td><td> inlet</td></tr><tr><td style=\"background-color: rgb(53,248,248)\" width=\"20\"></td><td> lower</td></tr><tr><td style=\"background-color: rgb(138,26,250)\" width=\"20\"></td><td> outlet</td></tr></table></div><div style=\"float: left; padding-right: 50px\"><h2>Zones</h2><table><tr><td style=\"background-color: rgb(127,127,127)\" width=\"20\"></td><td>Zone 0</td></tr></table></div>"
      ],
      "text/plain": [
       "<IPython.core.display.HTML object>"
      ]
     },
     "metadata": {},
     "output_type": "display_data"
    }
   ],
   "source": [
    "from ezmesh import import_from_file\n",
    "from ezmesh import visualize_mesh\n",
    "mesh = import_from_file(\"mesh_wedge_inv.su2\")\n",
    "visualize_mesh(mesh)"
   ]
  },
  {
   "attachments": {},
   "cell_type": "markdown",
   "metadata": {},
   "source": [
    "# Export SU2 Multi-Zone"
   ]
  },
  {
   "cell_type": "code",
   "execution_count": null,
   "metadata": {},
   "outputs": [],
   "source": [
    "from ezmesh.exporters import export_to_su2\n",
    "\n",
    "export_to_su2([mesh,mesh], \"mesh_wedge_inv_copy.su2\")"
   ]
  }
 ],
 "metadata": {
  "kernelspec": {
   "display_name": "Python 3",
   "language": "python",
   "name": "python3"
  },
  "language_info": {
   "codemirror_mode": {
    "name": "ipython",
    "version": 3
   },
   "file_extension": ".py",
   "mimetype": "text/x-python",
   "name": "python",
   "nbconvert_exporter": "python",
   "pygments_lexer": "ipython3",
   "version": "3.10.9"
  },
  "orig_nbformat": 4,
  "vscode": {
   "interpreter": {
    "hash": "949777d72b0d2535278d3dc13498b2535136f6dfe0678499012e853ee9abcab1"
   }
  }
 },
 "nbformat": 4,
 "nbformat_minor": 2
}
