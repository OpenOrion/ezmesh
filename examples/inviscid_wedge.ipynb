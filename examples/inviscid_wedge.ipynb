{
    "cells": [
        {
            "attachments": {},
            "cell_type": "markdown",
            "metadata": {},
            "source": [
                "# Meshing"
            ]
        },
        {
            "attachments": {},
            "cell_type": "markdown",
            "metadata": {},
            "source": [
                "## Inviscid Wedge\n",
                "![Inviscid Wedge](../assets/inviscid_wedge.png)\n",
                "\n",
                "https://su2code.github.io/tutorials/Inviscid_Wedge/"
            ]
        },
        {
            "cell_type": "code",
            "execution_count": 1,
            "metadata": {},
            "outputs": [
                {
                    "name": "stdout",
                    "output_type": "stream",
                    "text": [
                        "Overwriting auto display for cadquery Workplane and Shape\n",
                        "Cache does not exist\n",
                        "cache finished\n",
                        "Info    : Meshing 1D...\n",
                        "Info    : [  0%] Meshing curve 1 (Line)\n",
                        "Info    : [ 20%] Meshing curve 2 (Line)\n",
                        "Info    : [ 30%] Meshing curve 3 (Line)\n",
                        "Info    : [ 50%] Meshing curve 4 (Line)\n",
                        "Info    : [ 60%] Meshing curve 5 (Line)\n",
                        "Info    : [ 80%] Meshing curve 6 (Line)\n",
                        "Info    : [ 90%] Meshing curve 7 (Line)\n",
                        "Info    : Done meshing 1D (Wall 0.000322292s, CPU 0.000333s)\n",
                        "Info    : Meshing 2D...\n",
                        "Info    : [  0%] Meshing surface 1 (Transfinite)\n",
                        "Info    : [ 50%] Meshing surface 2 (Transfinite)\n",
                        "Info    : Done meshing 2D (Wall 0.00191908s, CPU 0.001241s)\n",
                        "Info    : Meshing 3D...\n",
                        "Info    : Done meshing 3D (Wall 7.29109e-06s, CPU 5e-06s)\n",
                        "Info    : 20301 nodes 20706 elements\n"
                    ]
                },
                {
                    "data": {
                        "application/vnd.jupyter.widget-view+json": {
                            "model_id": "bc6bc1874a2f49bcbc6532c744cc06e0",
                            "version_major": 2,
                            "version_minor": 0
                        },
                        "text/plain": [
                            "HTML(value='Coords: ()')"
                        ]
                    },
                    "metadata": {},
                    "output_type": "display_data"
                },
                {
                    "data": {
                        "application/vnd.jupyter.widget-view+json": {
                            "model_id": "d7e5906bd1f548069d42a868d45837e4",
                            "version_major": 2,
                            "version_minor": 0
                        },
                        "text/plain": [
                            "Renderer(camera=PerspectiveCamera(aspect=1.3333333333333333, far=100000.0, near=0.001, position=(0.0, 0.0, 1.0…"
                        ]
                    },
                    "metadata": {},
                    "output_type": "display_data"
                },
                {
                    "data": {
                        "text/html": [
                            "<div style=\"float: left; padding-right: 50px\"><h2>Markers</h2><table><tr><td style=\"background-color: rgb(244,36,36)\" width=\"20\"></td><td>lower</td></tr><tr><td style=\"background-color: rgb(136,243,30)\" width=\"20\"></td><td>inlet</td></tr><tr><td style=\"background-color: rgb(39,245,245)\" width=\"20\"></td><td>upper</td></tr><tr><td style=\"background-color: rgb(142,32,251)\" width=\"20\"></td><td>outlet</td></tr></table></div><div style=\"float: left; padding-right: 50px\"><h2>Zones</h2><table><tr><td style=\"background-color: rgb(127,127,127)\" width=\"20\"></td><td>Zone 0</td></tr></table></div>"
                        ],
                        "text/plain": [
                            "<IPython.core.display.HTML object>"
                        ]
                    },
                    "metadata": {},
                    "output_type": "display_data"
                }
            ],
            "source": [
                "import cadquery as cq\n",
                "from ezmesh import GeometryQL, Split\n",
                "\n",
                "\n",
                "with GeometryQL() as geo:\n",
                "    geo = (\n",
                "        geo\n",
                "        .load(  \n",
                "            cq.Workplane(\"XY\")\n",
                "            .polyline([(0, 1), (1.5, 1), (1.5, 0.2), (0.5, 0), (0, 0)])\n",
                "            .close(),\n",
                "            splits= lambda workplane: [\n",
                "                Split.from_lines(workplane, ((0.5,0), (0.5,1)))\n",
                "            ]\n",
                "        )\n",
                "\n",
                "        .setTransfiniteAuto(100)\n",
                "\n",
                "        .fromTagged([f\"edge/{i}\" for i in [1,2,4,5,6,7]], \"edge\")\n",
                "        .addPhysicalGroup([\"inlet\", \"lower\", \"upper\", \"lower\", \"outlet\", \"upper\"])\n",
                "        .end()\n",
                "\n",
                "        .recombine()\n",
                "        .generate()\n",
                "        .show(\"mesh\")\n",
                "    )\n"
            ]
        },
        {
            "cell_type": "code",
            "execution_count": null,
            "metadata": {},
            "outputs": [],
            "source": []
        }
    ],
    "metadata": {
        "kernelspec": {
            "display_name": "Python 3",
            "language": "python",
            "name": "python3"
        },
        "language_info": {
            "codemirror_mode": {
                "name": "ipython",
                "version": 3
            },
            "file_extension": ".py",
            "mimetype": "text/x-python",
            "name": "python",
            "nbconvert_exporter": "python",
            "pygments_lexer": "ipython3",
            "version": "3.11.4"
        },
        "orig_nbformat": 4,
        "vscode": {
            "interpreter": {
                "hash": "949777d72b0d2535278d3dc13498b2535136f6dfe0678499012e853ee9abcab1"
            }
        }
    },
    "nbformat": 4,
    "nbformat_minor": 2
}
