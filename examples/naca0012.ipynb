{
 "cells": [
  {
   "attachments": {},
   "cell_type": "markdown",
   "metadata": {},
   "source": [
    "# Meshing"
   ]
  },
  {
   "attachments": {},
   "cell_type": "markdown",
   "metadata": {},
   "source": [
    "## NACA0012 w/ Transfinite Refinement\n",
    "![NACA0012 Transfinite](../assets/naca0012_transfinite.png)\n",
    "\n",
    "https://su2code.github.io/docs_v7/Quick-Start/"
   ]
  },
  {
   "attachments": {},
   "cell_type": "markdown",
   "metadata": {},
   "source": [
    "## NACA0012 w/ Boundary Layer"
   ]
  },
  {
   "cell_type": "code",
   "execution_count": 1,
   "metadata": {},
   "outputs": [
    {
     "name": "stdout",
     "output_type": "stream",
     "text": [
      "Overwriting auto display for cadquery Workplane and Shape\n",
      "Info    : Meshing 1D...\n",
      "Info    : [  0%] Meshing curve 1 (Circle)\n",
      "Info    : [ 10%] Meshing curve 2 (Line)\n",
      "Info    : [ 10%] Meshing curve 3 (Line)\n",
      "Info    : [ 10%] Meshing curve 4 (Line)\n",
      "Info    : [ 10%] Meshing curve 5 (Line)\n",
      "Info    : [ 10%] Meshing curve 6 (Line)\n",
      "Info    : [ 10%] Meshing curve 7 (Line)\n",
      "Info    : [ 10%] Meshing curve 8 (Line)\n",
      "Info    : [ 20%] Meshing curve 9 (Line)\n",
      "Info    : [ 20%] Meshing curve 10 (Line)\n",
      "Info    : [ 20%] Meshing curve 11 (Line)\n",
      "Info    : [ 20%] Meshing curve 12 (Line)\n",
      "Info    : [ 20%] Meshing curve 13 (Line)\n",
      "Info    : [ 20%] Meshing curve 14 (Line)\n",
      "Info    : [ 20%] Meshing curve 15 (Line)\n",
      "Info    : [ 20%] Meshing curve 16 (Line)\n",
      "Info    : [ 30%] Meshing curve 17 (Line)\n",
      "Info    : [ 30%] Meshing curve 18 (Line)\n",
      "Info    : [ 30%] Meshing curve 19 (Line)\n",
      "Info    : [ 30%] Meshing curve 20 (Line)\n",
      "Info    : [ 30%] Meshing curve 21 (Line)\n",
      "Info    : [ 30%] Meshing curve 22 (Line)\n",
      "Info    : [ 30%] Meshing curve 23 (Line)\n",
      "Info    : [ 30%] Meshing curve 24 (Line)\n",
      "Info    : [ 40%] Meshing curve 25 (Line)\n",
      "Info    : [ 40%] Meshing curve 26 (Line)\n",
      "Info    : [ 40%] Meshing curve 27 (Line)\n",
      "Info    : [ 40%] Meshing curve 28 (Line)\n",
      "Info    : [ 40%] Meshing curve 29 (Line)\n",
      "Info    : [ 40%] Meshing curve 30 (Line)\n",
      "Info    : [ 40%] Meshing curve 31 (Line)\n",
      "Info    : [ 40%] Meshing curve 32 (Line)\n",
      "Info    : [ 50%] Meshing curve 33 (Line)\n",
      "Info    : [ 50%] Meshing curve 34 (Line)\n",
      "Info    : [ 50%] Meshing curve 35 (Line)\n",
      "Info    : [ 50%] Meshing curve 36 (Line)\n",
      "Info    : [ 50%] Meshing curve 37 (Line)\n",
      "Info    : [ 50%] Meshing curve 38 (Line)\n",
      "Info    : [ 50%] Meshing curve 39 (Line)\n",
      "Info    : [ 50%] Meshing curve 40 (Line)\n",
      "Info    : [ 60%] Meshing curve 41 (Line)\n",
      "Info    : [ 60%] Meshing curve 42 (Line)\n",
      "Info    : [ 60%] Meshing curve 43 (Line)\n",
      "Info    : [ 60%] Meshing curve 44 (Line)\n",
      "Info    : [ 60%] Meshing curve 45 (Line)\n",
      "Info    : [ 60%] Meshing curve 46 (Line)\n",
      "Info    : [ 60%] Meshing curve 47 (Line)\n",
      "Info    : [ 60%] Meshing curve 48 (Line)\n",
      "Info    : [ 70%] Meshing curve 49 (Line)\n",
      "Info    : [ 70%] Meshing curve 50 (Line)\n",
      "Info    : [ 70%] Meshing curve 51 (Line)\n",
      "Info    : [ 70%] Meshing curve 52 (Line)\n",
      "Info    : [ 70%] Meshing curve 53 (Line)\n",
      "Info    : [ 70%] Meshing curve 54 (Line)\n",
      "Info    : [ 70%] Meshing curve 55 (Line)\n",
      "Info    : [ 70%] Meshing curve 56 (Line)\n",
      "Info    : [ 80%] Meshing curve 57 (Line)\n",
      "Info    : [ 80%] Meshing curve 58 (Line)\n",
      "Info    : [ 80%] Meshing curve 59 (Line)\n",
      "Info    : [ 80%] Meshing curve 60 (Line)\n",
      "Info    : [ 80%] Meshing curve 61 (Line)\n",
      "Info    : [ 80%] Meshing curve 62 (Line)\n",
      "Info    : [ 80%] Meshing curve 63 (Line)\n",
      "Info    : [ 80%] Meshing curve 64 (Line)\n",
      "Info    : [ 90%] Meshing curve 65 (Line)\n",
      "Info    : [ 90%] Meshing curve 66 (Line)\n",
      "Info    : [ 90%] Meshing curve 67 (Line)\n",
      "Info    : [ 90%] Meshing curve 68 (Line)\n",
      "Info    : [ 90%] Meshing curve 69 (Line)\n",
      "Info    : [ 90%] Meshing curve 70 (Line)\n",
      "Info    : [ 90%] Meshing curve 71 (Line)\n",
      "Info    : [ 90%] Meshing curve 72 (Line)\n",
      "Info    : [100%] Meshing curve 73 (Line)\n",
      "Info    : [100%] Meshing curve 74 (Line)\n",
      "Info    : [100%] Meshing curve 75 (Line)\n",
      "Info    : [100%] Meshing curve 76 (Line)\n",
      "Info    : [100%] Meshing curve 77 (Line)\n",
      "Info    : [100%] Meshing curve 78 (Line)\n",
      "Info    : [100%] Meshing curve 79 (Line)\n",
      "Info    : Done meshing 1D (Wall 0.00336608s, CPU 0.003467s)\n",
      "Info    : Meshing 2D...\n",
      "Info    : Meshing surface 1 (Plane, Frontal-Delaunay)\n",
      "Info    : Done meshing 2D (Wall 0.0265307s, CPU 0.026053s)\n",
      "Info    : 1002 nodes 2083 elements\n"
     ]
    },
    {
     "data": {
      "application/vnd.jupyter.widget-view+json": {
       "model_id": "39e683de81fa4142944e0081b1d2b0f5",
       "version_major": 2,
       "version_minor": 0
      },
      "text/plain": [
       "HTML(value='Coords: ()')"
      ]
     },
     "metadata": {},
     "output_type": "display_data"
    },
    {
     "data": {
      "application/vnd.jupyter.widget-view+json": {
       "model_id": "5ff247e37221466ca893f6eb46331da6",
       "version_major": 2,
       "version_minor": 0
      },
      "text/plain": [
       "Renderer(camera=PerspectiveCamera(aspect=1.3333333333333333, far=100000.0, near=0.001, position=(0.0, 0.0, 1.0…"
      ]
     },
     "metadata": {},
     "output_type": "display_data"
    },
    {
     "data": {
      "text/html": [
       "<div style=\"float: left; padding-right: 50px\"><h2>Markers</h2><table><tr><td style=\"background-color: rgb(247,50,50)\" width=\"20\"></td><td>farfield</td></tr><tr><td style=\"background-color: rgb(51,251,251)\" width=\"20\"></td><td>airfoil</td></tr></table></div><div style=\"float: left; padding-right: 50px\"><h2>Zones</h2><table><tr><td style=\"background-color: rgb(127,127,127)\" width=\"20\"></td><td>Zone 0</td></tr></table></div>"
      ],
      "text/plain": [
       "<IPython.core.display.HTML object>"
      ]
     },
     "metadata": {},
     "output_type": "display_data"
    }
   ],
   "source": [
    "import cadquery as cq\n",
    "from ezmesh import GeometryQL\n",
    "from ezmesh.utils.shapes import generate_naca4_airfoil\n",
    "\n",
    "with GeometryQL() as geo:\n",
    "    airfoils_coords = generate_naca4_airfoil(\"0012\", num_points=40)\n",
    "\n",
    "    mesh = (\n",
    "        geo\n",
    "        .load(\n",
    "            cq.Workplane(\"XY\")\n",
    "            .circle(20)\n",
    "            .polyline(airfoils_coords)\n",
    "            .close()\n",
    "        )\n",
    "\n",
    "        .edges(is_interior=True)\n",
    "        .addPhysicalGroup(\"airfoil\")\n",
    "        .setMeshSize(0.1)\n",
    "        .end()\n",
    "\n",
    "        .edges(is_interior=False)\n",
    "        .addPhysicalGroup(\"farfield\")\n",
    "        .setMeshSize(3.0)\n",
    "        .end()\n",
    "\n",
    "        .generate(2)\n",
    "        .show(\"mesh\")\n",
    "    )\n"
   ]
  },
  {
   "cell_type": "code",
   "execution_count": null,
   "metadata": {},
   "outputs": [],
   "source": []
  }
 ],
 "metadata": {
  "kernelspec": {
   "display_name": "Python 3",
   "language": "python",
   "name": "python3"
  },
  "language_info": {
   "codemirror_mode": {
    "name": "ipython",
    "version": 3
   },
   "file_extension": ".py",
   "mimetype": "text/x-python",
   "name": "python",
   "nbconvert_exporter": "python",
   "pygments_lexer": "ipython3",
   "version": "3.11.4"
  },
  "orig_nbformat": 4,
  "vscode": {
   "interpreter": {
    "hash": "949777d72b0d2535278d3dc13498b2535136f6dfe0678499012e853ee9abcab1"
   }
  }
 },
 "nbformat": 4,
 "nbformat_minor": 2
}
