{
 "cells": [
  {
   "attachments": {},
   "cell_type": "markdown",
   "metadata": {},
   "source": [
    "# Meshing"
   ]
  },
  {
   "attachments": {},
   "cell_type": "markdown",
   "metadata": {},
   "source": [
    "## NACA0012 w/ Transfinite Refinement\n",
    "![NACA0012 Transfinite](../assets/naca0012_transfinite.png)\n",
    "\n",
    "https://su2code.github.io/docs_v7/Quick-Start/"
   ]
  },
  {
   "cell_type": "code",
   "execution_count": 1,
   "metadata": {},
   "outputs": [
    {
     "name": "stderr",
     "output_type": "stream",
     "text": [
      "Warning : Start point 40 and end point 1 of GEO line 40 are closer than the geometrical tolerance, at position (40, -9.79717e-15, 0)\n"
     ]
    },
    {
     "name": "stdout",
     "output_type": "stream",
     "text": [
      "Info    : Meshing 1D...\n",
      "Info    : [  0%] Meshing curve 1 (Line)\n",
      "Info    : [ 10%] Meshing curve 2 (Line)\n",
      "Info    : [ 10%] Meshing curve 3 (Line)\n",
      "Info    : [ 10%] Meshing curve 4 (Line)\n",
      "Info    : [ 10%] Meshing curve 5 (Line)\n",
      "Info    : [ 10%] Meshing curve 6 (Line)\n",
      "Info    : [ 10%] Meshing curve 7 (Line)\n",
      "Info    : [ 10%] Meshing curve 8 (Line)\n",
      "Info    : [ 10%] Meshing curve 9 (Line)\n",
      "Info    : [ 10%] Meshing curve 10 (Line)\n",
      "Info    : [ 10%] Meshing curve 11 (Line)\n",
      "Info    : [ 10%] Meshing curve 12 (Line)\n",
      "Info    : [ 20%] Meshing curve 13 (Line)\n",
      "Info    : [ 20%] Meshing curve 14 (Line)\n",
      "Info    : [ 20%] Meshing curve 15 (Line)\n",
      "Info    : [ 20%] Meshing curve 16 (Line)\n",
      "Info    : [ 20%] Meshing curve 17 (Line)\n",
      "Info    : [ 20%] Meshing curve 18 (Line)\n",
      "Info    : [ 20%] Meshing curve 19 (Line)\n",
      "Info    : [ 20%] Meshing curve 20 (Line)\n",
      "Info    : [ 20%] Meshing curve 21 (Line)\n",
      "Info    : [ 20%] Meshing curve 22 (Line)\n",
      "Info    : [ 20%] Meshing curve 23 (Line)\n",
      "Info    : [ 20%] Meshing curve 24 (Line)\n",
      "Info    : [ 30%] Meshing curve 25 (Line)\n",
      "Info    : [ 30%] Meshing curve 26 (Line)\n",
      "Info    : [ 30%] Meshing curve 27 (Line)\n",
      "Info    : [ 30%] Meshing curve 28 (Line)\n",
      "Info    : [ 30%] Meshing curve 29 (Line)\n",
      "Info    : [ 30%] Meshing curve 30 (Line)\n",
      "Info    : [ 30%] Meshing curve 31 (Line)\n",
      "Info    : [ 30%] Meshing curve 32 (Line)\n",
      "Info    : [ 30%] Meshing curve 33 (Line)\n",
      "Info    : [ 30%] Meshing curve 34 (Line)\n",
      "Info    : [ 30%] Meshing curve 35 (Line)\n",
      "Info    : [ 30%] Meshing curve 36 (Line)\n",
      "Info    : [ 40%] Meshing curve 37 (Line)\n",
      "Info    : [ 40%] Meshing curve 38 (Line)\n",
      "Info    : [ 40%] Meshing curve 39 (Line)\n",
      "Info    : [ 40%] Meshing curve 40 (Line)\n",
      "Info    : [ 40%] Meshing curve 41 (Line)\n",
      "Info    : [ 40%] Meshing curve 42 (Line)\n",
      "Info    : [ 40%] Meshing curve 43 (Line)\n",
      "Info    : [ 40%] Meshing curve 44 (Line)\n",
      "Info    : [ 40%] Meshing curve 45 (Line)\n",
      "Info    : [ 40%] Meshing curve 46 (Line)\n",
      "Info    : [ 40%] Meshing curve 47 (Line)\n",
      "Info    : [ 40%] Meshing curve 48 (Line)\n",
      "Info    : [ 50%] Meshing curve 49 (Line)\n",
      "Info    : [ 50%] Meshing curve 50 (Line)\n",
      "Info    : [ 50%] Meshing curve 51 (Line)\n",
      "Info    : [ 50%] Meshing curve 52 (Line)\n",
      "Info    : [ 50%] Meshing curve 53 (Line)\n",
      "Info    : [ 50%] Meshing curve 54 (Line)\n",
      "Info    : [ 50%] Meshing curve 55 (Line)\n",
      "Info    : [ 50%] Meshing curve 56 (Line)\n",
      "Info    : [ 50%] Meshing curve 57 (Line)\n",
      "Info    : [ 50%] Meshing curve 58 (Line)\n",
      "Info    : [ 50%] Meshing curve 59 (Line)\n",
      "Info    : [ 50%] Meshing curve 60 (Line)\n",
      "Info    : [ 60%] Meshing curve 61 (Line)\n",
      "Info    : [ 60%] Meshing curve 62 (Line)\n",
      "Info    : [ 60%] Meshing curve 63 (Line)\n",
      "Info    : [ 60%] Meshing curve 64 (Line)\n",
      "Info    : [ 60%] Meshing curve 65 (Line)\n",
      "Info    : [ 60%] Meshing curve 66 (Line)\n",
      "Info    : [ 60%] Meshing curve 67 (Line)\n",
      "Info    : [ 60%] Meshing curve 68 (Line)\n",
      "Info    : [ 60%] Meshing curve 69 (Line)\n",
      "Info    : [ 60%] Meshing curve 70 (Line)\n",
      "Info    : [ 60%] Meshing curve 71 (Line)\n",
      "Info    : [ 70%] Meshing curve 72 (Line)\n",
      "Info    : [ 70%] Meshing curve 73 (Line)\n",
      "Info    : [ 70%] Meshing curve 74 (Line)\n",
      "Info    : [ 70%] Meshing curve 75 (Line)\n",
      "Info    : [ 70%] Meshing curve 76 (Line)\n",
      "Info    : [ 70%] Meshing curve 77 (Line)\n",
      "Info    : [ 70%] Meshing curve 78 (Line)\n",
      "Info    : [ 70%] Meshing curve 79 (Line)\n",
      "Info    : [ 70%] Meshing curve 80 (Line)\n",
      "Info    : [ 70%] Meshing curve 81 (Line)\n",
      "Info    : [ 70%] Meshing curve 82 (Line)\n",
      "Info    : [ 70%] Meshing curve 83 (Line)\n",
      "Info    : [ 80%] Meshing curve 84 (Line)\n",
      "Info    : [ 80%] Meshing curve 85 (Line)\n",
      "Info    : [ 80%] Meshing curve 86 (Line)\n",
      "Info    : [ 80%] Meshing curve 87 (Line)\n",
      "Info    : [ 80%] Meshing curve 88 (Line)\n",
      "Info    : [ 80%] Meshing curve 89 (Line)\n",
      "Info    : [ 80%] Meshing curve 90 (Line)\n",
      "Info    : [ 80%] Meshing curve 91 (Line)\n",
      "Info    : [ 80%] Meshing curve 92 (Line)\n",
      "Info    : [ 80%] Meshing curve 93 (Line)\n",
      "Info    : [ 80%] Meshing curve 94 (Line)\n",
      "Info    : [ 80%] Meshing curve 95 (Line)\n",
      "Info    : [ 90%] Meshing curve 96 (Line)\n",
      "Info    : [ 90%] Meshing curve 97 (Line)\n",
      "Info    : [ 90%] Meshing curve 98 (Line)\n",
      "Info    : [ 90%] Meshing curve 99 (Line)\n",
      "Info    : [ 90%] Meshing curve 100 (Line)\n",
      "Info    : [ 90%] Meshing curve 101 (Line)\n",
      "Info    : [ 90%] Meshing curve 102 (Line)\n",
      "Info    : [ 90%] Meshing curve 103 (Line)\n",
      "Info    : [ 90%] Meshing curve 104 (Line)\n",
      "Info    : [ 90%] Meshing curve 105 (Line)\n",
      "Info    : [ 90%] Meshing curve 106 (Line)\n",
      "Info    : [ 90%] Meshing curve 107 (Line)\n",
      "Info    : [100%] Meshing curve 108 (Line)\n",
      "Info    : [100%] Meshing curve 109 (Line)\n",
      "Info    : [100%] Meshing curve 110 (Line)\n",
      "Info    : [100%] Meshing curve 111 (Line)\n",
      "Info    : [100%] Meshing curve 112 (Line)\n",
      "Info    : [100%] Meshing curve 113 (Line)\n",
      "Info    : [100%] Meshing curve 114 (Line)\n",
      "Info    : [100%] Meshing curve 115 (Line)\n",
      "Info    : [100%] Meshing curve 116 (Line)\n",
      "Info    : [100%] Meshing curve 117 (Line)\n",
      "Info    : [100%] Meshing curve 118 (Line)\n",
      "Info    : Done meshing 1D (Wall 0.00432625s, CPU 0.021879s)\n",
      "Info    : Meshing 2D...\n",
      "Info    : Meshing surface 1 (Plane, Frontal-Delaunay)\n",
      "Info    : Done meshing 2D (Wall 0.148166s, CPU 0.920985s)\n",
      "Info    : Meshing 3D...\n",
      "Info    : Done meshing 3D (Wall 8.584e-06s, CPU 4e-06s)\n",
      "Info    : 5084 nodes 10286 elements\n"
     ]
    },
    {
     "data": {
      "application/vnd.jupyter.widget-view+json": {
       "model_id": "130697c8241546a1a2ae51b124350adc",
       "version_major": 2,
       "version_minor": 0
      },
      "text/plain": [
       "HTML(value='Coords: ()')"
      ]
     },
     "metadata": {},
     "output_type": "display_data"
    },
    {
     "data": {
      "application/vnd.jupyter.widget-view+json": {
       "model_id": "be4b7600cb1246e7bdd1414a71479133",
       "version_major": 2,
       "version_minor": 0
      },
      "text/plain": [
       "Renderer(camera=PerspectiveCamera(aspect=1.3333333333333333, far=100000.0, near=0.001, position=(0.0, 0.0, 1.0…"
      ]
     },
     "metadata": {},
     "output_type": "display_data"
    },
    {
     "data": {
      "text/html": [
       "<div style=\"float: left; padding-right: 50px\"><h2>Markers</h2><table><tr><td style=\"background-color: rgb(250,7,7)\" width=\"20\"></td><td>farfield</td></tr><tr><td style=\"background-color: rgb(26,253,253)\" width=\"20\"></td><td>airfoil</td></tr></table></div><div style=\"float: left; padding-right: 50px\"><h2>Zones</h2><table><tr><td style=\"background-color: rgb(127,127,127)\" width=\"20\"></td><td>Zone 0</td></tr></table></div>"
      ],
      "text/plain": [
       "<IPython.core.display.HTML object>"
      ]
     },
     "metadata": {},
     "output_type": "display_data"
    },
    {
     "ename": "IndexError",
     "evalue": "index 2 is out of bounds for axis 1 with size 2",
     "output_type": "error",
     "traceback": [
      "\u001b[0;31m---------------------------------------------------------------------------\u001b[0m",
      "\u001b[0;31mIndexError\u001b[0m                                Traceback (most recent call last)",
      "Cell \u001b[0;32mIn[1], line 24\u001b[0m\n\u001b[1;32m     22\u001b[0m     visualize_mesh(mesh)\n\u001b[1;32m     23\u001b[0m     geo\u001b[39m.\u001b[39mwrite(\u001b[39m\"\u001b[39m\u001b[39mmesh_NACA0012_inv.su2\u001b[39m\u001b[39m\"\u001b[39m)\n\u001b[0;32m---> 24\u001b[0m surface\u001b[39m.\u001b[39;49mvisualize()\n",
      "File \u001b[0;32m~/Documents/ezmesh/ezmesh/geometry/plane_surface.py:74\u001b[0m, in \u001b[0;36mPlaneSurface.visualize\u001b[0;34m(self, title)\u001b[0m\n\u001b[1;32m     73\u001b[0m \u001b[39mdef\u001b[39;00m \u001b[39mvisualize\u001b[39m(\u001b[39mself\u001b[39m, title: \u001b[39mstr\u001b[39m \u001b[39m=\u001b[39m \u001b[39m\"\u001b[39m\u001b[39mSurface\u001b[39m\u001b[39m\"\u001b[39m):\n\u001b[0;32m---> 74\u001b[0m     visualize_curve_loops(\u001b[39mself\u001b[39;49m\u001b[39m.\u001b[39;49mcurve_loops, title)\n",
      "File \u001b[0;32m~/Documents/ezmesh/ezmesh/visualizer.py:30\u001b[0m, in \u001b[0;36mvisualize_curve_loops\u001b[0;34m(curve_loops, title, samples_per_spline, is_cosine_sampling)\u001b[0m\n\u001b[1;32m     25\u001b[0m \u001b[39mfor\u001b[39;00m i, curve_loop \u001b[39min\u001b[39;00m \u001b[39menumerate\u001b[39m(curve_loops):\n\u001b[1;32m     26\u001b[0m     loop_exterior_coords \u001b[39m=\u001b[39m curve_loop\u001b[39m.\u001b[39mget_exterior_coords(samples_per_spline, is_cosine_sampling)\n\u001b[1;32m     27\u001b[0m     fig\u001b[39m.\u001b[39madd_scatter3d(\n\u001b[1;32m     28\u001b[0m         x\u001b[39m=\u001b[39mloop_exterior_coords[:,\u001b[39m0\u001b[39m],\n\u001b[1;32m     29\u001b[0m         y\u001b[39m=\u001b[39mloop_exterior_coords[:,\u001b[39m1\u001b[39m],\n\u001b[0;32m---> 30\u001b[0m         z\u001b[39m=\u001b[39mloop_exterior_coords[:,\u001b[39m2\u001b[39;49m],\n\u001b[1;32m     31\u001b[0m         \u001b[39m# name=curve_loops[i].label,\u001b[39;00m\n\u001b[1;32m     32\u001b[0m         \u001b[39m# legendgroup=\"Curve Loops\",\u001b[39;00m\n\u001b[1;32m     33\u001b[0m         \u001b[39m# fill=\"toself\",\u001b[39;00m\n\u001b[1;32m     34\u001b[0m     )\n\u001b[1;32m     37\u001b[0m fig\u001b[39m.\u001b[39mlayout\u001b[39m.\u001b[39myaxis\u001b[39m.\u001b[39mscaleanchor \u001b[39m=\u001b[39m \u001b[39m\"\u001b[39m\u001b[39mx\u001b[39m\u001b[39m\"\u001b[39m  \u001b[39m# type: ignore\u001b[39;00m\n\u001b[1;32m     38\u001b[0m fig\u001b[39m.\u001b[39mshow()\n",
      "\u001b[0;31mIndexError\u001b[0m: index 2 is out of bounds for axis 1 with size 2"
     ]
    }
   ],
   "source": [
    "from ezmesh import Geometry, CurveLoop, PlaneSurface, visualize_mesh\n",
    "from ezmesh.utils.shapes import generate_circle, generate_naca4_airfoil\n",
    "\n",
    "airfoils_coords = generate_naca4_airfoil(\"0012\", num_points=40)\n",
    "farfield_coords = generate_circle(40, num_points=40)\n",
    "\n",
    "airfoil_curve_loop = CurveLoop.from_coords(\n",
    "    airfoils_coords, \n",
    "    mesh_size=0.1,\n",
    "    label=\"airfoil\",\n",
    ")\n",
    "\n",
    "farfield_curve_loop = CurveLoop.from_coords(\n",
    "    farfield_coords, \n",
    "    mesh_size=3.0,\n",
    "    label=\"farfield\",\n",
    ")\n",
    "\n",
    "surface = PlaneSurface([farfield_curve_loop, airfoil_curve_loop])\n",
    "with Geometry() as geo:\n",
    "    mesh = geo.generate(surface)\n",
    "    visualize_mesh(mesh)\n",
    "    geo.write(\"mesh_NACA0012_inv.su2\")\n",
    "surface.visualize()"
   ]
  },
  {
   "attachments": {},
   "cell_type": "markdown",
   "metadata": {},
   "source": [
    "## NACA0012 w/ Boundary Layer"
   ]
  },
  {
   "cell_type": "code",
   "execution_count": 2,
   "metadata": {},
   "outputs": [
    {
     "name": "stdout",
     "output_type": "stream",
     "text": [
      "Info    : Meshing 1D...\n",
      "Info    : [  0%] Meshing curve 1 (Line)\n",
      "Info    : [ 10%] Meshing curve 2 (Line)\n",
      "Info    : [ 10%] Meshing curve 3 (Line)\n",
      "Info    : [ 10%] Meshing curve 4 (Line)\n",
      "Info    : [ 10%] Meshing curve 5 (Line)\n",
      "Info    : [ 10%] Meshing curve 6 (Line)\n",
      "Info    : [ 10%] Meshing curve 7 (Line)\n",
      "Info    : [ 10%] Meshing curve 8 (Line)\n",
      "Info    : [ 10%] Meshing curve 9 (Line)\n",
      "Info    : [ 10%] Meshing curve 10 (Line)\n",
      "Info    : [ 10%] Meshing curve 11 (Line)\n",
      "Info    : [ 10%] Meshing curve 12 (Line)\n",
      "Info    : [ 20%] Meshing curve 13 (Line)\n",
      "Info    : [ 20%] Meshing curve 14 (Line)\n",
      "Info    : [ 20%] Meshing curve 15 (Line)\n",
      "Info    : [ 20%] Meshing curve 16 (Line)\n",
      "Info    : [ 20%] Meshing curve 17 (Line)\n",
      "Info    : [ 20%] Meshing curve 18 (Line)\n",
      "Info    : [ 20%] Meshing curve 19 (Line)\n",
      "Info    : [ 20%] Meshing curve 20 (Line)\n",
      "Info    : [ 20%] Meshing curve 21 (Line)\n",
      "Info    : [ 20%] Meshing curve 22 (Line)\n",
      "Info    : [ 20%] Meshing curve 23 (Line)\n",
      "Info    : [ 20%] Meshing curve 24 (Line)\n",
      "Info    : [ 30%] Meshing curve 25 (Line)\n",
      "Info    : [ 30%] Meshing curve 26 (Line)\n",
      "Info    : [ 30%] Meshing curve 27 (Line)\n",
      "Info    : [ 30%] Meshing curve 28 (Line)\n",
      "Info    : [ 30%] Meshing curve 29 (Line)\n",
      "Info    : [ 30%] Meshing curve 30 (Line)\n",
      "Info    : [ 30%] Meshing curve 31 (Line)\n",
      "Info    : [ 30%] Meshing curve 32 (Line)\n",
      "Info    : [ 30%] Meshing curve 33 (Line)\n",
      "Info    : [ 30%] Meshing curve 34 (Line)\n",
      "Info    : [ 30%] Meshing curve 35 (Line)\n",
      "Info    : [ 30%] Meshing curve 36 (Line)\n",
      "Info    : [ 40%] Meshing curve 37 (Line)\n",
      "Info    : [ 40%] Meshing curve 38 (Line)\n",
      "Info    : [ 40%] Meshing curve 39 (Line)\n",
      "Info    : [ 40%] Meshing curve 40 (Line)\n",
      "Info    : [ 40%] Meshing curve 41 (Line)\n",
      "Info    : [ 40%] Meshing curve 42 (Line)\n",
      "Info    : [ 40%] Meshing curve 43 (Line)\n",
      "Info    : [ 40%] Meshing curve 44 (Line)\n",
      "Info    : [ 40%] Meshing curve 45 (Line)\n",
      "Info    : [ 40%] Meshing curve 46 (Line)\n",
      "Info    : [ 40%] Meshing curve 47 (Line)\n",
      "Info    : [ 40%] Meshing curve 48 (Line)\n",
      "Info    : [ 50%] Meshing curve 49 (Line)\n",
      "Info    : [ 50%] Meshing curve 50 (Line)\n",
      "Info    : [ 50%] Meshing curve 51 (Line)\n",
      "Info    : [ 50%] Meshing curve 52 (Line)\n",
      "Info    : [ 50%] Meshing curve 53 (Line)\n",
      "Info    : [ 50%] Meshing curve 54 (Line)\n",
      "Info    : [ 50%] Meshing curve 55 (Line)\n",
      "Info    : [ 50%] Meshing curve 56 (Line)\n",
      "Info    : [ 50%] Meshing curve 57 (Line)\n",
      "Info    : [ 50%] Meshing curve 58 (Line)\n",
      "Info    : [ 50%] Meshing curve 59 (Line)\n",
      "Info    : [ 50%] Meshing curve 60 (Line)\n",
      "Info    : [ 60%] Meshing curve 61 (Line)\n",
      "Info    : [ 60%] Meshing curve 62 (Line)\n",
      "Info    : [ 60%] Meshing curve 63 (Line)\n",
      "Info    : [ 60%] Meshing curve 64 (Line)\n",
      "Info    : [ 60%] Meshing curve 65 (Line)\n",
      "Info    : [ 60%] Meshing curve 66 (Line)\n",
      "Info    : [ 60%] Meshing curve 67 (Line)\n",
      "Info    : [ 60%] Meshing curve 68 (Line)\n",
      "Info    : [ 60%] Meshing curve 69 (Line)\n",
      "Info    : [ 60%] Meshing curve 70 (Line)\n",
      "Info    : [ 60%] Meshing curve 71 (Line)\n",
      "Info    : [ 70%] Meshing curve 72 (Line)\n",
      "Info    : [ 70%] Meshing curve 73 (Line)\n",
      "Info    : [ 70%] Meshing curve 74 (Line)\n",
      "Info    : [ 70%] Meshing curve 75 (Line)\n",
      "Info    : [ 70%] Meshing curve 76 (Line)\n",
      "Info    : [ 70%] Meshing curve 77 (Line)\n",
      "Info    : [ 70%] Meshing curve 78 (Line)\n",
      "Info    : [ 70%] Meshing curve 79 (Line)\n",
      "Info    : [ 70%] Meshing curve 80 (Line)\n",
      "Info    : [ 70%] Meshing curve 81 (Line)\n",
      "Info    : [ 70%] Meshing curve 82 (Line)\n",
      "Info    : [ 70%] Meshing curve 83 (Line)\n",
      "Info    : [ 80%] Meshing curve 84 (Line)\n",
      "Info    : [ 80%] Meshing curve 85 (Line)\n",
      "Info    : [ 80%] Meshing curve 86 (Line)\n",
      "Info    : [ 80%] Meshing curve 87 (Line)\n",
      "Info    : [ 80%] Meshing curve 88 (Line)\n",
      "Info    : [ 80%] Meshing curve 89 (Line)\n",
      "Info    : [ 80%] Meshing curve 90 (Line)\n",
      "Info    : [ 80%] Meshing curve 91 (Line)\n",
      "Info    : [ 80%] Meshing curve 92 (Line)\n",
      "Info    : [ 80%] Meshing curve 93 (Line)\n",
      "Info    : [ 80%] Meshing curve 94 (Line)\n",
      "Info    : [ 80%] Meshing curve 95 (Line)\n",
      "Info    : [ 90%] Meshing curve 96 (Line)\n",
      "Info    : [ 90%] Meshing curve 97 (Line)\n",
      "Info    : [ 90%] Meshing curve 98 (Line)\n",
      "Info    : [ 90%] Meshing curve 99 (Line)\n",
      "Info    : [ 90%] Meshing curve 100 (Line)\n",
      "Info    : [ 90%] Meshing curve 101 (Line)\n",
      "Info    : [ 90%] Meshing curve 102 (Line)\n",
      "Info    : [ 90%] Meshing curve 103 (Line)\n",
      "Info    : [ 90%] Meshing curve 104 (Line)\n",
      "Info    : [ 90%] Meshing curve 105 (Line)\n",
      "Info    : [ 90%] Meshing curve 106 (Line)\n",
      "Info    : [ 90%] Meshing curve 107 (Line)\n",
      "Info    : [100%] Meshing curve 108 (Line)\n",
      "Info    : [100%] Meshing curve 109 (Line)\n",
      "Info    : [100%] Meshing curve 110 (Line)\n",
      "Info    : [100%] Meshing curve 111 (Line)\n",
      "Info    : [100%] Meshing curve 112 (Line)\n",
      "Info    : [100%] Meshing curve 113 (Line)\n",
      "Info    : [100%] Meshing curve 114 (Line)\n",
      "Info    : [100%] Meshing curve 115 (Line)\n",
      "Info    : [100%] Meshing curve 116 (Line)\n",
      "Info    : [100%] Meshing curve 117 (Line)\n",
      "Info    : [100%] Meshing curve 118 (Line)\n",
      "Info    : Done meshing 1D (Wall 0.00533421s, CPU 0.005647s)\n",
      "Info    : Meshing 2D...\n",
      "Info    : Meshing surface 1 (Plane, Frontal-Delaunay)\n",
      "Info    : Done meshing 2D (Wall 0.0915536s, CPU 0.089344s)\n",
      "Info    : Meshing 3D...\n",
      "Info    : Done meshing 3D (Wall 5.4579e-06s, CPU 5e-06s)\n",
      "Info    : 4591 nodes 9144 elements\n"
     ]
    },
    {
     "name": "stderr",
     "output_type": "stream",
     "text": [
      "Warning : Start point 40 and end point 1 of GEO line 40 are closer than the geometrical tolerance, at position (40, -9.79717e-15, 0)\n"
     ]
    },
    {
     "data": {
      "application/vnd.jupyter.widget-view+json": {
       "model_id": "edaea2f922a64027b3da37fb57dcc4f2",
       "version_major": 2,
       "version_minor": 0
      },
      "text/plain": [
       "HTML(value='Coords: ()')"
      ]
     },
     "metadata": {},
     "output_type": "display_data"
    },
    {
     "data": {
      "application/vnd.jupyter.widget-view+json": {
       "model_id": "854faaf74350456a991fec91fed32d4b",
       "version_major": 2,
       "version_minor": 0
      },
      "text/plain": [
       "Renderer(camera=PerspectiveCamera(aspect=1.3333333333333333, far=100000.0, near=0.001, position=(0.0, 0.0, 1.0…"
      ]
     },
     "metadata": {},
     "output_type": "display_data"
    },
    {
     "data": {
      "text/html": [
       "<div style=\"float: left; padding-right: 50px\"><h2>Markers</h2><table><tr><td style=\"background-color: rgb(250,17,17)\" width=\"20\"></td><td>farfield</td></tr><tr><td style=\"background-color: rgb(17,249,249)\" width=\"20\"></td><td>airfoil</td></tr></table></div><div style=\"float: left; padding-right: 50px\"><h2>Zones</h2><table><tr><td style=\"background-color: rgb(127,127,127)\" width=\"20\"></td><td>Zone 0</td></tr></table></div>"
      ],
      "text/plain": [
       "<IPython.core.display.HTML object>"
      ]
     },
     "metadata": {},
     "output_type": "display_data"
    }
   ],
   "source": [
    "from ezmesh import Geometry, CurveLoop, PlaneSurface, BoundaryLayerField, visualize_mesh\n",
    "from ezmesh.utils.shapes import generate_circle, generate_naca4_airfoil\n",
    "import plotly.graph_objects as go\n",
    "\n",
    "\n",
    "with Geometry() as geo:\n",
    "\n",
    "    airfoils_coords = generate_naca4_airfoil(\"0012\", num_points=40)\n",
    "    farfield_coords = generate_circle(40, num_points=40)\n",
    "\n",
    "    airfoil_curve_loop = CurveLoop.from_coords(\n",
    "        airfoils_coords, \n",
    "        mesh_size=0.1,\n",
    "        label=\"airfoil\",\n",
    "        fields=[\n",
    "            BoundaryLayerField(\n",
    "                aniso_max=10,\n",
    "                hfar=0.5,\n",
    "                hwall_n=0.009,\n",
    "                thickness=0.02,\n",
    "                is_quad_mesh=True,\n",
    "                intersect_metrics=False\n",
    "            )\n",
    "        ]\n",
    "    )\n",
    "\n",
    "    farfield_curve_loop = CurveLoop.from_coords(\n",
    "        farfield_coords, \n",
    "        mesh_size=3.0,\n",
    "        label=\"farfield\",\n",
    "    )\n",
    "\n",
    "    surface = PlaneSurface([farfield_curve_loop, airfoil_curve_loop])\n",
    "    mesh = geo.generate(surface)\n",
    "    visualize_mesh(mesh)\n",
    "    geo.write(\"mesh_NACA0012_inv.su2\")\n"
   ]
  }
 ],
 "metadata": {
  "kernelspec": {
   "display_name": "Python 3",
   "language": "python",
   "name": "python3"
  },
  "language_info": {
   "codemirror_mode": {
    "name": "ipython",
    "version": 3
   },
   "file_extension": ".py",
   "mimetype": "text/x-python",
   "name": "python",
   "nbconvert_exporter": "python",
   "pygments_lexer": "ipython3",
   "version": "3.9.6"
  },
  "orig_nbformat": 4,
  "vscode": {
   "interpreter": {
    "hash": "949777d72b0d2535278d3dc13498b2535136f6dfe0678499012e853ee9abcab1"
   }
  }
 },
 "nbformat": 4,
 "nbformat_minor": 2
}
