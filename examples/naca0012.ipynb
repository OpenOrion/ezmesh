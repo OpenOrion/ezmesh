{
 "cells": [
  {
   "attachments": {},
   "cell_type": "markdown",
   "metadata": {},
   "source": [
    "# Meshing"
   ]
  },
  {
   "attachments": {},
   "cell_type": "markdown",
   "metadata": {},
   "source": [
    "## NACA0012 w/ Transfinite Refinement\n",
    "![NACA0012 Transfinite](../assets/naca0012_transfinite.png)\n",
    "\n",
    "https://su2code.github.io/docs_v7/Quick-Start/"
   ]
  },
  {
   "cell_type": "code",
   "execution_count": 1,
   "metadata": {},
   "outputs": [
    {
     "name": "stdout",
     "output_type": "stream",
     "text": [
      "Overwriting auto display for cadquery Workplane and Shape\n",
      "Info    : Meshing 1D...\n",
      "Info    : [  0%] Meshing curve 1 (Line)\n",
      "Info    : [ 10%] Meshing curve 2 (Line)\n",
      "Info    : [ 10%] Meshing curve 3 (Line)\n",
      "Info    : [ 10%] Meshing curve 4 (Line)\n",
      "Info    : [ 10%] Meshing curve 5 (Line)\n",
      "Info    : [ 10%] Meshing curve 6 (Line)\n",
      "Info    : [ 10%] Meshing curve 7 (Line)\n",
      "Info    : [ 10%] Meshing curve 8 (Line)\n",
      "Info    : [ 10%] Meshing curve 9 (Line)\n",
      "Info    : [ 10%] Meshing curve 10 (Line)\n",
      "Info    : [ 10%] Meshing curve 11 (Line)\n",
      "Info    : [ 10%] Meshing curve 12 (Line)\n",
      "Info    : [ 20%] Meshing curve 13 (Line)\n",
      "Info    : [ 20%] Meshing curve 14 (Line)\n",
      "Info    : [ 20%] Meshing curve 15 (Line)\n",
      "Info    : [ 20%] Meshing curve 16 (Line)\n",
      "Info    : [ 20%] Meshing curve 17 (Line)\n",
      "Info    : [ 20%] Meshing curve 18 (Line)\n",
      "Info    : [ 20%] Meshing curve 19 (Line)\n",
      "Info    : [ 20%] Meshing curve 20 (Line)\n",
      "Info    : [ 20%] Meshing curve 21 (Line)\n",
      "Info    : [ 20%] Meshing curve 22 (Line)\n",
      "Info    : [ 20%] Meshing curve 23 (Line)\n",
      "Info    : [ 20%] Meshing curve 24 (Line)\n",
      "Info    : [ 30%] Meshing curve 25 (Line)\n",
      "Info    : [ 30%] Meshing curve 26 (Line)\n",
      "Info    : [ 30%] Meshing curve 27 (Line)\n",
      "Info    : [ 30%] Meshing curve 28 (Line)\n",
      "Info    : [ 30%] Meshing curve 29 (Line)\n",
      "Info    : [ 30%] Meshing curve 30 (Line)\n",
      "Info    : [ 30%] Meshing curve 31 (Line)\n",
      "Info    : [ 30%] Meshing curve 32 (Line)\n",
      "Info    : [ 30%] Meshing curve 33 (Line)\n",
      "Info    : [ 30%] Meshing curve 34 (Line)\n",
      "Info    : [ 30%] Meshing curve 35 (Line)\n",
      "Info    : [ 30%] Meshing curve 36 (Line)\n",
      "Info    : [ 40%] Meshing curve 37 (Line)\n",
      "Info    : [ 40%] Meshing curve 38 (Line)\n",
      "Info    : [ 40%] Meshing curve 39 (Line)\n",
      "Info    : [ 40%] Meshing curve 40 (Line)\n",
      "Info    : [ 40%] Meshing curve 41 (Line)\n",
      "Info    : [ 40%] Meshing curve 42 (Line)\n",
      "Info    : [ 40%] Meshing curve 43 (Line)\n",
      "Info    : [ 40%] Meshing curve 44 (Line)\n",
      "Info    : [ 40%] Meshing curve 45 (Line)\n",
      "Info    : [ 40%] Meshing curve 46 (Line)\n",
      "Info    : [ 40%] Meshing curve 47 (Line)\n",
      "Info    : [ 40%] Meshing curve 48 (Line)\n",
      "Info    : [ 50%] Meshing curve 49 (Line)\n",
      "Info    : [ 50%] Meshing curve 50 (Line)\n",
      "Info    : [ 50%] Meshing curve 51 (Line)\n",
      "Info    : [ 50%] Meshing curve 52 (Line)\n",
      "Info    : [ 50%] Meshing curve 53 (Line)\n",
      "Info    : [ 50%] Meshing curve 54 (Line)\n",
      "Info    : [ 50%] Meshing curve 55 (Line)\n",
      "Info    : [ 50%] Meshing curve 56 (Line)\n",
      "Info    : [ 50%] Meshing curve 57 (Line)\n",
      "Info    : [ 50%] Meshing curve 58 (Line)\n",
      "Info    : [ 50%] Meshing curve 59 (Line)\n",
      "Info    : [ 50%] Meshing curve 60 (Line)\n",
      "Info    : [ 60%] Meshing curve 61 (Line)\n",
      "Info    : [ 60%] Meshing curve 62 (Line)\n",
      "Info    : [ 60%] Meshing curve 63 (Line)\n",
      "Info    : [ 60%] Meshing curve 64 (Line)\n",
      "Info    : [ 60%] Meshing curve 65 (Line)\n",
      "Info    : [ 60%] Meshing curve 66 (Line)\n",
      "Info    : [ 60%] Meshing curve 67 (Line)\n",
      "Info    : [ 60%] Meshing curve 68 (Line)\n",
      "Info    : [ 60%] Meshing curve 69 (Line)\n",
      "Info    : [ 60%] Meshing curve 70 (Line)\n",
      "Info    : [ 60%] Meshing curve 71 (Line)\n",
      "Info    : [ 70%] Meshing curve 72 (Line)\n",
      "Info    : [ 70%] Meshing curve 73 (Line)\n",
      "Info    : [ 70%] Meshing curve 74 (Line)\n",
      "Info    : [ 70%] Meshing curve 75 (Line)\n",
      "Info    : [ 70%] Meshing curve 76 (Line)\n",
      "Info    : [ 70%] Meshing curve 77 (Line)\n",
      "Info    : [ 70%] Meshing curve 78 (Line)\n",
      "Info    : [ 70%] Meshing curve 79 (Line)\n",
      "Info    : [ 70%] Meshing curve 80 (Line)\n",
      "Info    : [ 70%] Meshing curve 81 (Line)\n",
      "Info    : [ 70%] Meshing curve 82 (Line)\n",
      "Info    : [ 70%] Meshing curve 83 (Line)\n",
      "Info    : [ 80%] Meshing curve 84 (Line)\n",
      "Info    : [ 80%] Meshing curve 85 (Line)\n",
      "Info    : [ 80%] Meshing curve 86 (Line)\n",
      "Info    : [ 80%] Meshing curve 87 (Line)\n",
      "Info    : [ 80%] Meshing curve 88 (Line)\n",
      "Info    : [ 80%] Meshing curve 89 (Line)\n",
      "Info    : [ 80%] Meshing curve 90 (Line)\n",
      "Info    : [ 80%] Meshing curve 91 (Line)\n",
      "Info    : [ 80%] Meshing curve 92 (Line)\n",
      "Info    : [ 80%] Meshing curve 93 (Line)\n",
      "Info    : [ 80%] Meshing curve 94 (Line)\n",
      "Info    : [ 80%] Meshing curve 95 (Line)\n",
      "Info    : [ 90%] Meshing curve 96 (Line)\n",
      "Info    : [ 90%] Meshing curve 97 (Line)\n",
      "Info    : [ 90%] Meshing curve 98 (Line)\n",
      "Info    : [ 90%] Meshing curve 99 (Line)\n",
      "Info    : [ 90%] Meshing curve 100 (Line)\n",
      "Info    : [ 90%] Meshing curve 101 (Line)\n",
      "Info    : [ 90%] Meshing curve 102 (Line)\n",
      "Info    : [ 90%] Meshing curve 103 (Line)\n",
      "Info    : [ 90%] Meshing curve 104 (Line)\n",
      "Info    : [ 90%] Meshing curve 105 (Line)\n",
      "Info    : [ 90%] Meshing curve 106 (Line)\n",
      "Info    : [ 90%] Meshing curve 107 (Line)\n",
      "Info    : [100%] Meshing curve 108 (Line)\n",
      "Info    : [100%] Meshing curve 109 (Line)\n",
      "Info    : [100%] Meshing curve 110 (Line)\n",
      "Info    : [100%] Meshing curve 111 (Line)\n",
      "Info    : [100%] Meshing curve 112 (Line)\n",
      "Info    : [100%] Meshing curve 113 (Line)\n",
      "Info    : [100%] Meshing curve 114 (Line)\n",
      "Info    : [100%] Meshing curve 115 (Line)\n",
      "Info    : [100%] Meshing curve 116 (Line)\n",
      "Info    : [100%] Meshing curve 117 (Line)\n",
      "Info    : [100%] Meshing curve 118 (Line)\n",
      "Info    : Done meshing 1D (Wall 0.00406338s, CPU 0.004196s)\n",
      "Info    : Meshing 2D...\n",
      "Info    : Meshing surface 1 (Plane, Frontal-Delaunay)\n",
      "Info    : Done meshing 2D (Wall 0.0926642s, CPU 0.091285s)\n",
      "Info    : Meshing 3D...\n",
      "Info    : Done meshing 3D (Wall 9.58308e-06s, CPU 5e-06s)\n",
      "Info    : 4568 nodes 9254 elements\n"
     ]
    },
    {
     "name": "stderr",
     "output_type": "stream",
     "text": [
      "Warning : Start point 40 and end point 1 of GEO line 40 are closer than the geometrical tolerance, at position (40, -9.79717e-15, 0)\n"
     ]
    },
    {
     "data": {
      "application/vnd.jupyter.widget-view+json": {
       "model_id": "792c39089d6544609f656523308b6b82",
       "version_major": 2,
       "version_minor": 0
      },
      "text/plain": [
       "HTML(value='Coords: ()')"
      ]
     },
     "metadata": {},
     "output_type": "display_data"
    },
    {
     "data": {
      "application/vnd.jupyter.widget-view+json": {
       "model_id": "53dab1a6012248dabb76438b144f80f6",
       "version_major": 2,
       "version_minor": 0
      },
      "text/plain": [
       "Renderer(camera=PerspectiveCamera(aspect=1.3333333333333333, far=100000.0, near=0.001, position=(0.0, 0.0, 1.0…"
      ]
     },
     "metadata": {},
     "output_type": "display_data"
    },
    {
     "data": {
      "text/html": [
       "<div style=\"float: left; padding-right: 50px\"><h2>Markers</h2><table><tr><td style=\"background-color: rgb(254,18,18)\" width=\"20\"></td><td>airfoil</td></tr><tr><td style=\"background-color: rgb(20,245,245)\" width=\"20\"></td><td>farfield</td></tr></table></div><div style=\"float: left; padding-right: 50px\"><h2>Zones</h2><table><tr><td style=\"background-color: rgb(127,127,127)\" width=\"20\"></td><td>Zone 0</td></tr></table></div>"
      ],
      "text/plain": [
       "<IPython.core.display.HTML object>"
      ]
     },
     "metadata": {},
     "output_type": "display_data"
    }
   ],
   "source": [
    "from ezmesh import Geometry, CurveLoop, PlaneSurface, visualize_mesh\n",
    "from ezmesh.utils.shapes import generate_circle, generate_naca4_airfoil\n",
    "from ezmesh.geometry.plot import plot_entities\n",
    "from ezmesh.utils.geometry import sync_geo\n",
    "\n",
    "airfoils_coords = generate_naca4_airfoil(\"0012\", num_points=40)\n",
    "farfield_coords = generate_circle(40, num_points=40)\n",
    "\n",
    "airfoil_curve_loop = CurveLoop.from_coords(\n",
    "    airfoils_coords, \n",
    "    mesh_size=0.1,\n",
    "    label=\"airfoil\",\n",
    ")\n",
    "\n",
    "farfield_curve_loop = CurveLoop.from_coords(\n",
    "    farfield_coords, \n",
    "    mesh_size=3.0,\n",
    "    label=\"farfield\",\n",
    ")\n",
    "\n",
    "surface = PlaneSurface([farfield_curve_loop, airfoil_curve_loop])\n",
    "with Geometry() as geo:\n",
    "    mesh = geo.generate(surface)\n",
    "    visualize_mesh(mesh)\n",
    "    geo.write(\"mesh_NACA0012_inv.su2\")\n",
    "\n"
   ]
  },
  {
   "attachments": {},
   "cell_type": "markdown",
   "metadata": {},
   "source": [
    "## NACA0012 w/ Boundary Layer"
   ]
  },
  {
   "cell_type": "code",
   "execution_count": 1,
   "metadata": {},
   "outputs": [
    {
     "name": "stdout",
     "output_type": "stream",
     "text": [
      "Overwriting auto display for cadquery Workplane and Shape\n",
      "Info    : Meshing 1D...\n",
      "Info    : [  0%] Meshing curve 1 (Line)\n",
      "Info    : [ 10%] Meshing curve 2 (Line)\n",
      "Info    : [ 10%] Meshing curve 3 (Line)\n",
      "Info    : [ 10%] Meshing curve 4 (Line)\n",
      "Info    : [ 10%] Meshing curve 5 (Line)\n",
      "Info    : [ 10%] Meshing curve 6 (Line)\n",
      "Info    : [ 10%] Meshing curve 7 (Line)\n",
      "Info    : [ 10%] Meshing curve 8 (Line)\n",
      "Info    : [ 10%] Meshing curve 9 (Line)\n",
      "Info    : [ 10%] Meshing curve 10 (Line)\n",
      "Info    : [ 10%] Meshing curve 11 (Line)\n",
      "Info    : [ 10%] Meshing curve 12 (Line)\n",
      "Info    : [ 20%] Meshing curve 13 (Line)\n",
      "Info    : [ 20%] Meshing curve 14 (Line)\n",
      "Info    : [ 20%] Meshing curve 15 (Line)\n",
      "Info    : [ 20%] Meshing curve 16 (Line)\n",
      "Info    : [ 20%] Meshing curve 17 (Line)\n",
      "Info    : [ 20%] Meshing curve 18 (Line)\n",
      "Info    : [ 20%] Meshing curve 19 (Line)\n",
      "Info    : [ 20%] Meshing curve 20 (Line)\n",
      "Info    : [ 20%] Meshing curve 21 (Line)\n",
      "Info    : [ 20%] Meshing curve 22 (Line)\n",
      "Info    : [ 20%] Meshing curve 23 (Line)\n",
      "Info    : [ 20%] Meshing curve 24 (Line)\n",
      "Info    : [ 30%] Meshing curve 25 (Line)\n",
      "Info    : [ 30%] Meshing curve 26 (Line)\n",
      "Info    : [ 30%] Meshing curve 27 (Line)\n",
      "Info    : [ 30%] Meshing curve 28 (Line)\n",
      "Info    : [ 30%] Meshing curve 29 (Line)\n",
      "Info    : [ 30%] Meshing curve 30 (Line)\n",
      "Info    : [ 30%] Meshing curve 31 (Line)\n",
      "Info    : [ 30%] Meshing curve 32 (Line)\n",
      "Info    : [ 30%] Meshing curve 33 (Line)\n",
      "Info    : [ 30%] Meshing curve 34 (Line)\n",
      "Info    : [ 30%] Meshing curve 35 (Line)\n",
      "Info    : [ 30%] Meshing curve 36 (Line)\n",
      "Info    : [ 40%] Meshing curve 37 (Line)\n",
      "Info    : [ 40%] Meshing curve 38 (Line)\n",
      "Info    : [ 40%] Meshing curve 39 (Line)\n",
      "Info    : [ 40%] Meshing curve 40 (Line)\n",
      "Info    : [ 40%] Meshing curve 41 (Line)\n",
      "Info    : [ 40%] Meshing curve 42 (Line)\n",
      "Info    : [ 40%] Meshing curve 43 (Line)\n",
      "Info    : [ 40%] Meshing curve 44 (Line)\n",
      "Info    : [ 40%] Meshing curve 45 (Line)\n",
      "Info    : [ 40%] Meshing curve 46 (Line)\n",
      "Info    : [ 40%] Meshing curve 47 (Line)\n",
      "Info    : [ 40%] Meshing curve 48 (Line)\n",
      "Info    : [ 50%] Meshing curve 49 (Line)\n",
      "Info    : [ 50%] Meshing curve 50 (Line)\n",
      "Info    : [ 50%] Meshing curve 51 (Line)\n",
      "Info    : [ 50%] Meshing curve 52 (Line)\n",
      "Info    : [ 50%] Meshing curve 53 (Line)\n",
      "Info    : [ 50%] Meshing curve 54 (Line)\n",
      "Info    : [ 50%] Meshing curve 55 (Line)\n",
      "Info    : [ 50%] Meshing curve 56 (Line)\n",
      "Info    : [ 50%] Meshing curve 57 (Line)\n",
      "Info    : [ 50%] Meshing curve 58 (Line)\n",
      "Info    : [ 50%] Meshing curve 59 (Line)\n",
      "Info    : [ 50%] Meshing curve 60 (Line)\n",
      "Info    : [ 60%] Meshing curve 61 (Line)\n",
      "Info    : [ 60%] Meshing curve 62 (Line)\n",
      "Info    : [ 60%] Meshing curve 63 (Line)\n",
      "Info    : [ 60%] Meshing curve 64 (Line)\n",
      "Info    : [ 60%] Meshing curve 65 (Line)\n",
      "Info    : [ 60%] Meshing curve 66 (Line)\n",
      "Info    : [ 60%] Meshing curve 67 (Line)\n",
      "Info    : [ 60%] Meshing curve 68 (Line)\n",
      "Info    : [ 60%] Meshing curve 69 (Line)\n",
      "Info    : [ 60%] Meshing curve 70 (Line)\n",
      "Info    : [ 60%] Meshing curve 71 (Line)\n",
      "Info    : [ 70%] Meshing curve 72 (Line)\n",
      "Info    : [ 70%] Meshing curve 73 (Line)\n",
      "Info    : [ 70%] Meshing curve 74 (Line)\n",
      "Info    : [ 70%] Meshing curve 75 (Line)\n",
      "Info    : [ 70%] Meshing curve 76 (Line)\n",
      "Info    : [ 70%] Meshing curve 77 (Line)\n",
      "Info    : [ 70%] Meshing curve 78 (Line)\n",
      "Info    : [ 70%] Meshing curve 79 (Line)\n",
      "Info    : [ 70%] Meshing curve 80 (Line)\n",
      "Info    : [ 70%] Meshing curve 81 (Line)\n",
      "Info    : [ 70%] Meshing curve 82 (Line)\n",
      "Info    : [ 70%] Meshing curve 83 (Line)\n",
      "Info    : [ 80%] Meshing curve 84 (Line)\n",
      "Info    : [ 80%] Meshing curve 85 (Line)\n",
      "Info    : [ 80%] Meshing curve 86 (Line)\n",
      "Info    : [ 80%] Meshing curve 87 (Line)\n",
      "Info    : [ 80%] Meshing curve 88 (Line)\n",
      "Info    : [ 80%] Meshing curve 89 (Line)\n",
      "Info    : [ 80%] Meshing curve 90 (Line)\n",
      "Info    : [ 80%] Meshing curve 91 (Line)\n",
      "Info    : [ 80%] Meshing curve 92 (Line)\n",
      "Info    : [ 80%] Meshing curve 93 (Line)\n",
      "Info    : [ 80%] Meshing curve 94 (Line)\n",
      "Info    : [ 80%] Meshing curve 95 (Line)\n",
      "Info    : [ 90%] Meshing curve 96 (Line)\n",
      "Info    : [ 90%] Meshing curve 97 (Line)\n",
      "Info    : [ 90%] Meshing curve 98 (Line)\n",
      "Info    : [ 90%] Meshing curve 99 (Line)\n",
      "Info    : [ 90%] Meshing curve 100 (Line)\n",
      "Info    : [ 90%] Meshing curve 101 (Line)\n",
      "Info    : [ 90%] Meshing curve 102 (Line)\n",
      "Info    : [ 90%] Meshing curve 103 (Line)\n",
      "Info    : [ 90%] Meshing curve 104 (Line)\n",
      "Info    : [ 90%] Meshing curve 105 (Line)\n",
      "Info    : [ 90%] Meshing curve 106 (Line)\n",
      "Info    : [ 90%] Meshing curve 107 (Line)\n",
      "Info    : [100%] Meshing curve 108 (Line)\n",
      "Info    : [100%] Meshing curve 109 (Line)\n",
      "Info    : [100%] Meshing curve 110 (Line)\n",
      "Info    : [100%] Meshing curve 111 (Line)\n",
      "Info    : [100%] Meshing curve 112 (Line)\n",
      "Info    : [100%] Meshing curve 113 (Line)\n",
      "Info    : [100%] Meshing curve 114 (Line)\n",
      "Info    : [100%] Meshing curve 115 (Line)\n",
      "Info    : [100%] Meshing curve 116 (Line)\n",
      "Info    : [100%] Meshing curve 117 (Line)\n",
      "Info    : [100%] Meshing curve 118 (Line)\n",
      "Info    : Done meshing 1D (Wall 0.00416537s, CPU 0.004228s)\n",
      "Info    : Meshing 2D...\n",
      "Info    : Meshing surface 1 (Plane, Frontal-Delaunay)\n",
      "Info    : Done meshing 2D (Wall 0.081715s, CPU 0.079369s)\n",
      "Info    : Meshing 3D...\n",
      "Info    : Done meshing 3D (Wall 8.8329e-06s, CPU 5e-06s)\n",
      "Info    : 4598 nodes 9158 elements\n"
     ]
    },
    {
     "name": "stderr",
     "output_type": "stream",
     "text": [
      "Warning : Start point 40 and end point 1 of GEO line 40 are closer than the geometrical tolerance, at position (40, -9.79717e-15, 0)\n"
     ]
    },
    {
     "data": {
      "application/vnd.jupyter.widget-view+json": {
       "model_id": "22254c481573438287140e492c288f39",
       "version_major": 2,
       "version_minor": 0
      },
      "text/plain": [
       "HTML(value='Coords: ()')"
      ]
     },
     "metadata": {},
     "output_type": "display_data"
    },
    {
     "data": {
      "application/vnd.jupyter.widget-view+json": {
       "model_id": "ca06b3432abd475f808174d7a3f83a34",
       "version_major": 2,
       "version_minor": 0
      },
      "text/plain": [
       "Renderer(camera=PerspectiveCamera(aspect=1.3333333333333333, far=100000.0, near=0.001, position=(0.0, 0.0, 1.0…"
      ]
     },
     "metadata": {},
     "output_type": "display_data"
    },
    {
     "data": {
      "text/html": [
       "<div style=\"float: left; padding-right: 50px\"><h2>Markers</h2><table><tr><td style=\"background-color: rgb(254,40,40)\" width=\"20\"></td><td>farfield</td></tr><tr><td style=\"background-color: rgb(25,254,254)\" width=\"20\"></td><td>airfoil</td></tr></table></div><div style=\"float: left; padding-right: 50px\"><h2>Zones</h2><table><tr><td style=\"background-color: rgb(127,127,127)\" width=\"20\"></td><td>Zone 0</td></tr></table></div>"
      ],
      "text/plain": [
       "<IPython.core.display.HTML object>"
      ]
     },
     "metadata": {},
     "output_type": "display_data"
    }
   ],
   "source": [
    "from ezmesh import Geometry, CurveLoop, PlaneSurface, BoundaryLayerField, visualize_mesh\n",
    "from ezmesh.utils.shapes import generate_circle, generate_naca4_airfoil\n",
    "import plotly.graph_objects as go\n",
    "\n",
    "\n",
    "with Geometry() as geo:\n",
    "\n",
    "    airfoils_coords = generate_naca4_airfoil(\"0012\", num_points=40)\n",
    "    farfield_coords = generate_circle(40, num_points=40)\n",
    "\n",
    "    airfoil_curve_loop = CurveLoop.from_coords(\n",
    "        airfoils_coords, \n",
    "        mesh_size=0.1,\n",
    "        label=\"airfoil\",\n",
    "        fields=[\n",
    "            BoundaryLayerField(\n",
    "                aniso_max=10,\n",
    "                hfar=0.5,\n",
    "                hwall_n=0.009,\n",
    "                thickness=0.02,\n",
    "                is_quad_mesh=True,\n",
    "                intersect_metrics=False\n",
    "            )\n",
    "        ]\n",
    "    )\n",
    "\n",
    "    farfield_curve_loop = CurveLoop.from_coords(\n",
    "        farfield_coords, \n",
    "        mesh_size=3.0,\n",
    "        label=\"farfield\",\n",
    "    )\n",
    "\n",
    "    surface = PlaneSurface([farfield_curve_loop, airfoil_curve_loop])\n",
    "    mesh = geo.generate(surface)\n",
    "    visualize_mesh(mesh)\n",
    "    geo.write(\"mesh_NACA0012_inv.su2\")\n"
   ]
  }
 ],
 "metadata": {
  "kernelspec": {
   "display_name": "Python 3",
   "language": "python",
   "name": "python3"
  },
  "language_info": {
   "codemirror_mode": {
    "name": "ipython",
    "version": 3
   },
   "file_extension": ".py",
   "mimetype": "text/x-python",
   "name": "python",
   "nbconvert_exporter": "python",
   "pygments_lexer": "ipython3",
   "version": "3.10.8"
  },
  "orig_nbformat": 4,
  "vscode": {
   "interpreter": {
    "hash": "949777d72b0d2535278d3dc13498b2535136f6dfe0678499012e853ee9abcab1"
   }
  }
 },
 "nbformat": 4,
 "nbformat_minor": 2
}
