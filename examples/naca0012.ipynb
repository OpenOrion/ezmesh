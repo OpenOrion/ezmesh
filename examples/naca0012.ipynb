{
 "cells": [
  {
   "attachments": {},
   "cell_type": "markdown",
   "metadata": {},
   "source": [
    "# Meshing"
   ]
  },
  {
   "attachments": {},
   "cell_type": "markdown",
   "metadata": {},
   "source": [
    "## NACA0012 w/ Transfinite Refinement\n",
    "![NACA0012 Transfinite](../assets/naca0012_transfinite.png)\n",
    "\n",
    "https://su2code.github.io/docs_v7/Quick-Start/"
   ]
  },
  {
   "cell_type": "code",
   "execution_count": 1,
   "metadata": {},
   "outputs": [
    {
     "name": "stdout",
     "output_type": "stream",
     "text": [
      "Overwriting auto display for cadquery Workplane and Shape\n",
      "Info    : Meshing 1D...\n",
      "Info    : [  0%] Meshing curve 1 (Line)\n",
      "Info    : [ 10%] Meshing curve 2 (Line)\n",
      "Info    : [ 10%] Meshing curve 3 (Line)\n",
      "Info    : [ 10%] Meshing curve 4 (Line)\n",
      "Info    : [ 10%] Meshing curve 5 (Line)\n",
      "Info    : [ 10%] Meshing curve 6 (Line)\n",
      "Info    : [ 10%] Meshing curve 7 (Line)\n",
      "Info    : [ 10%] Meshing curve 8 (Line)\n",
      "Info    : [ 10%] Meshing curve 9 (Line)\n",
      "Info    : [ 10%] Meshing curve 10 (Line)\n",
      "Info    : [ 10%] Meshing curve 11 (Line)\n",
      "Info    : [ 10%] Meshing curve 12 (Line)\n",
      "Info    : [ 20%] Meshing curve 13 (Line)\n",
      "Info    : [ 20%] Meshing curve 14 (Line)\n",
      "Info    : [ 20%] Meshing curve 15 (Line)\n",
      "Info    : [ 20%] Meshing curve 16 (Line)\n",
      "Info    : [ 20%] Meshing curve 17 (Line)\n",
      "Info    : [ 20%] Meshing curve 18 (Line)\n",
      "Info    : [ 20%] Meshing curve 19 (Line)\n",
      "Info    : [ 20%] Meshing curve 20 (Line)\n",
      "Info    : [ 20%] Meshing curve 21 (Line)\n",
      "Info    : [ 20%] Meshing curve 22 (Line)\n",
      "Info    : [ 20%] Meshing curve 23 (Line)\n",
      "Info    : [ 20%] Meshing curve 24 (Line)\n",
      "Info    : [ 30%] Meshing curve 25 (Line)\n",
      "Info    : [ 30%] Meshing curve 26 (Line)\n",
      "Info    : [ 30%] Meshing curve 27 (Line)\n",
      "Info    : [ 30%] Meshing curve 28 (Line)\n",
      "Info    : [ 30%] Meshing curve 29 (Line)\n",
      "Info    : [ 30%] Meshing curve 30 (Line)\n",
      "Info    : [ 30%] Meshing curve 31 (Line)\n",
      "Info    : [ 30%] Meshing curve 32 (Line)\n",
      "Info    : [ 30%] Meshing curve 33 (Line)\n",
      "Info    : [ 30%] Meshing curve 34 (Line)\n",
      "Info    : [ 30%] Meshing curve 35 (Line)\n",
      "Info    : [ 30%] Meshing curve 36 (Line)\n",
      "Info    : [ 40%] Meshing curve 37 (Line)\n",
      "Info    : [ 40%] Meshing curve 38 (Line)\n",
      "Info    : [ 40%] Meshing curve 39 (Line)\n",
      "Info    : [ 40%] Meshing curve 40 (Line)\n",
      "Info    : [ 40%] Meshing curve 41 (Line)\n",
      "Info    : [ 40%] Meshing curve 42 (Line)\n",
      "Info    : [ 40%] Meshing curve 43 (Line)\n",
      "Info    : [ 40%] Meshing curve 44 (Line)\n",
      "Info    : [ 40%] Meshing curve 45 (Line)\n",
      "Info    : [ 40%] Meshing curve 46 (Line)\n",
      "Info    : [ 40%] Meshing curve 47 (Line)\n",
      "Info    : [ 40%] Meshing curve 48 (Line)\n",
      "Info    : [ 50%] Meshing curve 49 (Line)\n",
      "Info    : [ 50%] Meshing curve 50 (Line)\n",
      "Info    : [ 50%] Meshing curve 51 (Line)\n",
      "Info    : [ 50%] Meshing curve 52 (Line)\n",
      "Info    : [ 50%] Meshing curve 53 (Line)\n",
      "Info    : [ 50%] Meshing curve 54 (Line)\n",
      "Info    : [ 50%] Meshing curve 55 (Line)\n",
      "Info    : [ 50%] Meshing curve 56 (Line)\n",
      "Info    : [ 50%] Meshing curve 57 (Line)\n",
      "Info    : [ 50%] Meshing curve 58 (Line)\n",
      "Info    : [ 50%] Meshing curve 59 (Line)\n",
      "Info    : [ 50%] Meshing curve 60 (Line)\n",
      "Info    : [ 60%] Meshing curve 61 (Line)\n",
      "Info    : [ 60%] Meshing curve 62 (Line)\n",
      "Info    : [ 60%] Meshing curve 63 (Line)\n",
      "Info    : [ 60%] Meshing curve 64 (Line)\n",
      "Info    : [ 60%] Meshing curve 65 (Line)\n",
      "Info    : [ 60%] Meshing curve 66 (Line)\n",
      "Info    : [ 60%] Meshing curve 67 (Line)\n",
      "Info    : [ 60%] Meshing curve 68 (Line)\n",
      "Info    : [ 60%] Meshing curve 69 (Line)\n",
      "Info    : [ 60%] Meshing curve 70 (Line)\n",
      "Info    : [ 60%] Meshing curve 71 (Line)\n",
      "Info    : [ 70%] Meshing curve 72 (Line)\n",
      "Info    : [ 70%] Meshing curve 73 (Line)\n",
      "Info    : [ 70%] Meshing curve 74 (Line)\n",
      "Info    : [ 70%] Meshing curve 75 (Line)\n",
      "Info    : [ 70%] Meshing curve 76 (Line)\n",
      "Info    : [ 70%] Meshing curve 77 (Line)\n",
      "Info    : [ 70%] Meshing curve 78 (Line)\n",
      "Info    : [ 70%] Meshing curve 79 (Line)\n",
      "Info    : [ 70%] Meshing curve 80 (Line)\n",
      "Info    : [ 70%] Meshing curve 81 (Line)\n",
      "Info    : [ 70%] Meshing curve 82 (Line)\n",
      "Info    : [ 70%] Meshing curve 83 (Line)\n",
      "Info    : [ 80%] Meshing curve 84 (Line)\n",
      "Info    : [ 80%] Meshing curve 85 (Line)\n",
      "Info    : [ 80%] Meshing curve 86 (Line)\n",
      "Info    : [ 80%] Meshing curve 87 (Line)\n",
      "Info    : [ 80%] Meshing curve 88 (Line)\n",
      "Info    : [ 80%] Meshing curve 89 (Line)\n",
      "Info    : [ 80%] Meshing curve 90 (Line)\n",
      "Info    : [ 80%] Meshing curve 91 (Line)\n",
      "Info    : [ 80%] Meshing curve 92 (Line)\n",
      "Info    : [ 80%] Meshing curve 93 (Line)\n",
      "Info    : [ 80%] Meshing curve 94 (Line)\n",
      "Info    : [ 80%] Meshing curve 95 (Line)\n",
      "Info    : [ 90%] Meshing curve 96 (Line)\n",
      "Info    : [ 90%] Meshing curve 97 (Line)\n",
      "Info    : [ 90%] Meshing curve 98 (Line)\n",
      "Info    : [ 90%] Meshing curve 99 (Line)\n",
      "Info    : [ 90%] Meshing curve 100 (Line)\n",
      "Info    : [ 90%] Meshing curve 101 (Line)\n",
      "Info    : [ 90%] Meshing curve 102 (Line)\n",
      "Info    : [ 90%] Meshing curve 103 (Line)\n",
      "Info    : [ 90%] Meshing curve 104 (Line)\n",
      "Info    : [ 90%] Meshing curve 105 (Line)\n",
      "Info    : [ 90%] Meshing curve 106 (Line)\n",
      "Info    : [ 90%] Meshing curve 107 (Line)\n",
      "Info    : [100%] Meshing curve 108 (Line)\n",
      "Info    : [100%] Meshing curve 109 (Line)\n",
      "Info    : [100%] Meshing curve 110 (Line)\n",
      "Info    : [100%] Meshing curve 111 (Line)\n",
      "Info    : [100%] Meshing curve 112 (Line)\n",
      "Info    : [100%] Meshing curve 113 (Line)\n",
      "Info    : [100%] Meshing curve 114 (Line)\n",
      "Info    : [100%] Meshing curve 115 (Line)\n",
      "Info    : [100%] Meshing curve 116 (Line)\n",
      "Info    : [100%] Meshing curve 117 (Line)\n",
      "Info    : [100%] Meshing curve 118 (Line)\n",
      "Info    : Done meshing 1D (Wall 0.00408563s, CPU 0.004227s)\n",
      "Info    : Meshing 2D...\n",
      "Info    : Meshing surface 1 (Plane, Frontal-Delaunay)\n",
      "Info    : Done meshing 2D (Wall 0.105467s, CPU 0.102966s)\n",
      "Info    : 5084 nodes 10286 elements\n"
     ]
    },
    {
     "name": "stderr",
     "output_type": "stream",
     "text": [
      "Warning : Start point 40 and end point 1 of GEO line 40 are closer than the geometrical tolerance, at position (40, -9.79717e-15, 0)\n"
     ]
    },
    {
     "data": {
      "application/vnd.plotly.v1+json": {
       "config": {
        "plotlyServerURL": "https://plot.ly"
       },
       "data": [
        {
         "fill": "toself",
         "mode": "lines",
         "name": "farfield",
         "type": "scatter",
         "x": [
          40,
          39.48201,
          39.48201,
          37.941456,
          37.941456,
          35.41824,
          35.41824,
          31.97771,
          31.97771,
          27.708975,
          27.708975,
          22.72259,
          22.72259,
          17.147703,
          17.147703,
          11.128698,
          11.128698,
          4.8214674,
          4.8214674,
          -1.6106375,
          -1.6106375,
          -8.001028,
          -8.001028,
          -14.1841955,
          -14.1841955,
          -20,
          -20,
          -25.297815,
          -25.297815,
          -29.94043,
          -29.94043,
          -33.807602,
          -33.807602,
          -36.79918,
          -36.79918,
          -38.837673,
          -38.837673,
          -39.870293,
          -39.870293,
          -39.870293,
          -39.870293,
          -38.837673,
          -38.837673,
          -36.79918,
          -36.79918,
          -33.807602,
          -33.807602,
          -29.94043,
          -29.94043,
          -25.297815,
          -25.297815,
          -20,
          -20,
          -14.1841955,
          -14.1841955,
          -8.001028,
          -8.001028,
          -1.6106375,
          -1.6106375,
          4.8214674,
          4.8214674,
          11.128698,
          11.128698,
          17.147703,
          17.147703,
          22.72259,
          22.72259,
          27.708975,
          27.708975,
          31.97771,
          31.97771,
          35.41824,
          35.41824,
          37.941456,
          37.941456,
          39.48201,
          39.48201,
          40,
          40,
          40
         ],
         "y": [
          0,
          6.4164515,
          6.4164515,
          12.666719,
          12.666719,
          18.588926,
          18.588926,
          24.02969,
          24.02969,
          28.848099,
          28.848099,
          32.919353,
          32.919353,
          36.138016,
          36.138016,
          38.420723,
          38.420723,
          39.708355,
          39.708355,
          39.96756,
          39.96756,
          39.191628,
          39.191628,
          37.40065,
          37.40065,
          34.641018,
          34.641018,
          30.984198,
          30.984198,
          26.524906,
          26.524906,
          21.378633,
          21.378633,
          15.678664,
          15.678664,
          9.572626,
          9.572626,
          3.2186627,
          3.2186627,
          -3.2186627,
          -3.2186627,
          -9.572626,
          -9.572626,
          -15.678664,
          -15.678664,
          -21.378633,
          -21.378633,
          -26.524906,
          -26.524906,
          -30.984198,
          -30.984198,
          -34.641018,
          -34.641018,
          -37.40065,
          -37.40065,
          -39.191628,
          -39.191628,
          -39.96756,
          -39.96756,
          -39.708355,
          -39.708355,
          -38.420723,
          -38.420723,
          -36.138016,
          -36.138016,
          -32.919353,
          -32.919353,
          -28.848099,
          -28.848099,
          -24.02969,
          -24.02969,
          -18.588926,
          -18.588926,
          -12.666719,
          -12.666719,
          -6.4164515,
          -6.4164515,
          -9.797174e-15,
          -9.797174e-15,
          0
         ]
        },
        {
         "fill": "toself",
         "mode": "lines",
         "name": "airfoil",
         "type": "scatter",
         "x": [
          0.001621346,
          0.006474869,
          0.006474869,
          0.014529091,
          0.014529091,
          0.02573178,
          0.02573178,
          0.040010277,
          0.040010277,
          0.057271987,
          0.057271987,
          0.07740495,
          0.07740495,
          0.100278616,
          0.100278616,
          0.12574463,
          0.12574463,
          0.15363783,
          0.15363783,
          0.18377732,
          0.18377732,
          0.21596763,
          0.21596763,
          0.25,
          0.25,
          0.2856537,
          0.2856537,
          0.32269755,
          0.32269755,
          0.36089128,
          0.36089128,
          0.39998716,
          0.39998716,
          0.43973166,
          0.43973166,
          0.47986704,
          0.47986704,
          0.52013296,
          0.52013296,
          0.56026834,
          0.56026834,
          0.60001284,
          0.60001284,
          0.6391087,
          0.6391087,
          0.6773024,
          0.6773024,
          0.7143463,
          0.7143463,
          0.75,
          0.75,
          0.78403234,
          0.78403234,
          0.81622267,
          0.81622267,
          0.8463622,
          0.8463622,
          0.87425536,
          0.87425536,
          0.8997214,
          0.8997214,
          0.922595,
          0.922595,
          0.94272804,
          0.94272804,
          0.9599897,
          0.9599897,
          0.9742682,
          0.9742682,
          0.9854709,
          0.9854709,
          0.99352515,
          0.99352515,
          0.99837863,
          0.99837863,
          1,
          1,
          0.99837863,
          0.99837863,
          0.99352515,
          0.99352515,
          0.9854709,
          0.9854709,
          0.9742682,
          0.9742682,
          0.9599897,
          0.9599897,
          0.94272804,
          0.94272804,
          0.922595,
          0.922595,
          0.8997214,
          0.8997214,
          0.87425536,
          0.87425536,
          0.8463622,
          0.8463622,
          0.81622267,
          0.81622267,
          0.78403234,
          0.78403234,
          0.75,
          0.75,
          0.7143463,
          0.7143463,
          0.6773024,
          0.6773024,
          0.6391087,
          0.6391087,
          0.60001284,
          0.60001284,
          0.56026834,
          0.56026834,
          0.52013296,
          0.52013296,
          0.47986704,
          0.47986704,
          0.43973166,
          0.43973166,
          0.39998716,
          0.39998716,
          0.36089128,
          0.36089128,
          0.32269755,
          0.32269755,
          0.2856537,
          0.2856537,
          0.25,
          0.25,
          0.21596763,
          0.21596763,
          0.18377732,
          0.18377732,
          0.15363783,
          0.15363783,
          0.12574463,
          0.12574463,
          0.100278616,
          0.100278616,
          0.07740495,
          0.07740495,
          0.057271987,
          0.057271987,
          0.040010277,
          0.040010277,
          0.02573178,
          0.02573178,
          0.014529091,
          0.014529091,
          0.006474869,
          0.006474869,
          0.001621346,
          0.001621346,
          0,
          0,
          0.001621346
         ],
         "y": [
          0.007049847,
          0.013836016,
          0.013836016,
          0.020329993,
          0.020329993,
          0.02649354,
          0.02649354,
          0.03228086,
          0.03228086,
          0.03764134,
          0.03764134,
          0.04252275,
          0.04252275,
          0.046874527,
          0.046874527,
          0.050650995,
          0.050650995,
          0.053814273,
          0.053814273,
          0.056336615,
          0.056336615,
          0.058202088,
          0.058202088,
          0.0594075,
          0.0594075,
          0.059962533,
          0.059962533,
          0.059889138,
          0.059889138,
          0.0592203,
          0.0592203,
          0.057998337,
          0.057998337,
          0.056272883,
          0.056272883,
          0.054098763,
          0.054098763,
          0.051533956,
          0.051533956,
          0.04863776,
          0.04863776,
          0.045469325,
          0.045469325,
          0.042086616,
          0.042086616,
          0.038545787,
          0.038545787,
          0.034900967,
          0.034900967,
          0.031204391,
          0.031204391,
          0.02750673,
          0.02750673,
          0.02385753,
          0.02385753,
          0.020305593,
          0.020305593,
          0.01689922,
          0.01689922,
          0.013686197,
          0.013686197,
          0.010713469,
          0.010713469,
          0.008026513,
          0.008026513,
          0.005668409,
          0.005668409,
          0.003678688,
          0.003678688,
          0.0020920683,
          0.0020920683,
          0.0009371806,
          0.0009371806,
          0.00023541464,
          0.00023541464,
          0,
          0,
          -0.00023541464,
          -0.00023541464,
          -0.0009371806,
          -0.0009371806,
          -0.0020920683,
          -0.0020920683,
          -0.003678688,
          -0.003678688,
          -0.005668409,
          -0.005668409,
          -0.008026513,
          -0.008026513,
          -0.010713469,
          -0.010713469,
          -0.013686197,
          -0.013686197,
          -0.01689922,
          -0.01689922,
          -0.020305593,
          -0.020305593,
          -0.02385753,
          -0.02385753,
          -0.02750673,
          -0.02750673,
          -0.031204391,
          -0.031204391,
          -0.034900967,
          -0.034900967,
          -0.038545787,
          -0.038545787,
          -0.042086616,
          -0.042086616,
          -0.045469325,
          -0.045469325,
          -0.04863776,
          -0.04863776,
          -0.051533956,
          -0.051533956,
          -0.054098763,
          -0.054098763,
          -0.056272883,
          -0.056272883,
          -0.057998337,
          -0.057998337,
          -0.0592203,
          -0.0592203,
          -0.059889138,
          -0.059889138,
          -0.059962533,
          -0.059962533,
          -0.0594075,
          -0.0594075,
          -0.058202088,
          -0.058202088,
          -0.056336615,
          -0.056336615,
          -0.053814273,
          -0.053814273,
          -0.050650995,
          -0.050650995,
          -0.046874527,
          -0.046874527,
          -0.04252275,
          -0.04252275,
          -0.03764134,
          -0.03764134,
          -0.03228086,
          -0.03228086,
          -0.02649354,
          -0.02649354,
          -0.020329993,
          -0.020329993,
          -0.013836016,
          -0.013836016,
          -0.007049847,
          -0.007049847,
          0,
          0,
          0.007049847
         ]
        }
       ],
       "layout": {
        "template": {
         "data": {
          "bar": [
           {
            "error_x": {
             "color": "#2a3f5f"
            },
            "error_y": {
             "color": "#2a3f5f"
            },
            "marker": {
             "line": {
              "color": "#E5ECF6",
              "width": 0.5
             },
             "pattern": {
              "fillmode": "overlay",
              "size": 10,
              "solidity": 0.2
             }
            },
            "type": "bar"
           }
          ],
          "barpolar": [
           {
            "marker": {
             "line": {
              "color": "#E5ECF6",
              "width": 0.5
             },
             "pattern": {
              "fillmode": "overlay",
              "size": 10,
              "solidity": 0.2
             }
            },
            "type": "barpolar"
           }
          ],
          "carpet": [
           {
            "aaxis": {
             "endlinecolor": "#2a3f5f",
             "gridcolor": "white",
             "linecolor": "white",
             "minorgridcolor": "white",
             "startlinecolor": "#2a3f5f"
            },
            "baxis": {
             "endlinecolor": "#2a3f5f",
             "gridcolor": "white",
             "linecolor": "white",
             "minorgridcolor": "white",
             "startlinecolor": "#2a3f5f"
            },
            "type": "carpet"
           }
          ],
          "choropleth": [
           {
            "colorbar": {
             "outlinewidth": 0,
             "ticks": ""
            },
            "type": "choropleth"
           }
          ],
          "contour": [
           {
            "colorbar": {
             "outlinewidth": 0,
             "ticks": ""
            },
            "colorscale": [
             [
              0,
              "#0d0887"
             ],
             [
              0.1111111111111111,
              "#46039f"
             ],
             [
              0.2222222222222222,
              "#7201a8"
             ],
             [
              0.3333333333333333,
              "#9c179e"
             ],
             [
              0.4444444444444444,
              "#bd3786"
             ],
             [
              0.5555555555555556,
              "#d8576b"
             ],
             [
              0.6666666666666666,
              "#ed7953"
             ],
             [
              0.7777777777777778,
              "#fb9f3a"
             ],
             [
              0.8888888888888888,
              "#fdca26"
             ],
             [
              1,
              "#f0f921"
             ]
            ],
            "type": "contour"
           }
          ],
          "contourcarpet": [
           {
            "colorbar": {
             "outlinewidth": 0,
             "ticks": ""
            },
            "type": "contourcarpet"
           }
          ],
          "heatmap": [
           {
            "colorbar": {
             "outlinewidth": 0,
             "ticks": ""
            },
            "colorscale": [
             [
              0,
              "#0d0887"
             ],
             [
              0.1111111111111111,
              "#46039f"
             ],
             [
              0.2222222222222222,
              "#7201a8"
             ],
             [
              0.3333333333333333,
              "#9c179e"
             ],
             [
              0.4444444444444444,
              "#bd3786"
             ],
             [
              0.5555555555555556,
              "#d8576b"
             ],
             [
              0.6666666666666666,
              "#ed7953"
             ],
             [
              0.7777777777777778,
              "#fb9f3a"
             ],
             [
              0.8888888888888888,
              "#fdca26"
             ],
             [
              1,
              "#f0f921"
             ]
            ],
            "type": "heatmap"
           }
          ],
          "heatmapgl": [
           {
            "colorbar": {
             "outlinewidth": 0,
             "ticks": ""
            },
            "colorscale": [
             [
              0,
              "#0d0887"
             ],
             [
              0.1111111111111111,
              "#46039f"
             ],
             [
              0.2222222222222222,
              "#7201a8"
             ],
             [
              0.3333333333333333,
              "#9c179e"
             ],
             [
              0.4444444444444444,
              "#bd3786"
             ],
             [
              0.5555555555555556,
              "#d8576b"
             ],
             [
              0.6666666666666666,
              "#ed7953"
             ],
             [
              0.7777777777777778,
              "#fb9f3a"
             ],
             [
              0.8888888888888888,
              "#fdca26"
             ],
             [
              1,
              "#f0f921"
             ]
            ],
            "type": "heatmapgl"
           }
          ],
          "histogram": [
           {
            "marker": {
             "pattern": {
              "fillmode": "overlay",
              "size": 10,
              "solidity": 0.2
             }
            },
            "type": "histogram"
           }
          ],
          "histogram2d": [
           {
            "colorbar": {
             "outlinewidth": 0,
             "ticks": ""
            },
            "colorscale": [
             [
              0,
              "#0d0887"
             ],
             [
              0.1111111111111111,
              "#46039f"
             ],
             [
              0.2222222222222222,
              "#7201a8"
             ],
             [
              0.3333333333333333,
              "#9c179e"
             ],
             [
              0.4444444444444444,
              "#bd3786"
             ],
             [
              0.5555555555555556,
              "#d8576b"
             ],
             [
              0.6666666666666666,
              "#ed7953"
             ],
             [
              0.7777777777777778,
              "#fb9f3a"
             ],
             [
              0.8888888888888888,
              "#fdca26"
             ],
             [
              1,
              "#f0f921"
             ]
            ],
            "type": "histogram2d"
           }
          ],
          "histogram2dcontour": [
           {
            "colorbar": {
             "outlinewidth": 0,
             "ticks": ""
            },
            "colorscale": [
             [
              0,
              "#0d0887"
             ],
             [
              0.1111111111111111,
              "#46039f"
             ],
             [
              0.2222222222222222,
              "#7201a8"
             ],
             [
              0.3333333333333333,
              "#9c179e"
             ],
             [
              0.4444444444444444,
              "#bd3786"
             ],
             [
              0.5555555555555556,
              "#d8576b"
             ],
             [
              0.6666666666666666,
              "#ed7953"
             ],
             [
              0.7777777777777778,
              "#fb9f3a"
             ],
             [
              0.8888888888888888,
              "#fdca26"
             ],
             [
              1,
              "#f0f921"
             ]
            ],
            "type": "histogram2dcontour"
           }
          ],
          "mesh3d": [
           {
            "colorbar": {
             "outlinewidth": 0,
             "ticks": ""
            },
            "type": "mesh3d"
           }
          ],
          "parcoords": [
           {
            "line": {
             "colorbar": {
              "outlinewidth": 0,
              "ticks": ""
             }
            },
            "type": "parcoords"
           }
          ],
          "pie": [
           {
            "automargin": true,
            "type": "pie"
           }
          ],
          "scatter": [
           {
            "fillpattern": {
             "fillmode": "overlay",
             "size": 10,
             "solidity": 0.2
            },
            "type": "scatter"
           }
          ],
          "scatter3d": [
           {
            "line": {
             "colorbar": {
              "outlinewidth": 0,
              "ticks": ""
             }
            },
            "marker": {
             "colorbar": {
              "outlinewidth": 0,
              "ticks": ""
             }
            },
            "type": "scatter3d"
           }
          ],
          "scattercarpet": [
           {
            "marker": {
             "colorbar": {
              "outlinewidth": 0,
              "ticks": ""
             }
            },
            "type": "scattercarpet"
           }
          ],
          "scattergeo": [
           {
            "marker": {
             "colorbar": {
              "outlinewidth": 0,
              "ticks": ""
             }
            },
            "type": "scattergeo"
           }
          ],
          "scattergl": [
           {
            "marker": {
             "colorbar": {
              "outlinewidth": 0,
              "ticks": ""
             }
            },
            "type": "scattergl"
           }
          ],
          "scattermapbox": [
           {
            "marker": {
             "colorbar": {
              "outlinewidth": 0,
              "ticks": ""
             }
            },
            "type": "scattermapbox"
           }
          ],
          "scatterpolar": [
           {
            "marker": {
             "colorbar": {
              "outlinewidth": 0,
              "ticks": ""
             }
            },
            "type": "scatterpolar"
           }
          ],
          "scatterpolargl": [
           {
            "marker": {
             "colorbar": {
              "outlinewidth": 0,
              "ticks": ""
             }
            },
            "type": "scatterpolargl"
           }
          ],
          "scatterternary": [
           {
            "marker": {
             "colorbar": {
              "outlinewidth": 0,
              "ticks": ""
             }
            },
            "type": "scatterternary"
           }
          ],
          "surface": [
           {
            "colorbar": {
             "outlinewidth": 0,
             "ticks": ""
            },
            "colorscale": [
             [
              0,
              "#0d0887"
             ],
             [
              0.1111111111111111,
              "#46039f"
             ],
             [
              0.2222222222222222,
              "#7201a8"
             ],
             [
              0.3333333333333333,
              "#9c179e"
             ],
             [
              0.4444444444444444,
              "#bd3786"
             ],
             [
              0.5555555555555556,
              "#d8576b"
             ],
             [
              0.6666666666666666,
              "#ed7953"
             ],
             [
              0.7777777777777778,
              "#fb9f3a"
             ],
             [
              0.8888888888888888,
              "#fdca26"
             ],
             [
              1,
              "#f0f921"
             ]
            ],
            "type": "surface"
           }
          ],
          "table": [
           {
            "cells": {
             "fill": {
              "color": "#EBF0F8"
             },
             "line": {
              "color": "white"
             }
            },
            "header": {
             "fill": {
              "color": "#C8D4E3"
             },
             "line": {
              "color": "white"
             }
            },
            "type": "table"
           }
          ]
         },
         "layout": {
          "annotationdefaults": {
           "arrowcolor": "#2a3f5f",
           "arrowhead": 0,
           "arrowwidth": 1
          },
          "autotypenumbers": "strict",
          "coloraxis": {
           "colorbar": {
            "outlinewidth": 0,
            "ticks": ""
           }
          },
          "colorscale": {
           "diverging": [
            [
             0,
             "#8e0152"
            ],
            [
             0.1,
             "#c51b7d"
            ],
            [
             0.2,
             "#de77ae"
            ],
            [
             0.3,
             "#f1b6da"
            ],
            [
             0.4,
             "#fde0ef"
            ],
            [
             0.5,
             "#f7f7f7"
            ],
            [
             0.6,
             "#e6f5d0"
            ],
            [
             0.7,
             "#b8e186"
            ],
            [
             0.8,
             "#7fbc41"
            ],
            [
             0.9,
             "#4d9221"
            ],
            [
             1,
             "#276419"
            ]
           ],
           "sequential": [
            [
             0,
             "#0d0887"
            ],
            [
             0.1111111111111111,
             "#46039f"
            ],
            [
             0.2222222222222222,
             "#7201a8"
            ],
            [
             0.3333333333333333,
             "#9c179e"
            ],
            [
             0.4444444444444444,
             "#bd3786"
            ],
            [
             0.5555555555555556,
             "#d8576b"
            ],
            [
             0.6666666666666666,
             "#ed7953"
            ],
            [
             0.7777777777777778,
             "#fb9f3a"
            ],
            [
             0.8888888888888888,
             "#fdca26"
            ],
            [
             1,
             "#f0f921"
            ]
           ],
           "sequentialminus": [
            [
             0,
             "#0d0887"
            ],
            [
             0.1111111111111111,
             "#46039f"
            ],
            [
             0.2222222222222222,
             "#7201a8"
            ],
            [
             0.3333333333333333,
             "#9c179e"
            ],
            [
             0.4444444444444444,
             "#bd3786"
            ],
            [
             0.5555555555555556,
             "#d8576b"
            ],
            [
             0.6666666666666666,
             "#ed7953"
            ],
            [
             0.7777777777777778,
             "#fb9f3a"
            ],
            [
             0.8888888888888888,
             "#fdca26"
            ],
            [
             1,
             "#f0f921"
            ]
           ]
          },
          "colorway": [
           "#636efa",
           "#EF553B",
           "#00cc96",
           "#ab63fa",
           "#FFA15A",
           "#19d3f3",
           "#FF6692",
           "#B6E880",
           "#FF97FF",
           "#FECB52"
          ],
          "font": {
           "color": "#2a3f5f"
          },
          "geo": {
           "bgcolor": "white",
           "lakecolor": "white",
           "landcolor": "#E5ECF6",
           "showlakes": true,
           "showland": true,
           "subunitcolor": "white"
          },
          "hoverlabel": {
           "align": "left"
          },
          "hovermode": "closest",
          "mapbox": {
           "style": "light"
          },
          "paper_bgcolor": "white",
          "plot_bgcolor": "#E5ECF6",
          "polar": {
           "angularaxis": {
            "gridcolor": "white",
            "linecolor": "white",
            "ticks": ""
           },
           "bgcolor": "#E5ECF6",
           "radialaxis": {
            "gridcolor": "white",
            "linecolor": "white",
            "ticks": ""
           }
          },
          "scene": {
           "xaxis": {
            "backgroundcolor": "#E5ECF6",
            "gridcolor": "white",
            "gridwidth": 2,
            "linecolor": "white",
            "showbackground": true,
            "ticks": "",
            "zerolinecolor": "white"
           },
           "yaxis": {
            "backgroundcolor": "#E5ECF6",
            "gridcolor": "white",
            "gridwidth": 2,
            "linecolor": "white",
            "showbackground": true,
            "ticks": "",
            "zerolinecolor": "white"
           },
           "zaxis": {
            "backgroundcolor": "#E5ECF6",
            "gridcolor": "white",
            "gridwidth": 2,
            "linecolor": "white",
            "showbackground": true,
            "ticks": "",
            "zerolinecolor": "white"
           }
          },
          "shapedefaults": {
           "line": {
            "color": "#2a3f5f"
           }
          },
          "ternary": {
           "aaxis": {
            "gridcolor": "white",
            "linecolor": "white",
            "ticks": ""
           },
           "baxis": {
            "gridcolor": "white",
            "linecolor": "white",
            "ticks": ""
           },
           "bgcolor": "#E5ECF6",
           "caxis": {
            "gridcolor": "white",
            "linecolor": "white",
            "ticks": ""
           }
          },
          "title": {
           "x": 0.05
          },
          "xaxis": {
           "automargin": true,
           "gridcolor": "white",
           "linecolor": "white",
           "ticks": "",
           "title": {
            "standoff": 15
           },
           "zerolinecolor": "white",
           "zerolinewidth": 2
          },
          "yaxis": {
           "automargin": true,
           "gridcolor": "white",
           "linecolor": "white",
           "ticks": "",
           "title": {
            "standoff": 15
           },
           "zerolinecolor": "white",
           "zerolinewidth": 2
          }
         }
        },
        "title": {
         "text": "Plot"
        },
        "yaxis": {
         "scaleanchor": "x"
        }
       }
      }
     },
     "metadata": {},
     "output_type": "display_data"
    },
    {
     "data": {
      "application/vnd.jupyter.widget-view+json": {
       "model_id": "5e645b2f4939429da4cd7970667cd7e7",
       "version_major": 2,
       "version_minor": 0
      },
      "text/plain": [
       "HTML(value='Coords: ()')"
      ]
     },
     "metadata": {},
     "output_type": "display_data"
    },
    {
     "data": {
      "application/vnd.jupyter.widget-view+json": {
       "model_id": "575eeef9506b4ee08138cb80bb7319d9",
       "version_major": 2,
       "version_minor": 0
      },
      "text/plain": [
       "Renderer(camera=PerspectiveCamera(aspect=1.3333333333333333, far=100000.0, near=0.001, position=(0.0, 0.0, 1.0…"
      ]
     },
     "metadata": {},
     "output_type": "display_data"
    },
    {
     "data": {
      "text/html": [
       "<div style=\"float: left; padding-right: 50px\"><h2>Markers</h2><table></table></div><div style=\"float: left; padding-right: 50px\"><h2>Zones</h2><table><tr><td style=\"background-color: rgb(127,127,127)\" width=\"20\"></td><td>Zone 0</td></tr></table></div>"
      ],
      "text/plain": [
       "<IPython.core.display.HTML object>"
      ]
     },
     "metadata": {},
     "output_type": "display_data"
    }
   ],
   "source": [
    "from ezmesh import Geometry, CurveLoop, PlaneSurface, visualize_mesh\n",
    "from ezmesh.utils.shapes import generate_circle, generate_naca4_airfoil\n",
    "from ezmesh.geometry.plot import plot_entities\n",
    "from ezmesh.utils.geometry import commit_transactions\n",
    "\n",
    "airfoils_coords = generate_naca4_airfoil(\"0012\", num_points=40)\n",
    "farfield_coords = generate_circle(40, num_points=40)\n",
    "\n",
    "airfoil_curve_loop = CurveLoop.from_coords(\n",
    "    airfoils_coords, \n",
    "    mesh_size=0.1,\n",
    "    label=\"airfoil\",\n",
    ")\n",
    "\n",
    "farfield_curve_loop = CurveLoop.from_coords(\n",
    "    farfield_coords, \n",
    "    mesh_size=3.0,\n",
    "    label=\"farfield\",\n",
    ")\n",
    "\n",
    "surface = PlaneSurface([farfield_curve_loop, airfoil_curve_loop])\n",
    "with Geometry() as geo:\n",
    "    mesh = geo.generate(surface)\n",
    "    plot_entities(surface)\n",
    "    visualize_mesh(mesh)\n",
    "    geo.write(\"mesh_NACA0012_inv.su2\")\n",
    "\n"
   ]
  },
  {
   "attachments": {},
   "cell_type": "markdown",
   "metadata": {},
   "source": [
    "## NACA0012 w/ Boundary Layer"
   ]
  },
  {
   "cell_type": "code",
   "execution_count": 1,
   "metadata": {},
   "outputs": [
    {
     "name": "stdout",
     "output_type": "stream",
     "text": [
      "Overwriting auto display for cadquery Workplane and Shape\n",
      "Info    : Meshing 1D...\n",
      "Info    : [  0%] Meshing curve 1 (Line)\n",
      "Info    : [ 10%] Meshing curve 2 (Line)\n",
      "Info    : [ 10%] Meshing curve 3 (Line)\n",
      "Info    : [ 10%] Meshing curve 4 (Line)\n",
      "Info    : [ 10%] Meshing curve 5 (Line)\n",
      "Info    : [ 10%] Meshing curve 6 (Line)\n",
      "Info    : [ 10%] Meshing curve 7 (Line)\n",
      "Info    : [ 10%] Meshing curve 8 (Line)\n",
      "Info    : [ 10%] Meshing curve 9 (Line)\n",
      "Info    : [ 10%] Meshing curve 10 (Line)\n",
      "Info    : [ 10%] Meshing curve 11 (Line)\n",
      "Info    : [ 10%] Meshing curve 12 (Line)\n",
      "Info    : [ 20%] Meshing curve 13 (Line)\n",
      "Info    : [ 20%] Meshing curve 14 (Line)\n",
      "Info    : [ 20%] Meshing curve 15 (Line)\n",
      "Info    : [ 20%] Meshing curve 16 (Line)\n",
      "Info    : [ 20%] Meshing curve 17 (Line)\n",
      "Info    : [ 20%] Meshing curve 18 (Line)\n",
      "Info    : [ 20%] Meshing curve 19 (Line)\n",
      "Info    : [ 20%] Meshing curve 20 (Line)\n",
      "Info    : [ 20%] Meshing curve 21 (Line)\n",
      "Info    : [ 20%] Meshing curve 22 (Line)\n",
      "Info    : [ 20%] Meshing curve 23 (Line)\n",
      "Info    : [ 20%] Meshing curve 24 (Line)\n",
      "Info    : [ 30%] Meshing curve 25 (Line)\n",
      "Info    : [ 30%] Meshing curve 26 (Line)\n",
      "Info    : [ 30%] Meshing curve 27 (Line)\n",
      "Info    : [ 30%] Meshing curve 28 (Line)\n",
      "Info    : [ 30%] Meshing curve 29 (Line)\n",
      "Info    : [ 30%] Meshing curve 30 (Line)\n",
      "Info    : [ 30%] Meshing curve 31 (Line)\n",
      "Info    : [ 30%] Meshing curve 32 (Line)\n",
      "Info    : [ 30%] Meshing curve 33 (Line)\n",
      "Info    : [ 30%] Meshing curve 34 (Line)\n",
      "Info    : [ 30%] Meshing curve 35 (Line)\n",
      "Info    : [ 30%] Meshing curve 36 (Line)\n",
      "Info    : [ 40%] Meshing curve 37 (Line)\n",
      "Info    : [ 40%] Meshing curve 38 (Line)\n",
      "Info    : [ 40%] Meshing curve 39 (Line)\n",
      "Info    : [ 40%] Meshing curve 40 (Line)\n",
      "Info    : [ 40%] Meshing curve 41 (Line)\n",
      "Info    : [ 40%] Meshing curve 42 (Line)\n",
      "Info    : [ 40%] Meshing curve 43 (Line)\n",
      "Info    : [ 40%] Meshing curve 44 (Line)\n",
      "Info    : [ 40%] Meshing curve 45 (Line)\n",
      "Info    : [ 40%] Meshing curve 46 (Line)\n",
      "Info    : [ 40%] Meshing curve 47 (Line)\n",
      "Info    : [ 40%] Meshing curve 48 (Line)\n",
      "Info    : [ 50%] Meshing curve 49 (Line)\n",
      "Info    : [ 50%] Meshing curve 50 (Line)\n",
      "Info    : [ 50%] Meshing curve 51 (Line)\n",
      "Info    : [ 50%] Meshing curve 52 (Line)\n",
      "Info    : [ 50%] Meshing curve 53 (Line)\n",
      "Info    : [ 50%] Meshing curve 54 (Line)\n",
      "Info    : [ 50%] Meshing curve 55 (Line)\n",
      "Info    : [ 50%] Meshing curve 56 (Line)\n",
      "Info    : [ 50%] Meshing curve 57 (Line)\n",
      "Info    : [ 50%] Meshing curve 58 (Line)\n",
      "Info    : [ 50%] Meshing curve 59 (Line)\n",
      "Info    : [ 50%] Meshing curve 60 (Line)\n",
      "Info    : [ 60%] Meshing curve 61 (Line)\n",
      "Info    : [ 60%] Meshing curve 62 (Line)\n",
      "Info    : [ 60%] Meshing curve 63 (Line)\n",
      "Info    : [ 60%] Meshing curve 64 (Line)\n",
      "Info    : [ 60%] Meshing curve 65 (Line)\n",
      "Info    : [ 60%] Meshing curve 66 (Line)\n",
      "Info    : [ 60%] Meshing curve 67 (Line)\n",
      "Info    : [ 60%] Meshing curve 68 (Line)\n",
      "Info    : [ 60%] Meshing curve 69 (Line)\n",
      "Info    : [ 60%] Meshing curve 70 (Line)\n",
      "Info    : [ 60%] Meshing curve 71 (Line)\n",
      "Info    : [ 70%] Meshing curve 72 (Line)\n",
      "Info    : [ 70%] Meshing curve 73 (Line)\n",
      "Info    : [ 70%] Meshing curve 74 (Line)\n",
      "Info    : [ 70%] Meshing curve 75 (Line)\n",
      "Info    : [ 70%] Meshing curve 76 (Line)\n",
      "Info    : [ 70%] Meshing curve 77 (Line)\n",
      "Info    : [ 70%] Meshing curve 78 (Line)\n",
      "Info    : [ 70%] Meshing curve 79 (Line)\n",
      "Info    : [ 70%] Meshing curve 80 (Line)\n",
      "Info    : [ 70%] Meshing curve 81 (Line)\n",
      "Info    : [ 70%] Meshing curve 82 (Line)\n",
      "Info    : [ 70%] Meshing curve 83 (Line)\n",
      "Info    : [ 80%] Meshing curve 84 (Line)\n",
      "Info    : [ 80%] Meshing curve 85 (Line)\n",
      "Info    : [ 80%] Meshing curve 86 (Line)\n",
      "Info    : [ 80%] Meshing curve 87 (Line)\n",
      "Info    : [ 80%] Meshing curve 88 (Line)\n",
      "Info    : [ 80%] Meshing curve 89 (Line)\n",
      "Info    : [ 80%] Meshing curve 90 (Line)\n",
      "Info    : [ 80%] Meshing curve 91 (Line)\n",
      "Info    : [ 80%] Meshing curve 92 (Line)\n",
      "Info    : [ 80%] Meshing curve 93 (Line)\n",
      "Info    : [ 80%] Meshing curve 94 (Line)\n",
      "Info    : [ 80%] Meshing curve 95 (Line)\n",
      "Info    : [ 90%] Meshing curve 96 (Line)\n",
      "Info    : [ 90%] Meshing curve 97 (Line)\n",
      "Info    : [ 90%] Meshing curve 98 (Line)\n",
      "Info    : [ 90%] Meshing curve 99 (Line)\n",
      "Info    : [ 90%] Meshing curve 100 (Line)\n",
      "Info    : [ 90%] Meshing curve 101 (Line)\n",
      "Info    : [ 90%] Meshing curve 102 (Line)\n",
      "Info    : [ 90%] Meshing curve 103 (Line)\n",
      "Info    : [ 90%] Meshing curve 104 (Line)\n",
      "Info    : [ 90%] Meshing curve 105 (Line)\n",
      "Info    : [ 90%] Meshing curve 106 (Line)\n",
      "Info    : [ 90%] Meshing curve 107 (Line)\n",
      "Info    : [100%] Meshing curve 108 (Line)\n",
      "Info    : [100%] Meshing curve 109 (Line)\n",
      "Info    : [100%] Meshing curve 110 (Line)\n",
      "Info    : [100%] Meshing curve 111 (Line)\n",
      "Info    : [100%] Meshing curve 112 (Line)\n",
      "Info    : [100%] Meshing curve 113 (Line)\n",
      "Info    : [100%] Meshing curve 114 (Line)\n",
      "Info    : [100%] Meshing curve 115 (Line)\n",
      "Info    : [100%] Meshing curve 116 (Line)\n",
      "Info    : [100%] Meshing curve 117 (Line)\n",
      "Info    : [100%] Meshing curve 118 (Line)\n",
      "Info    : Done meshing 1D (Wall 0.00356192s, CPU 0.003659s)\n",
      "Info    : Meshing 2D...\n",
      "Info    : Meshing surface 1 (Plane, Frontal-Delaunay)\n",
      "Info    : Done meshing 2D (Wall 0.0811632s, CPU 0.079894s)\n",
      "Info    : Meshing 3D...\n",
      "Info    : Done meshing 3D (Wall 8.00006e-06s, CPU 4e-06s)\n",
      "Info    : 4591 nodes 9144 elements\n"
     ]
    },
    {
     "name": "stderr",
     "output_type": "stream",
     "text": [
      "Warning : Start point 40 and end point 1 of GEO line 40 are closer than the geometrical tolerance, at position (40, -9.79717e-15, 0)\n"
     ]
    },
    {
     "data": {
      "application/vnd.jupyter.widget-view+json": {
       "model_id": "d3f8426440044a94a932524062a358bc",
       "version_major": 2,
       "version_minor": 0
      },
      "text/plain": [
       "HTML(value='Coords: ()')"
      ]
     },
     "metadata": {},
     "output_type": "display_data"
    },
    {
     "data": {
      "application/vnd.jupyter.widget-view+json": {
       "model_id": "a9a81d04e4de4cbe84496c3c2773cc4c",
       "version_major": 2,
       "version_minor": 0
      },
      "text/plain": [
       "Renderer(camera=PerspectiveCamera(aspect=1.3333333333333333, far=100000.0, near=0.001, position=(0.0, 0.0, 1.0…"
      ]
     },
     "metadata": {},
     "output_type": "display_data"
    },
    {
     "data": {
      "text/html": [
       "<div style=\"float: left; padding-right: 50px\"><h2>Markers</h2><table><tr><td style=\"background-color: rgb(248,46,46)\" width=\"20\"></td><td>farfield</td></tr><tr><td style=\"background-color: rgb(38,246,246)\" width=\"20\"></td><td>airfoil</td></tr></table></div><div style=\"float: left; padding-right: 50px\"><h2>Zones</h2><table><tr><td style=\"background-color: rgb(127,127,127)\" width=\"20\"></td><td>Zone 0</td></tr></table></div>"
      ],
      "text/plain": [
       "<IPython.core.display.HTML object>"
      ]
     },
     "metadata": {},
     "output_type": "display_data"
    }
   ],
   "source": [
    "from ezmesh import Geometry, CurveLoop, PlaneSurface, BoundaryLayerField, visualize_mesh\n",
    "from ezmesh.utils.shapes import generate_circle, generate_naca4_airfoil\n",
    "import plotly.graph_objects as go\n",
    "\n",
    "\n",
    "with Geometry() as geo:\n",
    "\n",
    "    airfoils_coords = generate_naca4_airfoil(\"0012\", num_points=40)\n",
    "    farfield_coords = generate_circle(40, num_points=40)\n",
    "\n",
    "    airfoil_curve_loop = CurveLoop.from_coords(\n",
    "        airfoils_coords, \n",
    "        mesh_size=0.1,\n",
    "        label=\"airfoil\",\n",
    "    )\n",
    "\n",
    "    farfield_curve_loop = CurveLoop.from_coords(\n",
    "        farfield_coords, \n",
    "        mesh_size=3.0,\n",
    "        label=\"farfield\",\n",
    "    )\n",
    "\n",
    "    boundary_field = BoundaryLayerField(\n",
    "        airfoil_curve_loop.edges,\n",
    "        aniso_max=10,\n",
    "        hfar=0.5,\n",
    "        hwall_n=0.009,\n",
    "        thickness=0.02,\n",
    "        is_quad_mesh=True,\n",
    "        intersect_metrics=False\n",
    "    )\n",
    "\n",
    "    surface = PlaneSurface([farfield_curve_loop, airfoil_curve_loop])\n",
    "    mesh = geo.generate(surface, fields=[boundary_field])\n",
    "    visualize_mesh(mesh)\n",
    "    geo.write(\"mesh_NACA0012_inv.su2\")\n"
   ]
  }
 ],
 "metadata": {
  "kernelspec": {
   "display_name": "Python 3",
   "language": "python",
   "name": "python3"
  },
  "language_info": {
   "codemirror_mode": {
    "name": "ipython",
    "version": 3
   },
   "file_extension": ".py",
   "mimetype": "text/x-python",
   "name": "python",
   "nbconvert_exporter": "python",
   "pygments_lexer": "ipython3",
   "version": "3.10.8"
  },
  "orig_nbformat": 4,
  "vscode": {
   "interpreter": {
    "hash": "949777d72b0d2535278d3dc13498b2535136f6dfe0678499012e853ee9abcab1"
   }
  }
 },
 "nbformat": 4,
 "nbformat_minor": 2
}
