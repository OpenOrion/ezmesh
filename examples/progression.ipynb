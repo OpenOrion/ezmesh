{
 "cells": [
  {
   "attachments": {},
   "cell_type": "markdown",
   "metadata": {},
   "source": [
    "# Sturctured Grid with Progression\n",
    "Following this Youtube tutorial: https://www.youtube.com/watch?v=-wm2LzCFvQQ"
   ]
  },
  {
   "cell_type": "code",
   "execution_count": 1,
   "metadata": {},
   "outputs": [
    {
     "name": "stdout",
     "output_type": "stream",
     "text": [
      "Overwriting auto display for cadquery Workplane and Shape\n",
      "Cache does not exist\n",
      "cache finished\n",
      "Info    : Meshing 1D...\n",
      "Info    : [  0%] Meshing curve 1 (Line)\n",
      "Info    : [ 20%] Meshing curve 2 (TrimmedCurve)\n",
      "Info    : [ 30%] Meshing curve 3 (Line)\n",
      "Info    : [ 50%] Meshing curve 4 (Line)\n",
      "Info    : [ 60%] Meshing curve 5 (TrimmedCurve)\n",
      "Info    : [ 80%] Meshing curve 6 (Line)\n",
      "Info    : [ 90%] Meshing curve 7 (Line)\n",
      "Info    : Done meshing 1D (Wall 0.000392875s, CPU 0.000413s)\n",
      "Info    : Meshing 2D...\n",
      "Info    : [  0%] Meshing surface 1 (Plane, Frontal-Delaunay)\n",
      "Info    : [ 50%] Meshing surface 2 (Plane, Frontal-Delaunay)\n",
      "Info    : Done meshing 2D (Wall 0.00177421s, CPU 0.001727s)\n",
      "Info    : Meshing 3D...\n",
      "Info    : Done meshing 3D (Wall 6.74999e-06s, CPU 4e-06s)\n",
      "Info    : 93 nodes 198 elements\n"
     ]
    },
    {
     "data": {
      "application/vnd.jupyter.widget-view+json": {
       "model_id": "a02a9a31ab4d432cbd016eb6d3da663b",
       "version_major": 2,
       "version_minor": 0
      },
      "text/plain": [
       "HTML(value='Coords: ()')"
      ]
     },
     "metadata": {},
     "output_type": "display_data"
    },
    {
     "data": {
      "application/vnd.jupyter.widget-view+json": {
       "model_id": "f5add0bd92db4d9892991e9ffe873fab",
       "version_major": 2,
       "version_minor": 0
      },
      "text/plain": [
       "Renderer(camera=PerspectiveCamera(aspect=1.3333333333333333, far=100000.0, near=0.001, position=(0.0, 0.0, 1.0…"
      ]
     },
     "metadata": {},
     "output_type": "display_data"
    },
    {
     "data": {
      "text/html": [
       "<div style=\"float: left; padding-right: 50px\"><h2>Markers</h2><table><tr><td style=\"background-color: rgb(247,54,54)\" width=\"20\"></td><td>inlet</td></tr><tr><td style=\"background-color: rgb(133,251,16)\" width=\"20\"></td><td>freestream</td></tr><tr><td style=\"background-color: rgb(30,253,253)\" width=\"20\"></td><td>wall</td></tr><tr><td style=\"background-color: rgb(140,35,244)\" width=\"20\"></td><td>outlet</td></tr></table></div><div style=\"float: left; padding-right: 50px\"><h2>Zones</h2><table><tr><td style=\"background-color: rgb(127,127,127)\" width=\"20\"></td><td>Zone 0</td></tr></table></div>"
      ],
      "text/plain": [
       "<IPython.core.display.HTML object>"
      ]
     },
     "metadata": {},
     "output_type": "display_data"
    }
   ],
   "source": [
    "import cadquery as cq\n",
    "from ezmesh import GeometryQL, Split\n",
    "\n",
    "\n",
    "with GeometryQL() as geo:\n",
    "    geo = (\n",
    "        geo\n",
    "        .load(  \n",
    "            cq.Workplane(\"XY\")\n",
    "            .polyline([(0,0), (1,0), (2,0.5), (2,2), (1, 2), (0,2)])\n",
    "            .close(),\n",
    "            splits=lambda workplane: [\n",
    "                Split.from_lines(workplane, ((1,0), (1,2)))\n",
    "            ]\n",
    "        )\n",
    "        # .setTransfiniteAuto(50)\n",
    "        # .faces()\n",
    "        # .setTransfiniteFace()\n",
    "        # .end()\n",
    "        \n",
    "        .fromTagged([f\"edge/{i}\" for i in [1, 2, 5, 6, 7, 4]])\n",
    "        # .setTransfiniteEdge(50, coef=[0.8,1,1,1.2,1,1])\n",
    "\n",
    "        # .setTransfiniteEdge([25, 50, 50, 25, 50, 50], coef=[0.8,1,1,1.2,1,1])\n",
    "        .addPhysicalGroup([\"inlet\", \"freestream\", \"freestream\", \"outlet\", \"wall\", \"wall\"])\n",
    "\n",
    "        .generate()\n",
    "        .show(\"mesh\")\n",
    "    )\n"
   ]
  },
  {
   "cell_type": "code",
   "execution_count": null,
   "metadata": {},
   "outputs": [],
   "source": []
  }
 ],
 "metadata": {
  "kernelspec": {
   "display_name": "Python 3",
   "language": "python",
   "name": "python3"
  },
  "language_info": {
   "codemirror_mode": {
    "name": "ipython",
    "version": 3
   },
   "file_extension": ".py",
   "mimetype": "text/x-python",
   "name": "python",
   "nbconvert_exporter": "python",
   "pygments_lexer": "ipython3",
   "version": "3.11.4"
  },
  "orig_nbformat": 4
 },
 "nbformat": 4,
 "nbformat_minor": 2
}
