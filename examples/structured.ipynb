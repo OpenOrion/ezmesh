{
 "cells": [
  {
   "attachments": {},
   "cell_type": "markdown",
   "metadata": {},
   "source": [
    "# Sturctured Grid\n",
    "Following this Youtube tutorial: https://www.youtube.com/watch?v=-wm2LzCFvQQ"
   ]
  },
  {
   "cell_type": "code",
   "execution_count": 1,
   "metadata": {},
   "outputs": [
    {
     "name": "stdout",
     "output_type": "stream",
     "text": [
      "Info    : Meshing 1D...\n",
      "Info    : [  0%] Meshing curve 1 (Line)\n",
      "Info    : [ 20%] Meshing curve 2 (Line)\n",
      "Info    : [ 40%] Meshing curve 3 (Line)\n",
      "Info    : [ 50%] Meshing curve 4 (Line)\n",
      "Info    : [ 70%] Meshing curve 5 (Line)\n",
      "Info    : [ 90%] Meshing curve 6 (Line)\n",
      "Info    : Done meshing 1D (Wall 0.000441417s, CPU 0.000627s)\n",
      "Info    : Meshing 2D...\n",
      "Info    : Meshing surface 1 (Transfinite)\n",
      "Info    : Done meshing 2D (Wall 0.000869583s, CPU 0.000226s)\n",
      "Info    : Meshing 3D...\n",
      "Info    : Done meshing 3D (Wall 0.00021075s, CPU 6e-06s)\n",
      "Info    : 2626 nodes 5256 elements\n"
     ]
    },
    {
     "data": {
      "application/vnd.jupyter.widget-view+json": {
       "model_id": "23e32eb823a84709bcc1e92ec5b02095",
       "version_major": 2,
       "version_minor": 0
      },
      "text/plain": [
       "HTML(value='Coords: ()')"
      ]
     },
     "metadata": {},
     "output_type": "display_data"
    },
    {
     "data": {
      "application/vnd.jupyter.widget-view+json": {
       "model_id": "bd93457441424dc49767365ab9d0d17e",
       "version_major": 2,
       "version_minor": 0
      },
      "text/plain": [
       "Renderer(camera=PerspectiveCamera(aspect=1.3333333333333333, far=100000.0, near=0.001, position=(0.0, 0.0, 1.0…"
      ]
     },
     "metadata": {},
     "output_type": "display_data"
    },
    {
     "data": {
      "text/html": [
       "<div style=\"float: left; padding-right: 50px\"><h2>Markers</h2><table><tr><td style=\"background-color: rgb(253,7,7)\" width=\"20\"></td><td>wall</td></tr><tr><td style=\"background-color: rgb(132,250,14)\" width=\"20\"></td><td>inlet</td></tr><tr><td style=\"background-color: rgb(29,249,249)\" width=\"20\"></td><td>freestream</td></tr><tr><td style=\"background-color: rgb(131,9,253)\" width=\"20\"></td><td>outlet</td></tr></table></div><div style=\"float: left; padding-right: 50px\"><h2>Zones</h2><table><tr><td style=\"background-color: rgb(127,127,127)\" width=\"20\"></td><td>Zone 0</td></tr></table></div>"
      ],
      "text/plain": [
       "<IPython.core.display.HTML object>"
      ]
     },
     "metadata": {},
     "output_type": "display_data"
    },
    {
     "ename": "IndexError",
     "evalue": "index 2 is out of bounds for axis 1 with size 2",
     "output_type": "error",
     "traceback": [
      "\u001b[0;31m---------------------------------------------------------------------------\u001b[0m",
      "\u001b[0;31mIndexError\u001b[0m                                Traceback (most recent call last)",
      "Cell \u001b[0;32mIn[1], line 27\u001b[0m\n\u001b[1;32m     25\u001b[0m     mesh \u001b[39m=\u001b[39m geo\u001b[39m.\u001b[39mgenerate(surface)\n\u001b[1;32m     26\u001b[0m     visualize_mesh(mesh)\n\u001b[0;32m---> 27\u001b[0m surface\u001b[39m.\u001b[39;49mvisualize()\n",
      "File \u001b[0;32m~/Documents/ezmesh/ezmesh/geometry/plane_surface.py:74\u001b[0m, in \u001b[0;36mPlaneSurface.visualize\u001b[0;34m(self, title)\u001b[0m\n\u001b[1;32m     73\u001b[0m \u001b[39mdef\u001b[39;00m \u001b[39mvisualize\u001b[39m(\u001b[39mself\u001b[39m, title: \u001b[39mstr\u001b[39m \u001b[39m=\u001b[39m \u001b[39m\"\u001b[39m\u001b[39mSurface\u001b[39m\u001b[39m\"\u001b[39m):\n\u001b[0;32m---> 74\u001b[0m     visualize_curve_loops(\u001b[39mself\u001b[39;49m\u001b[39m.\u001b[39;49mcurve_loops, title)\n",
      "File \u001b[0;32m~/Documents/ezmesh/ezmesh/visualizer.py:30\u001b[0m, in \u001b[0;36mvisualize_curve_loops\u001b[0;34m(curve_loops, title, samples_per_spline, is_cosine_sampling)\u001b[0m\n\u001b[1;32m     25\u001b[0m \u001b[39mfor\u001b[39;00m i, curve_loop \u001b[39min\u001b[39;00m \u001b[39menumerate\u001b[39m(curve_loops):\n\u001b[1;32m     26\u001b[0m     loop_exterior_coords \u001b[39m=\u001b[39m curve_loop\u001b[39m.\u001b[39mget_exterior_coords(samples_per_spline, is_cosine_sampling)\n\u001b[1;32m     27\u001b[0m     fig\u001b[39m.\u001b[39madd_scatter3d(\n\u001b[1;32m     28\u001b[0m         x\u001b[39m=\u001b[39mloop_exterior_coords[:,\u001b[39m0\u001b[39m],\n\u001b[1;32m     29\u001b[0m         y\u001b[39m=\u001b[39mloop_exterior_coords[:,\u001b[39m1\u001b[39m],\n\u001b[0;32m---> 30\u001b[0m         z\u001b[39m=\u001b[39mloop_exterior_coords[:,\u001b[39m2\u001b[39;49m],\n\u001b[1;32m     31\u001b[0m         \u001b[39m# name=curve_loops[i].label,\u001b[39;00m\n\u001b[1;32m     32\u001b[0m         \u001b[39m# legendgroup=\"Curve Loops\",\u001b[39;00m\n\u001b[1;32m     33\u001b[0m         \u001b[39m# fill=\"toself\",\u001b[39;00m\n\u001b[1;32m     34\u001b[0m     )\n\u001b[1;32m     37\u001b[0m fig\u001b[39m.\u001b[39mlayout\u001b[39m.\u001b[39myaxis\u001b[39m.\u001b[39mscaleanchor \u001b[39m=\u001b[39m \u001b[39m\"\u001b[39m\u001b[39mx\u001b[39m\u001b[39m\"\u001b[39m  \u001b[39m# type: ignore\u001b[39;00m\n\u001b[1;32m     38\u001b[0m fig\u001b[39m.\u001b[39mshow()\n",
      "\u001b[0;31mIndexError\u001b[0m: index 2 is out of bounds for axis 1 with size 2"
     ]
    }
   ],
   "source": [
    "from ezmesh import CurveLoop, Geometry, PlaneSurface, TransfiniteSurfaceField, TransfiniteCurveField, visualize_mesh\n",
    "import numpy as np\n",
    "\n",
    "with Geometry() as geo:\n",
    "    square_coords = np.array([[0,0], [1,0], [2,0.5], [2,2], [1, 2], [0,2]])\n",
    "    loop = CurveLoop.from_coords(\n",
    "        square_coords, \n",
    "        mesh_size = 0.25, \n",
    "        label=\"grid\",\n",
    "        curve_labels=[\"wall/1\", \"wall/2\", \"outlet\", \"freestream/1\", \"freestream/2\", \"inlet\"],\n",
    "        fields=[\n",
    "            TransfiniteCurveField(\n",
    "                node_counts={\"inlet\": 25, \"outlet\": 25, \"wall/*\": 50, \"freestream/*\": 50},\n",
    "                coefs={\"inlet\": 0.8, \"outlet\": 1.2}\n",
    "            )\n",
    "        ]\n",
    "    )\n",
    "\n",
    "    surface = PlaneSurface(\n",
    "        [loop],\n",
    "        fields=[\n",
    "            TransfiniteSurfaceField(corners=[*loop.get_points(\"wall\"), *loop.get_points(\"freestream\")])\n",
    "        ]\n",
    "    )\n",
    "    mesh = geo.generate(surface)\n",
    "    visualize_mesh(mesh)\n",
    "surface.visualize()"
   ]
  }
 ],
 "metadata": {
  "kernelspec": {
   "display_name": "Python 3",
   "language": "python",
   "name": "python3"
  },
  "language_info": {
   "codemirror_mode": {
    "name": "ipython",
    "version": 3
   },
   "file_extension": ".py",
   "mimetype": "text/x-python",
   "name": "python",
   "nbconvert_exporter": "python",
   "pygments_lexer": "ipython3",
   "version": "3.9.6"
  },
  "orig_nbformat": 4
 },
 "nbformat": 4,
 "nbformat_minor": 2
}
