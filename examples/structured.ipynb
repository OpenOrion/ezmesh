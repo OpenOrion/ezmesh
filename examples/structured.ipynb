{
 "cells": [
  {
   "attachments": {},
   "cell_type": "markdown",
   "metadata": {},
   "source": [
    "# Sturctured Grid\n",
    "Following this Youtube tutorial: https://www.youtube.com/watch?v=-wm2LzCFvQQ"
   ]
  },
  {
   "cell_type": "code",
   "execution_count": 2,
   "metadata": {},
   "outputs": [
    {
     "name": "stdout",
     "output_type": "stream",
     "text": [
      "Info    : Meshing 1D...\n",
      "Info    : [  0%] Meshing curve 1 (Line)\n",
      "Info    : [ 20%] Meshing curve 2 (Line)\n",
      "Info    : [ 40%] Meshing curve 3 (Line)\n",
      "Info    : [ 50%] Meshing curve 4 (Line)\n",
      "Info    : [ 70%] Meshing curve 5 (Line)\n",
      "Info    : [ 90%] Meshing curve 6 (Line)\n",
      "Info    : Done meshing 1D (Wall 0.000200583s, CPU 0.000317s)\n",
      "Info    : Meshing 2D...\n",
      "Info    : Meshing surface 1 (Plane, Frontal-Delaunay)\n",
      "Info    : Done meshing 2D (Wall 0.00129288s, CPU 0.001335s)\n",
      "Info    : 97 nodes 198 elements\n"
     ]
    },
    {
     "data": {
      "application/vnd.jupyter.widget-view+json": {
       "model_id": "f92fdf171dc9483ba9f24be334953c1b",
       "version_major": 2,
       "version_minor": 0
      },
      "text/plain": [
       "HTML(value='Coords: ()')"
      ]
     },
     "metadata": {},
     "output_type": "display_data"
    },
    {
     "data": {
      "application/vnd.jupyter.widget-view+json": {
       "model_id": "4341bcb18a304786adcebcaaec5d6aab",
       "version_major": 2,
       "version_minor": 0
      },
      "text/plain": [
       "Renderer(camera=PerspectiveCamera(aspect=1.3333333333333333, far=100000.0, near=0.001, position=(0.0, 0.0, 1.0…"
      ]
     },
     "metadata": {},
     "output_type": "display_data"
    },
    {
     "data": {
      "text/html": [
       "<div style=\"float: left; padding-right: 50px\"><h2>Markers</h2><table><tr><td style=\"background-color: rgb(253,32,32)\" width=\"20\"></td><td>wall</td></tr><tr><td style=\"background-color: rgb(151,254,48)\" width=\"20\"></td><td>inlet</td></tr><tr><td style=\"background-color: rgb(55,247,247)\" width=\"20\"></td><td>freestream</td></tr><tr><td style=\"background-color: rgb(131,18,244)\" width=\"20\"></td><td>outlet</td></tr></table></div><div style=\"float: left; padding-right: 50px\"><h2>Zones</h2><table><tr><td style=\"background-color: rgb(127,127,127)\" width=\"20\"></td><td>Zone 0</td></tr></table></div>"
      ],
      "text/plain": [
       "<IPython.core.display.HTML object>"
      ]
     },
     "metadata": {},
     "output_type": "display_data"
    }
   ],
   "source": [
    "from ezmesh import CurveLoop, Geometry, PlaneSurface, TransfiniteSurfaceField, TransfiniteCurveField, visualize_mesh, plot_entities\n",
    "import numpy as np\n",
    "\n",
    "with Geometry() as geo:\n",
    "    square_coords = np.array([[0,0], [1,0], [2,0.5], [2,2], [1, 2], [0,2]])\n",
    "    square_loop = CurveLoop.from_coords(\n",
    "        square_coords, \n",
    "        mesh_size = 0.25, \n",
    "        label=\"grid\",\n",
    "        group_labels=[\"wall/1\", \"wall/2\", \"outlet\", \"freestream/1\", \"freestream/2\", \"inlet\"],\n",
    "    )\n",
    "\n",
    "    surface = PlaneSurface([square_loop])\n",
    "\n",
    "    # transfinite_curve_field = TransfiniteCurveField(\n",
    "    #     square_loop.edges,\n",
    "    #     node_counts={\"inlet\": 25, \"outlet\": 25, \"wall/*\": 50, \"freestream/*\": 50},\n",
    "    #     coefs={\"inlet\": 0.8, \"outlet\": 1.2}\n",
    "    # )\n",
    "    # transfinite_surface_field = TransfiniteSurfaceField.from_labels(surface, (\"wall\", \"freestream\"))\n",
    "\n",
    "    mesh = geo.generate(surface, fields=[])\n",
    "    visualize_mesh(mesh)\n"
   ]
  },
  {
   "cell_type": "code",
   "execution_count": 1,
   "metadata": {},
   "outputs": [
    {
     "name": "stdout",
     "output_type": "stream",
     "text": [
      "Overwriting auto display for cadquery Workplane and Shape\n",
      "Info    : Meshing 1D...\n",
      "Info    : [  0%] Meshing curve 1 (Line)\n",
      "Info    : [ 20%] Meshing curve 2 (Line)\n",
      "Info    : [ 40%] Meshing curve 3 (Line)\n",
      "Info    : [ 60%] Meshing curve 4 (TrimmedCurve)\n",
      "Info    : [ 80%] Meshing curve 5 (Line)\n",
      "Info    : Done meshing 1D (Wall 0.000850416s, CPU 0.000254s)\n",
      "Info    : Meshing 2D...\n",
      "Info    : Meshing surface 1 (Plane, Frontal-Delaunay)\n",
      "Info    : Done meshing 2D (Wall 0.00392154s, CPU 0.001927s)\n",
      "Info    : Meshing 3D...\n",
      "Info    : Done meshing 3D (Wall 0.000330292s, CPU 6e-06s)\n",
      "Info    : 87 nodes 177 elements\n"
     ]
    },
    {
     "data": {
      "application/vnd.jupyter.widget-view+json": {
       "model_id": "ef571d5b924d459e8e0bbfdb5b0e6593",
       "version_major": 2,
       "version_minor": 0
      },
      "text/plain": [
       "HTML(value='Coords: ()')"
      ]
     },
     "metadata": {},
     "output_type": "display_data"
    },
    {
     "data": {
      "application/vnd.jupyter.widget-view+json": {
       "model_id": "62eb637c06384169886976e9266a4461",
       "version_major": 2,
       "version_minor": 0
      },
      "text/plain": [
       "Renderer(camera=PerspectiveCamera(aspect=1.3333333333333333, far=100000.0, near=0.001, position=(0.0, 0.0, 1.0…"
      ]
     },
     "metadata": {},
     "output_type": "display_data"
    },
    {
     "data": {
      "text/html": [
       "<div style=\"float: left; padding-right: 50px\"><h2>Markers</h2><table><tr><td style=\"background-color: rgb(246,39,39)\" width=\"20\"></td><td>freestream</td></tr><tr><td style=\"background-color: rgb(55,245,55)\" width=\"20\"></td><td>outlet</td></tr><tr><td style=\"background-color: rgb(37,37,250)\" width=\"20\"></td><td>inlet</td></tr></table></div><div style=\"float: left; padding-right: 50px\"><h2>Zones</h2><table><tr><td style=\"background-color: rgb(127,127,127)\" width=\"20\"></td><td>Zone 0</td></tr></table></div>"
      ],
      "text/plain": [
       "<IPython.core.display.HTML object>"
      ]
     },
     "metadata": {},
     "output_type": "display_data"
    }
   ],
   "source": [
    "import cadquery as cq\n",
    "from ezmesh import GeometryQL\n",
    "\n",
    "\n",
    "with GeometryQL() as geo:\n",
    "    geo = (\n",
    "        geo\n",
    "        .load(  \n",
    "            cq.Workplane(\"XY\")\n",
    "            .polyline([(0,0), (1,0), (2,0.5), (2,2), (1, 2), (0,2)])\n",
    "            .close()\n",
    "        )\n",
    "        .edges(\"<X\")\n",
    "        .addPhysicalGroup(\"inlet\")\n",
    "        .end()\n",
    "\n",
    "        .edges(\">X\")\n",
    "        .addPhysicalGroup(\"outlet\")\n",
    "        .end()\n",
    "        \n",
    "        .edges(\">Y\")\n",
    "        .addPhysicalGroup(\"freestream\")\n",
    "        .end()\n",
    "\n",
    "        # .edges(\"<Y\")\n",
    "        # .addPhysicalGroup(\"wall\")\n",
    "        # .show()\n",
    "        # .end()\n",
    "\n",
    "        .generate()\n",
    "        .show(\"mesh\")\n",
    "    )\n"
   ]
  },
  {
   "cell_type": "code",
   "execution_count": null,
   "metadata": {},
   "outputs": [],
   "source": []
  }
 ],
 "metadata": {
  "kernelspec": {
   "display_name": "Python 3",
   "language": "python",
   "name": "python3"
  },
  "language_info": {
   "codemirror_mode": {
    "name": "ipython",
    "version": 3
   },
   "file_extension": ".py",
   "mimetype": "text/x-python",
   "name": "python",
   "nbconvert_exporter": "python",
   "pygments_lexer": "ipython3",
   "version": "3.11.4"
  },
  "orig_nbformat": 4
 },
 "nbformat": 4,
 "nbformat_minor": 2
}
