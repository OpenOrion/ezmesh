{
 "cells": [
  {
   "attachments": {},
   "cell_type": "markdown",
   "metadata": {},
   "source": [
    "# Sturctured Grid\n",
    "Following this Youtube tutorial: https://www.youtube.com/watch?v=-wm2LzCFvQQ"
   ]
  },
  {
   "cell_type": "code",
   "execution_count": 19,
   "metadata": {},
   "outputs": [
    {
     "name": "stdout",
     "output_type": "stream",
     "text": [
      "Info    : Meshing 1D...\n",
      "Info    : [  0%] Meshing curve 1 (Line)\n",
      "Info    : [ 20%] Meshing curve 2 (Line)\n",
      "Info    : [ 40%] Meshing curve 3 (Line)\n",
      "Info    : [ 50%] Meshing curve 4 (Line)\n",
      "Info    : [ 70%] Meshing curve 5 (Line)\n",
      "Info    : [ 90%] Meshing curve 6 (Line)\n",
      "Info    : Done meshing 1D (Wall 0.00105832s, CPU 0.000407s)\n",
      "Info    : Meshing 2D...\n",
      "Info    : Meshing surface 1 (Transfinite)\n",
      "Info    : Done meshing 2D (Wall 0.000853646s, CPU 0.000851s)\n",
      "Info    : Meshing 3D...\n",
      "Info    : Done meshing 3D (Wall 1.067e-05s, CPU 1.1e-05s)\n",
      "Info    : 2626 nodes 5256 elements\n"
     ]
    },
    {
     "data": {
      "application/vnd.jupyter.widget-view+json": {
       "model_id": "d79d1f232be049588c4e891145d1e92f",
       "version_major": 2,
       "version_minor": 0
      },
      "text/plain": [
       "HTML(value='Coords: ()')"
      ]
     },
     "metadata": {},
     "output_type": "display_data"
    },
    {
     "data": {
      "application/vnd.jupyter.widget-view+json": {
       "model_id": "20bd4bcf8a2140fb94788a87306778c0",
       "version_major": 2,
       "version_minor": 0
      },
      "text/plain": [
       "Renderer(camera=PerspectiveCamera(aspect=1.3333333333333333, far=1000.0, near=0.001, position=(0.0, 0.0, 1.0),…"
      ]
     },
     "metadata": {},
     "output_type": "display_data"
    },
    {
     "data": {
      "text/html": [
       "<div style=\"float: left; padding-right: 50px\"><h2>Markers</h2><table><tr><td style=\"background-color: rgb(245,30,30)\" width=\"20\"></td><td>wall</td></tr><tr><td style=\"background-color: rgb(145,253,37)\" width=\"20\"></td><td>inlet</td></tr><tr><td style=\"background-color: rgb(12,250,250)\" width=\"20\"></td><td>freestream</td></tr><tr><td style=\"background-color: rgb(139,33,244)\" width=\"20\"></td><td>outlet</td></tr></table></div><div style=\"float: left; padding-right: 50px\"><h2>Zones</h2><table><tr><td style=\"background-color: rgb(127,127,127)\" width=\"20\"></td><td>Zone 0</td></tr></table></div>"
      ],
      "text/plain": [
       "<IPython.core.display.HTML object>"
      ]
     },
     "metadata": {},
     "output_type": "display_data"
    }
   ],
   "source": [
    "from ezmesh import CurveLoop, TransfinitePlaneSurface, Geometry, TransfinitePlaneSurface, PlaneSurface, visualize_mesh\n",
    "import numpy as np\n",
    "\n",
    "with Geometry() as geo:\n",
    "    square_coords = np.array([[0,0], [1,0], [2,0.5], [2,2], [1, 2], [0,2]])\n",
    "    loop = CurveLoop.from_coords(\n",
    "        square_coords, \n",
    "        mesh_size = 0.25, \n",
    "        labels=[\"wall/1\", \"wall/2\", \"outlet\", \"freestream/1\", \"freestream/2\", \"inlet\"],\n",
    "        cell_counts={\"inlet\": 25, \"outlet\": 25, \"wall/*\": 50, \"freestream/*\": 50},\n",
    "        mesh_coeffs={\"inlet\": 0.5, \"outlet\": 1.2},\n",
    "    )\n",
    "    surface = TransfinitePlaneSurface(\n",
    "        outlines=[loop],\n",
    "        corners=[loop.points[0], loop.points[2], loop.points[3], loop.points[5]]\n",
    "    )\n",
    "    mesh = geo.generate(surface)\n",
    "    visualize_mesh(mesh)\n"
   ]
  }
 ],
 "metadata": {
  "kernelspec": {
   "display_name": "Python 3",
   "language": "python",
   "name": "python3"
  },
  "language_info": {
   "codemirror_mode": {
    "name": "ipython",
    "version": 3
   },
   "file_extension": ".py",
   "mimetype": "text/x-python",
   "name": "python",
   "nbconvert_exporter": "python",
   "pygments_lexer": "ipython3",
   "version": "3.10.10"
  },
  "orig_nbformat": 4
 },
 "nbformat": 4,
 "nbformat_minor": 2
}
